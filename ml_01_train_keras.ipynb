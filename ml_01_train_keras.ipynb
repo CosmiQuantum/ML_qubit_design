{
 "cells": [
  {
   "cell_type": "markdown",
   "id": "374b8e1e",
   "metadata": {},
   "source": [
    "# Model Training (Keras)"
   ]
  },
  {
   "cell_type": "markdown",
   "id": "67e7659a-fe1b-4fdf-8c09-a398e498373b",
   "metadata": {},
   "source": [
    "## Configuration"
   ]
  },
  {
   "cell_type": "code",
   "execution_count": 1,
   "id": "c9418886-6a3f-4473-ae89-53bab6428eb2",
   "metadata": {},
   "outputs": [],
   "source": [
    "# The parameter file is where the hyperparameters are set\n",
    "\n",
    "from parameters import *"
   ]
  },
  {
   "cell_type": "markdown",
   "id": "e0d17135-58ce-45e4-9c16-1d1b76f34ea3",
   "metadata": {
    "tags": []
   },
   "source": [
    "## Library"
   ]
  },
  {
   "cell_type": "code",
   "execution_count": 2,
   "id": "fa89948c",
   "metadata": {},
   "outputs": [
    {
     "name": "stderr",
     "output_type": "stream",
     "text": [
      "2024-10-15 00:43:05.568004: E tensorflow/compiler/xla/stream_executor/cuda/cuda_dnn.cc:9342] Unable to register cuDNN factory: Attempting to register factory for plugin cuDNN when one has already been registered\n",
      "2024-10-15 00:43:05.568151: E tensorflow/compiler/xla/stream_executor/cuda/cuda_fft.cc:609] Unable to register cuFFT factory: Attempting to register factory for plugin cuFFT when one has already been registered\n",
      "2024-10-15 00:43:05.568163: E tensorflow/compiler/xla/stream_executor/cuda/cuda_blas.cc:1518] Unable to register cuBLAS factory: Attempting to register factory for plugin cuBLAS when one has already been registered\n",
      "2024-10-15 00:43:05.574775: I tensorflow/core/platform/cpu_feature_guard.cc:182] This TensorFlow binary is optimized to use available CPU instructions in performance-critical operations.\n",
      "To enable the following instructions: SSE4.1 SSE4.2 AVX AVX2 FMA, in other operations, rebuild TensorFlow with the appropriate compiler flags.\n"
     ]
    }
   ],
   "source": [
    "import tensorflow as tf\n",
    "from tensorflow.keras.models import Sequential, load_model\n",
    "from tensorflow.keras.layers import Input, Dense, Activation, Dropout, LeakyReLU\n",
    "from sklearn.preprocessing import LabelEncoder, StandardScaler\n",
    "from sklearn.preprocessing import MinMaxScaler\n",
    "from tensorflow.keras.callbacks import EarlyStopping, ModelCheckpoint, ReduceLROnPlateau\n",
    "import os\n",
    "import numpy as np\n",
    "import pandas as pd\n",
    "\n",
    "from tensorflow.keras import Sequential\n",
    "from tensorflow.keras.layers import Dense, Input, Dropout\n",
    "from tensorflow.keras.regularizers import l2\n",
    "from tensorflow.keras.callbacks import EarlyStopping, ModelCheckpoint\n",
    "from keras_tuner import HyperModel, RandomSearch\n",
    "from tensorflow.keras.models import load_model\n",
    "\n",
    "# Disable some console warnings\n",
    "os.environ['TF_XLA_FLAGS'] = '--tf_xla_enable_xla_devices'\n",
    "os.environ['TF_CPP_MIN_LOG_LEVEL'] = '2'"
   ]
  },
  {
   "cell_type": "code",
   "execution_count": 3,
   "id": "b35ed7bf-9c4f-41d4-8652-1fe11dd8c013",
   "metadata": {},
   "outputs": [],
   "source": [
    "seed = 0\n",
    "\n",
    "# Input seed value. if this value is the same, the random number generator will generate the same set of random values every time\n",
    "np.random.seed(seed)\n",
    "\n",
    "# Set the seed value for reproducibility in tensorflow\n",
    "tf.random.set_seed(seed)"
   ]
  },
  {
   "cell_type": "markdown",
   "id": "c6c9e65e-f247-4388-a274-6041e8cdcc27",
   "metadata": {},
   "source": [
    "## Check GPU"
   ]
  },
  {
   "cell_type": "code",
   "execution_count": 4,
   "id": "17dc079f-6430-41bc-8342-0cc5ffbe4a8b",
   "metadata": {
    "tags": []
   },
   "outputs": [
    {
     "name": "stdout",
     "output_type": "stream",
     "text": [
      "[name: \"/device:CPU:0\"\n",
      "device_type: \"CPU\"\n",
      "memory_limit: 268435456\n",
      "locality {\n",
      "}\n",
      "incarnation: 8593023914992003313\n",
      "xla_global_id: -1\n",
      ", name: \"/device:XLA_CPU:0\"\n",
      "device_type: \"XLA_CPU\"\n",
      "memory_limit: 17179869184\n",
      "locality {\n",
      "}\n",
      "incarnation: 7983410546489206150\n",
      "physical_device_desc: \"device: XLA_CPU device\"\n",
      "xla_global_id: -1\n",
      ", name: \"/device:GPU:0\"\n",
      "device_type: \"GPU\"\n",
      "memory_limit: 39188824064\n",
      "locality {\n",
      "  bus_id: 1\n",
      "  links {\n",
      "  }\n",
      "}\n",
      "incarnation: 12607939917051503720\n",
      "physical_device_desc: \"device: 0, name: NVIDIA A100 80GB PCIe MIG 4g.40gb, pci bus id: 0000:00:11.0, compute capability: 8.0\"\n",
      "xla_global_id: 416903419\n",
      ", name: \"/device:XLA_GPU:0\"\n",
      "device_type: \"XLA_GPU\"\n",
      "memory_limit: 17179869184\n",
      "locality {\n",
      "}\n",
      "incarnation: 6506304890848038904\n",
      "physical_device_desc: \"device: XLA_GPU device\"\n",
      "xla_global_id: -1\n",
      "]\n"
     ]
    },
    {
     "name": "stderr",
     "output_type": "stream",
     "text": [
      "2024-10-15 00:43:12.428408: I tensorflow/compiler/xla/service/service.cc:168] XLA service 0x55909669c9b0 initialized for platform Host (this does not guarantee that XLA will be used). Devices:\n",
      "2024-10-15 00:43:12.428479: I tensorflow/compiler/xla/service/service.cc:176]   StreamExecutor device (0): Host, Default Version\n",
      "2024-10-15 00:43:12.428799: E ./tensorflow/compiler/xla/stream_executor/stream_executor_internal.h:124] SetPriority unimplemented for this stream.\n",
      "2024-10-15 00:43:12.438598: I tensorflow/compiler/xla/stream_executor/cuda/cuda_gpu_executor.cc:894] successful NUMA node read from SysFS had negative value (-1), but there must be at least one NUMA node, so returning NUMA node zero. See more at https://github.com/torvalds/linux/blob/v6.0/Documentation/ABI/testing/sysfs-bus-pci#L344-L355\n",
      "2024-10-15 00:43:12.478914: I tensorflow/compiler/xla/stream_executor/cuda/cuda_gpu_executor.cc:894] successful NUMA node read from SysFS had negative value (-1), but there must be at least one NUMA node, so returning NUMA node zero. See more at https://github.com/torvalds/linux/blob/v6.0/Documentation/ABI/testing/sysfs-bus-pci#L344-L355\n",
      "2024-10-15 00:43:12.479149: I tensorflow/compiler/xla/stream_executor/cuda/cuda_gpu_executor.cc:894] successful NUMA node read from SysFS had negative value (-1), but there must be at least one NUMA node, so returning NUMA node zero. See more at https://github.com/torvalds/linux/blob/v6.0/Documentation/ABI/testing/sysfs-bus-pci#L344-L355\n",
      "2024-10-15 00:43:12.557785: I tensorflow/compiler/xla/stream_executor/cuda/cuda_gpu_executor.cc:894] successful NUMA node read from SysFS had negative value (-1), but there must be at least one NUMA node, so returning NUMA node zero. See more at https://github.com/torvalds/linux/blob/v6.0/Documentation/ABI/testing/sysfs-bus-pci#L344-L355\n",
      "2024-10-15 00:43:12.558044: I tensorflow/compiler/xla/stream_executor/cuda/cuda_gpu_executor.cc:894] successful NUMA node read from SysFS had negative value (-1), but there must be at least one NUMA node, so returning NUMA node zero. See more at https://github.com/torvalds/linux/blob/v6.0/Documentation/ABI/testing/sysfs-bus-pci#L344-L355\n",
      "2024-10-15 00:43:12.558219: I tensorflow/compiler/xla/stream_executor/cuda/cuda_gpu_executor.cc:894] successful NUMA node read from SysFS had negative value (-1), but there must be at least one NUMA node, so returning NUMA node zero. See more at https://github.com/torvalds/linux/blob/v6.0/Documentation/ABI/testing/sysfs-bus-pci#L344-L355\n",
      "2024-10-15 00:43:12.558334: I tensorflow/core/common_runtime/gpu/gpu_device.cc:1886] Created device /device:GPU:0 with 37373 MB memory:  -> device: 0, name: NVIDIA A100 80GB PCIe MIG 4g.40gb, pci bus id: 0000:00:11.0, compute capability: 8.0\n",
      "2024-10-15 00:43:12.561178: I tensorflow/compiler/xla/service/service.cc:168] XLA service 0x559097430380 initialized for platform CUDA (this does not guarantee that XLA will be used). Devices:\n",
      "2024-10-15 00:43:12.561198: I tensorflow/compiler/xla/service/service.cc:176]   StreamExecutor device (0): NVIDIA A100 80GB PCIe MIG 4g.40gb, Compute Capability 8.0\n"
     ]
    }
   ],
   "source": [
    "\n",
    "from tensorflow.python.client import device_lib\n",
    "print(device_lib.list_local_devices())"
   ]
  },
  {
   "cell_type": "markdown",
   "id": "9b4ad03d-ae5d-4bc6-b055-3e8579849c5d",
   "metadata": {},
   "source": [
    "## Dataset"
   ]
  },
  {
   "cell_type": "markdown",
   "id": "f13d0b8c-6699-4caf-b257-abc4f8e49b99",
   "metadata": {},
   "source": [
    "### Load"
   ]
  },
  {
   "cell_type": "code",
   "execution_count": 5,
   "id": "667c238f-0e0f-4e4c-b185-f76d1ca261ea",
   "metadata": {},
   "outputs": [],
   "source": [
    "# Keeping DATA_AUGMENTATION 'True' for now so everything scales between 0 and 1\n",
    "if DATA_AUGMENTATION:\n",
    "    X_train_val = np.load('{}/npy/x_{}_train_val_augmented.npy'.format(DATA_DIR, PARAM), allow_pickle=True)\n",
    "    X_test = np.load('{}/npy/x_{}_test_augmented.npy'.format(DATA_DIR, PARAM), allow_pickle=True)\n",
    "    \n",
    "    X_train_val_log = np.load('{}/npy/x_{}_train_val_augmented_log.npy'.format(DATA_DIR, PARAM), allow_pickle=True)\n",
    "    X_test_log = np.load('{}/npy/x_{}_test_augmented_log.npy'.format(DATA_DIR, PARAM), allow_pickle=True)\n",
    "    \n",
    "    y_train_val = np.load('{}/npy/y_{}_train_val_augmented.npy'.format(DATA_DIR, PARAM), allow_pickle=True)\n",
    "    y_test = np.load('{}/npy/y_{}_test_augmented.npy'.format(DATA_DIR, PARAM), allow_pickle=True)  \n",
    "else:\n",
    "    X_train_val = np.load('{}/npy/x_{}_train_val.npy'.format(DATA_DIR, PARAM), allow_pickle=True)\n",
    "    X_test = np.load('{}/npy/x_{}_test.npy'.format(DATA_DIR, PARAM), allow_pickle=True)\n",
    "    \n",
    "    X_train_val_log = np.load('{}/npy/x_{}_train_val_log.npy'.format(DATA_DIR, PARAM), allow_pickle=True)\n",
    "    X_test_log = np.load('{}/npy/x_{}_test_log.npy'.format(DATA_DIR, PARAM), allow_pickle=True)\n",
    "    \n",
    "    y_train_val = np.load('{}/npy/y_{}_train_val.npy'.format(DATA_DIR, PARAM), allow_pickle=True)\n",
    "    y_test = np.load('{}/npy/y_{}_test.npy'.format(DATA_DIR, PARAM), allow_pickle=True)"
   ]
  },
  {
   "cell_type": "markdown",
   "id": "47ec9efd-ee93-429d-95b4-4e6efef296db",
   "metadata": {},
   "source": [
    "### Visualize"
   ]
  },
  {
   "cell_type": "code",
   "execution_count": 6,
   "id": "fcb45684",
   "metadata": {},
   "outputs": [
    {
     "name": "stdout",
     "output_type": "stream",
     "text": [
      "(160000, 10)\n",
      "(160000, 3)\n",
      "[ 1.0259    2.3879    1.2497    6.2514    1.0404    1.3463    0.023697\n",
      " 19.098     2.1097    2.0468  ]\n"
     ]
    }
   ],
   "source": [
    "print(y_train_val.shape)\n",
    "print(X_train_val.shape)\n",
    "print(y_test[0])"
   ]
  },
  {
   "cell_type": "code",
   "execution_count": 7,
   "id": "95debf17-6de3-49fc-9064-b01c985c3665",
   "metadata": {},
   "outputs": [
    {
     "name": "stdout",
     "output_type": "stream",
     "text": [
      "---------------------------------------\n",
      "Train-and-validation set shape: 160000, 80.00%\n",
      "Test set shape:                 40000, 20.00%\n",
      "---------------------------------------\n"
     ]
    }
   ],
   "source": [
    "#number of values in the training set and test set, these are probably pulling from the data files individual points\n",
    "\n",
    "total = len(y_train_val) + len(y_test)\n",
    "print('---------------------------------------')  \n",
    "print('Train-and-validation set shape: {}, {:.2f}%'.format(len(y_train_val), (len(y_train_val)*100.)/total))\n",
    "print('Test set shape:                 {}, {:.2f}%'.format(len(y_test), (len(y_test)*100.)/total))\n",
    "print('---------------------------------------')"
   ]
  },
  {
   "cell_type": "code",
   "execution_count": 8,
   "id": "6f6e25c0",
   "metadata": {},
   "outputs": [],
   "source": [
    "#%matplotlib ipympl\n",
    "%matplotlib inline\n",
    "import matplotlib.pyplot as plt\n",
    "#from mpl_toolkits.mplot3d import Axes3D"
   ]
  },
  {
   "cell_type": "code",
   "execution_count": 9,
   "id": "3c5caee4-774f-4a7b-86ea-e3f1d3958d38",
   "metadata": {},
   "outputs": [
    {
     "data": {
      "text/plain": [
       "\"fig = plt.figure(figsize=(12, 12))\\nax = fig.add_subplot(projection='3d')\\n\\nfor i in range(len(X_train_val)):\\n    Vg, Vd, Id = X_train_val[i]\\n    ax.scatter(Vg, Vd, Id, s=1)  \\nfor i in range(len(X_test)):\\n    Vg, Vd, Id = X_test[i]\\n    ax.scatter(Vg, Vd, Id, s=1)\\n_ = ax.set_xlabel('Vg (gate voltage)')\\n_ = ax.set_ylabel('Vd (drain voltage)')\\n_ = ax.set_zlabel('Id (drain current)')\\n_ = ax.set_title('Linear')\\n\\n\\nfig2 = plt.figure(figsize=(12, 12))\\nax2 = fig2.add_subplot(projection='3d')\\nfor i in range(len(X_train_val_log)):\\n    Vg, Vd, Id = X_train_val_log[i]\\n    ax2.scatter(Vg, Vd, Id,s=1)  \\nfor i in range(len(X_test_log)):\\n    Vg, Vd, Id = X_test_log[i]\\n    ax2.scatter(Vg, Vd, Id, s=1)\\n_ = ax2.set_xlabel('Vg (gate voltage)')\\n_ = ax2.set_ylabel('Vd (drain voltage)')\\n_ = ax2.set_zlabel('Id (drain current)')\\n_ = ax2.set_title('Log')\\n\""
      ]
     },
     "execution_count": 9,
     "metadata": {},
     "output_type": "execute_result"
    }
   ],
   "source": [
    "'''fig = plt.figure(figsize=(12, 12))\n",
    "ax = fig.add_subplot(projection='3d')\n",
    "\n",
    "for i in range(len(X_train_val)):\n",
    "    Vg, Vd, Id = X_train_val[i]\n",
    "    ax.scatter(Vg, Vd, Id, s=1)  \n",
    "for i in range(len(X_test)):\n",
    "    Vg, Vd, Id = X_test[i]\n",
    "    ax.scatter(Vg, Vd, Id, s=1)\n",
    "_ = ax.set_xlabel('Vg (gate voltage)')\n",
    "_ = ax.set_ylabel('Vd (drain voltage)')\n",
    "_ = ax.set_zlabel('Id (drain current)')\n",
    "_ = ax.set_title('Linear')\n",
    "\n",
    "\n",
    "fig2 = plt.figure(figsize=(12, 12))\n",
    "ax2 = fig2.add_subplot(projection='3d')\n",
    "for i in range(len(X_train_val_log)):\n",
    "    Vg, Vd, Id = X_train_val_log[i]\n",
    "    ax2.scatter(Vg, Vd, Id,s=1)  \n",
    "for i in range(len(X_test_log)):\n",
    "    Vg, Vd, Id = X_test_log[i]\n",
    "    ax2.scatter(Vg, Vd, Id, s=1)\n",
    "_ = ax2.set_xlabel('Vg (gate voltage)')\n",
    "_ = ax2.set_ylabel('Vd (drain voltage)')\n",
    "_ = ax2.set_zlabel('Id (drain current)')\n",
    "_ = ax2.set_title('Log')\n",
    "'''"
   ]
  },
  {
   "cell_type": "code",
   "execution_count": 10,
   "id": "78b32e05-b5df-4647-8dae-6ee5f8cddcca",
   "metadata": {},
   "outputs": [
    {
     "data": {
      "text/plain": [
       "\"fig.savefig('plots/loadedDataLin.png')\\nfig2.savefig('plots/loadedDataLog.png')\\nplt.close()\""
      ]
     },
     "execution_count": 10,
     "metadata": {},
     "output_type": "execute_result"
    }
   ],
   "source": [
    "'''fig.savefig('plots/loadedDataLin.png')\n",
    "fig2.savefig('plots/loadedDataLog.png')\n",
    "plt.close()'''"
   ]
  },
  {
   "cell_type": "markdown",
   "id": "0ef23346-cb19-46ca-9a9f-76101f6610ee",
   "metadata": {},
   "source": [
    "### Prepare"
   ]
  },
  {
   "cell_type": "code",
   "execution_count": 11,
   "id": "b69782bc-b4eb-49f3-921f-8e80636034bc",
   "metadata": {
    "scrolled": true
   },
   "outputs": [
    {
     "name": "stdout",
     "output_type": "stream",
     "text": [
      "(602,)\n"
     ]
    }
   ],
   "source": [
    "# Only grab drain current for now, because we have a fixed set of biases. \n",
    "# Combine the linear and log scale data (linear first, then log) into the same target dataset\n",
    "\n",
    "lin_log_X_train = []\n",
    "for i in range(0,len(X_train_val)):\n",
    "    flattened = X_train_val[i][2]\n",
    "    logId = X_train_val_log[i][2]\n",
    "    flattened.extend(logId)\n",
    "    lin_log_X_train.append(np.asarray(flattened))\n",
    "\n",
    "lin_log_X_test = []\n",
    "for i in range(0,len(X_test)):\n",
    "    flattened2 = X_test[i][2]\n",
    "    logId2 = X_test_log[i][2]\n",
    "    flattened2.extend(logId2)\n",
    "    lin_log_X_test.append(np.asarray(flattened2))\n",
    "\n",
    "print(lin_log_X_test[0].shape)"
   ]
  },
  {
   "cell_type": "markdown",
   "id": "61ecc581",
   "metadata": {},
   "source": [
    "## MLP"
   ]
  },
  {
   "cell_type": "markdown",
   "id": "251cf19c",
   "metadata": {},
   "source": [
    "### Create model"
   ]
  },
  {
   "cell_type": "markdown",
   "id": "8bb4f8c5",
   "metadata": {},
   "source": [
    "Create a classical multi-layer perceptron for regression: 602 input features, 10 targets, and a certain number of hidden layers and neurons. Taking some inspiration from [Deep learning-based I-V Global Parameter Extraction for BSIM-CMG](https://www.sciencedirect.com/science/article/pii/S003811012300179X), Solid-State Electronics, Vol. 209, November 2023."
   ]
  },
  {
   "cell_type": "markdown",
   "id": "d945bd67-9923-4f7c-8e32-56672a6c3a4a",
   "metadata": {},
   "source": [
    "Reccomended to download a third party app like \"Sleep control Center\" or \"Amphetamine\" to prevent computer from sleeping during the many hour/day long training process"
   ]
  },
  {
   "cell_type": "markdown",
   "id": "fcc4f485-e3da-4663-832c-3bc917660e45",
   "metadata": {},
   "source": [
    "### Create Model by Hand"
   ]
  },
  {
   "cell_type": "code",
   "execution_count": 12,
   "id": "ce671ad6",
   "metadata": {},
   "outputs": [],
   "source": [
    "# Multilayer perceptron (MLP) with 601 input features. MLP is having neurons that adjust rules based on how accurate they can guess things\n",
    "model_shape = 'mlp_602_'\n",
    "\n",
    "# Define the number on neurons in the inner layer (in parameter file)\n",
    "model_shape += '_'.join(str(l) for l in NEURONS_PER_LAYER)\n",
    "\n",
    "# 10 output neurons for 10 parameters\n",
    "model_shape += '_10'"
   ]
  },
  {
   "cell_type": "code",
   "execution_count": 13,
   "id": "85ba881d-a212-402c-86d8-ed5ab2bed357",
   "metadata": {},
   "outputs": [
    {
     "name": "stderr",
     "output_type": "stream",
     "text": [
      "2024-10-14 21:59:51.808736: I tensorflow/compiler/xla/stream_executor/cuda/cuda_gpu_executor.cc:894] successful NUMA node read from SysFS had negative value (-1), but there must be at least one NUMA node, so returning NUMA node zero. See more at https://github.com/torvalds/linux/blob/v6.0/Documentation/ABI/testing/sysfs-bus-pci#L344-L355\n",
      "2024-10-14 21:59:51.809068: I tensorflow/compiler/xla/stream_executor/cuda/cuda_gpu_executor.cc:894] successful NUMA node read from SysFS had negative value (-1), but there must be at least one NUMA node, so returning NUMA node zero. See more at https://github.com/torvalds/linux/blob/v6.0/Documentation/ABI/testing/sysfs-bus-pci#L344-L355\n",
      "2024-10-14 21:59:51.809260: I tensorflow/compiler/xla/stream_executor/cuda/cuda_gpu_executor.cc:894] successful NUMA node read from SysFS had negative value (-1), but there must be at least one NUMA node, so returning NUMA node zero. See more at https://github.com/torvalds/linux/blob/v6.0/Documentation/ABI/testing/sysfs-bus-pci#L344-L355\n",
      "2024-10-14 21:59:51.809764: I tensorflow/compiler/xla/stream_executor/cuda/cuda_gpu_executor.cc:894] successful NUMA node read from SysFS had negative value (-1), but there must be at least one NUMA node, so returning NUMA node zero. See more at https://github.com/torvalds/linux/blob/v6.0/Documentation/ABI/testing/sysfs-bus-pci#L344-L355\n",
      "2024-10-14 21:59:51.809962: I tensorflow/compiler/xla/stream_executor/cuda/cuda_gpu_executor.cc:894] successful NUMA node read from SysFS had negative value (-1), but there must be at least one NUMA node, so returning NUMA node zero. See more at https://github.com/torvalds/linux/blob/v6.0/Documentation/ABI/testing/sysfs-bus-pci#L344-L355\n",
      "2024-10-14 21:59:51.810138: I tensorflow/compiler/xla/stream_executor/cuda/cuda_gpu_executor.cc:894] successful NUMA node read from SysFS had negative value (-1), but there must be at least one NUMA node, so returning NUMA node zero. See more at https://github.com/torvalds/linux/blob/v6.0/Documentation/ABI/testing/sysfs-bus-pci#L344-L355\n",
      "2024-10-14 21:59:51.810388: I tensorflow/compiler/xla/stream_executor/cuda/cuda_gpu_executor.cc:894] successful NUMA node read from SysFS had negative value (-1), but there must be at least one NUMA node, so returning NUMA node zero. See more at https://github.com/torvalds/linux/blob/v6.0/Documentation/ABI/testing/sysfs-bus-pci#L344-L355\n",
      "2024-10-14 21:59:51.810563: I tensorflow/compiler/xla/stream_executor/cuda/cuda_gpu_executor.cc:894] successful NUMA node read from SysFS had negative value (-1), but there must be at least one NUMA node, so returning NUMA node zero. See more at https://github.com/torvalds/linux/blob/v6.0/Documentation/ABI/testing/sysfs-bus-pci#L344-L355\n",
      "2024-10-14 21:59:51.810700: I tensorflow/core/common_runtime/gpu/gpu_device.cc:1886] Created device /job:localhost/replica:0/task:0/device:GPU:0 with 37361 MB memory:  -> device: 0, name: NVIDIA A100 80GB PCIe MIG 4g.40gb, pci bus id: 0000:00:11.0, compute capability: 8.0\n"
     ]
    }
   ],
   "source": [
    "# Initialize a sequential model, which lets us build a linear stack of layers\n",
    "model = Sequential()\n",
    "\n",
    "# Add an input layer to the model. This layer defines the shape of the input data (602 features per sample), sets dimensions of following layers\n",
    "model.add(Input(shape=(602,), name='input1'))\n",
    "\n",
    "# Iterate over the configuration of neurons for each hidden layer specified in NEURONS_PER_LAYER\n",
    "for i, n in enumerate(NEURONS_PER_LAYER):\n",
    "    # Add a fully connected (dense) hidden layer with spec ified number of neurons\n",
    "    # The LeCun uniform initializer is used when initializing weights, this makes the model more stable\n",
    "    # L2 regularization is used in each layer to penalizing large weights, which prevents overfitting\n",
    "    model.add(Dense(n, name='fc{}'.format(i), kernel_initializer='lecun_uniform', kernel_regularizer=tf.keras.regularizers.l2(0.001)))\n",
    "\n",
    "    # Apply a Leaky ReLU activation function to the outputs of the dense layer\n",
    "    # This introduces non-linearities, allowing the network to learn complex functions\n",
    "    # Leaky ReLU is chosen over standard ReLU to help mitigate the \"dying ReLU\" problem:\n",
    "    #     - This problem is when neurons using the ReLU activation function output zero for all inputs and stop learning\n",
    "    #     - Can be mitigated by using variations like Leaky ReLU or proper initialization\n",
    "    model.add(LeakyReLU(alpha=0.01, name='leaky_relu{}'.format(i)))\n",
    "    \n",
    "    # Add a dropout layer to reduce overfitting -- randomly drops a set fraction (like 30%) of outputs from the layer\n",
    "    model.add(Dropout(rate=TRAIN_DROPOUT_RATE, name='dropout{}'.format(i)))\n",
    "\n",
    "# Add the output layer consisting of 10 neurons, corresponding to the 10 target variables we aim to predict.\n",
    "# The same LeCun uniform initializer is used to ensure consistency and stability at the output layer as well.\n",
    "model.add(Dense(10, name='fc{}'.format(len(NEURONS_PER_LAYER)), kernel_initializer='lecun_uniform'))"
   ]
  },
  {
   "cell_type": "code",
   "execution_count": 14,
   "id": "e0181fd2-e4ee-4e41-aaae-4603c1a853cb",
   "metadata": {},
   "outputs": [
    {
     "name": "stderr",
     "output_type": "stream",
     "text": [
      "2024-10-14 21:59:52.441118: I tensorflow/tsl/platform/default/subprocess.cc:304] Start cannot spawn child process: No such file or directory\n"
     ]
    }
   ],
   "source": [
    "# The exponential decay learning rate schedule gradually reduces the learning rate, fine-tuning the learning process for better convergence\n",
    "lr_schedule = tf.keras.optimizers.schedules.ExponentialDecay(\n",
    "    initial_learning_rate=LR_INITIAL,  \n",
    "    decay_steps=LR_DECAY_STEPS,        \n",
    "    decay_rate=LR_DECAY_RATE,          \n",
    "    staircase=LR_STAIRCASE             \n",
    ")\n",
    "\n",
    "# Set model to minimize loss specified by TRAIN_LOSS, and also to report the loss during training\n",
    "model.compile(\n",
    "    optimizer=tf.optimizers.Adam(learning_rate=lr_schedule),  \n",
    "    loss=TRAIN_LOSS,                                         \n",
    "    metrics=[TRAIN_LOSS]                                     \n",
    ")"
   ]
  },
  {
   "cell_type": "code",
   "execution_count": 15,
   "id": "44e3657d-d0ac-40e6-9829-694436270bb4",
   "metadata": {},
   "outputs": [],
   "source": [
    "!mkdir -p model\n",
    "best_model_file = 'model/{}_best_model.h5'.format(model_shape)\n",
    "last_model_file = 'model/{}_last_model.h5'.format(model_shape)"
   ]
  },
  {
   "cell_type": "markdown",
   "id": "49516260-5078-4162-ab99-cdb45f9f9827",
   "metadata": {},
   "source": [
    "Enable training (`train_and_save`) to overwrite the model file."
   ]
  },
  {
   "cell_type": "code",
   "execution_count": 16,
   "id": "c95e4501-3aea-4053-9788-30b4532d7f82",
   "metadata": {},
   "outputs": [],
   "source": [
    "train_and_save = True"
   ]
  },
  {
   "cell_type": "markdown",
   "id": "f2957910-f200-4e9f-91c3-6e7ed0926ceb",
   "metadata": {},
   "source": [
    "We use Adam optimizer, minimize the Mean Squared Logarithmic Error, and early stop."
   ]
  },
  {
   "cell_type": "markdown",
   "id": "e3a00680-7b7f-4877-babb-481f0682b7b3",
   "metadata": {
    "tags": []
   },
   "source": [
    "#### Training"
   ]
  },
  {
   "cell_type": "code",
   "execution_count": 17,
   "id": "96b4fdb2",
   "metadata": {},
   "outputs": [],
   "source": [
    "from IPython.display import clear_output\n",
    "\n",
    "class TrainingPlot(tf.keras.callbacks.Callback):\n",
    "     \n",
    "    # This function is called when the training begins\n",
    "    def on_train_begin(self, logs={}):\n",
    "        # Initialize the lists for holding the logs, losses \n",
    "        self.losses = []\n",
    "        self.val_losses = []\n",
    "        self.logs = []\n",
    "    \n",
    "    # This function is called at the end of each epoch\n",
    "    def on_epoch_end(self, epoch, logs={}):\n",
    "        \n",
    "        # Append the logs, losses  to the lists\n",
    "        self.logs.append(logs)\n",
    "        self.losses.append(logs.get('loss'))\n",
    "        self.val_losses.append(logs.get('val_loss'))\n",
    "        \n",
    "        # Before plotting ensure at least 2 epochs have passed\n",
    "        if len(self.losses) > 1:\n",
    "            \n",
    "            # Clear the previous plot\n",
    "            clear_output(wait=True)\n",
    "            N = np.arange(0, len(self.losses))\n",
    "            \n",
    "            # Plot train loss, train acc, val loss and val acc against epochs passed\n",
    "            plt.figure()\n",
    "            plt.plot(N, self.losses, label = \"train_loss\")\n",
    "            plt.plot(N, self.val_losses, label = \"val_loss\")\n",
    "            plt.title(\"Training Loss [Epoch {}]\".format(epoch))\n",
    "            plt.xlabel(\"Epoch #\")\n",
    "            plt.ylabel(\"Loss/Accuracy\")\n",
    "            plt.legend()\n",
    "            plt.show()\n",
    "       \n",
    "class LearningRateMonitor(tf.keras.callbacks.Callback):\n",
    "    def __init__(self):\n",
    "        super(LearningRateMonitor, self).__init__()\n",
    "        self.learning_rates = []\n",
    "\n",
    "    def on_epoch_end(self, epoch, logs=None):\n",
    "        lr = self.model.optimizer._current_learning_rate.read_value()\n",
    "        self.learning_rates.append(lr)\n",
    "        print(f\"Epoch: {epoch + 1}, Learning Rate: {lr:.10f}\")"
   ]
  },
  {
   "cell_type": "code",
   "execution_count": 18,
   "id": "ef223c28-cc33-4721-b049-be7023eb13ea",
   "metadata": {},
   "outputs": [
    {
     "data": {
      "image/png": "[encoded data removed]",
      "text/plain": [
       "<Figure size 640x480 with 1 Axes>"
      ]
     },
     "metadata": {},
     "output_type": "display_data"
    },
    {
     "name": "stdout",
     "output_type": "stream",
     "text": [
      "Epoch: 88, Learning Rate: 0.0000000000\n",
      "4000/4000 [==============================] - 25s 6ms/step - loss: 1.0267 - mean_squared_error: 0.7476 - val_loss: 1.0385 - val_mean_squared_error: 0.7593\n",
      "Epoch 88: early stopping\n",
      "CPU times: user 38min 41s, sys: 3min 18s, total: 42min\n",
      "Wall time: 37min 30s\n"
     ]
    }
   ],
   "source": [
    "%%time\n",
    "history = None  \n",
    "\n",
    "if train_and_save: \n",
    "    # Set up early stopping to prevent overfitting by halting training when validation loss stops improving\n",
    "    early_stopping = EarlyStopping(\n",
    "        monitor='val_loss',                      # Monitor validation loss for stopping criteria \n",
    "        mode='min',                              # Stop when the monitored quantity has stopped decreasing\n",
    "        patience=TRAIN_EARLY_STOPPING_PATIENCE,  # Number of epochs to wait after last improvement\n",
    "        verbose=1                                # Enable logging when early stopping happens\n",
    "    )\n",
    "\n",
    "    # Set up model checkpointing to save the model at its best validation loss:\n",
    "    model_checkpoint = ModelCheckpoint(\n",
    "        filepath=best_model_file,          \n",
    "        monitor='val_loss',            # Save the model based on validation loss improvement\n",
    "        mode='min',                    # Favor lower validation loss values for saving (minimize)\n",
    "        save_best_only=True,           # Save only when validation loss improves\n",
    "        verbose=0                      # No logging for model saving\n",
    "    )\n",
    "    \n",
    "    plot_callback = TrainingPlot()      # Plot training progress\n",
    "    lr_monitor = LearningRateMonitor()  # Watch learning rate changes\n",
    "\n",
    "    # Train the model on the training data and validate on a portion of it\n",
    "    history = model.fit(\n",
    "        np.asarray(lin_log_X_train),  \n",
    "        np.asarray(y_train_val),      \n",
    "        epochs=100,                   \n",
    "        batch_size=TRAIN_BATCH_SIZE,  \n",
    "        validation_split=TRAIN_VALIDATION_SPLIT,  \n",
    "        callbacks=[early_stopping, model_checkpoint, plot_callback, lr_monitor],  \n",
    "        verbose=1  # Enable logging of the training process.\n",
    "    )\n",
    "    \n",
    "    model.save(last_model_file)  # Save the final model when done training!\n"
   ]
  },
  {
   "cell_type": "markdown",
   "id": "a4a4074c-a8ef-4a69-a8cd-5714edb90166",
   "metadata": {},
   "source": [
    "Load the saved best model and use it from now on."
   ]
  },
  {
   "cell_type": "code",
   "execution_count": 19,
   "id": "2447145e-91b5-4070-aefe-38f8e6bc33de",
   "metadata": {},
   "outputs": [],
   "source": [
    "model = load_model(best_model_file, custom_objects={})"
   ]
  },
  {
   "cell_type": "markdown",
   "id": "b002f4a5-df05-4ff2-be6d-24f8027ca4ea",
   "metadata": {},
   "source": [
    "### Keras Tuner to Find Best Hyperparameters and Model"
   ]
  },
  {
   "cell_type": "markdown",
   "id": "6efe2de3-ba0a-4103-bfd1-466d73bd9b8c",
   "metadata": {},
   "source": [
    "Run this if you want to use keras tuner to make the model rather than doing it by hand"
   ]
  },
  {
   "cell_type": "code",
   "execution_count": 12,
   "id": "2d804553-ae82-4f8f-9182-806c7f22b531",
   "metadata": {},
   "outputs": [],
   "source": [
    "from tensorflow.keras import Sequential\n",
    "from tensorflow.keras.layers import Dense, Input, Dropout\n",
    "from tensorflow.keras.regularizers import l2\n",
    "from tensorflow.keras.callbacks import EarlyStopping, ModelCheckpoint\n",
    "from keras_tuner import HyperModel, RandomSearch\n",
    "from tensorflow.keras.models import load_model"
   ]
  },
  {
   "cell_type": "code",
   "execution_count": 13,
   "id": "081aa70b-c54e-48af-b895-5e9ddd2746cc",
   "metadata": {},
   "outputs": [],
   "source": [
    "def build_hypermodel(hp):\n",
    "    # Hyperparameters to tune\n",
    "    neurons_per_layer = [hp.Int(f'neurons_{i}', min_value=100, max_value=5000, step=100) for i in range(4)]\n",
    "    dropout_rate = hp.Float('dropout_rate', TRAIN_DROPOUT_RATE, 0.5, step=0.1)\n",
    "    \n",
    "    # Create Model in the same way that we do by hand\n",
    "    model = Sequential()\n",
    "    model.add(Input(shape=(602,), name='input1'))\n",
    "\n",
    "    for i, n in enumerate(neurons_per_layer):\n",
    "        model.add(Dense(n, name=f'fc{i}', kernel_initializer='lecun_uniform', kernel_regularizer=tf.keras.regularizers.l2(0.001)))\n",
    "        model.add(LeakyReLU(alpha=0.01, name=f'leaky_relu{i}'))\n",
    "        model.add(Dropout(rate=dropout_rate, name=f'dropout{i}'))\n",
    "\n",
    "    model.add(Dense(10, name='output', kernel_initializer='lecun_uniform'))\n",
    "\n",
    "    # Learning rate configuration\n",
    "    lr_initial = hp.Float('learning_rate', 1e-6, 5e-3, sampling='LOG', default=0.0001)\n",
    "    lr_schedule = tf.keras.optimizers.schedules.ExponentialDecay(\n",
    "        initial_learning_rate=lr_initial,\n",
    "        decay_steps=LR_DECAY_STEPS,\n",
    "        decay_rate=LR_DECAY_RATE,\n",
    "        staircase=LR_STAIRCASE\n",
    "    )\n",
    "\n",
    "    model.compile(optimizer=tf.optimizers.Adam(learning_rate=lr_schedule), \n",
    "                  loss='mean_squared_error',\n",
    "                  metrics=['mean_squared_error'])\n",
    "    return model"
   ]
  },
  {
   "cell_type": "code",
   "execution_count": 14,
   "id": "2cfea157-b0b4-4148-8d0a-e37c877877a4",
   "metadata": {},
   "outputs": [
    {
     "name": "stderr",
     "output_type": "stream",
     "text": [
      "2024-10-15 00:44:17.729955: I tensorflow/compiler/xla/stream_executor/cuda/cuda_gpu_executor.cc:894] successful NUMA node read from SysFS had negative value (-1), but there must be at least one NUMA node, so returning NUMA node zero. See more at https://github.com/torvalds/linux/blob/v6.0/Documentation/ABI/testing/sysfs-bus-pci#L344-L355\n",
      "2024-10-15 00:44:17.730299: I tensorflow/compiler/xla/stream_executor/cuda/cuda_gpu_executor.cc:894] successful NUMA node read from SysFS had negative value (-1), but there must be at least one NUMA node, so returning NUMA node zero. See more at https://github.com/torvalds/linux/blob/v6.0/Documentation/ABI/testing/sysfs-bus-pci#L344-L355\n",
      "2024-10-15 00:44:17.730523: I tensorflow/compiler/xla/stream_executor/cuda/cuda_gpu_executor.cc:894] successful NUMA node read from SysFS had negative value (-1), but there must be at least one NUMA node, so returning NUMA node zero. See more at https://github.com/torvalds/linux/blob/v6.0/Documentation/ABI/testing/sysfs-bus-pci#L344-L355\n",
      "2024-10-15 00:44:17.731085: I tensorflow/compiler/xla/stream_executor/cuda/cuda_gpu_executor.cc:894] successful NUMA node read from SysFS had negative value (-1), but there must be at least one NUMA node, so returning NUMA node zero. See more at https://github.com/torvalds/linux/blob/v6.0/Documentation/ABI/testing/sysfs-bus-pci#L344-L355\n",
      "2024-10-15 00:44:17.731324: I tensorflow/compiler/xla/stream_executor/cuda/cuda_gpu_executor.cc:894] successful NUMA node read from SysFS had negative value (-1), but there must be at least one NUMA node, so returning NUMA node zero. See more at https://github.com/torvalds/linux/blob/v6.0/Documentation/ABI/testing/sysfs-bus-pci#L344-L355\n",
      "2024-10-15 00:44:17.731547: I tensorflow/compiler/xla/stream_executor/cuda/cuda_gpu_executor.cc:894] successful NUMA node read from SysFS had negative value (-1), but there must be at least one NUMA node, so returning NUMA node zero. See more at https://github.com/torvalds/linux/blob/v6.0/Documentation/ABI/testing/sysfs-bus-pci#L344-L355\n",
      "2024-10-15 00:44:17.731850: I tensorflow/compiler/xla/stream_executor/cuda/cuda_gpu_executor.cc:894] successful NUMA node read from SysFS had negative value (-1), but there must be at least one NUMA node, so returning NUMA node zero. See more at https://github.com/torvalds/linux/blob/v6.0/Documentation/ABI/testing/sysfs-bus-pci#L344-L355\n",
      "2024-10-15 00:44:17.732076: I tensorflow/compiler/xla/stream_executor/cuda/cuda_gpu_executor.cc:894] successful NUMA node read from SysFS had negative value (-1), but there must be at least one NUMA node, so returning NUMA node zero. See more at https://github.com/torvalds/linux/blob/v6.0/Documentation/ABI/testing/sysfs-bus-pci#L344-L355\n",
      "2024-10-15 00:44:17.732241: I tensorflow/core/common_runtime/gpu/gpu_device.cc:1886] Created device /job:localhost/replica:0/task:0/device:GPU:0 with 37373 MB memory:  -> device: 0, name: NVIDIA A100 80GB PCIe MIG 4g.40gb, pci bus id: 0000:00:11.0, compute capability: 8.0\n",
      "2024-10-15 00:44:18.349004: I tensorflow/tsl/platform/default/subprocess.cc:304] Start cannot spawn child process: No such file or directory\n"
     ]
    }
   ],
   "source": [
    "# Start tuning\n",
    "tuner = RandomSearch(\n",
    "    build_hypermodel,\n",
    "    objective='val_loss',\n",
    "    max_trials=30,\n",
    "    executions_per_trial=1,\n",
    "    directory='hyper_tuning',\n",
    "    project_name='mlp_tuning'\n",
    ")"
   ]
  },
  {
   "cell_type": "code",
   "execution_count": 15,
   "id": "c11608cb-5b05-45af-af22-0bcab2827734",
   "metadata": {},
   "outputs": [],
   "source": [
    "# Setup Callbacks\n",
    "early_stopping = EarlyStopping(\n",
    "    monitor='val_loss',\n",
    "    mode='min',\n",
    "    patience=TRAIN_EARLY_STOPPING_PATIENCE,\n",
    "    verbose=1\n",
    ")"
   ]
  },
  {
   "cell_type": "code",
   "execution_count": null,
   "id": "15440869-6be6-4005-9db4-3b37695adc5c",
   "metadata": {},
   "outputs": [
    {
     "name": "stdout",
     "output_type": "stream",
     "text": [
      "Trial 22 Complete [00h 15m 09s]\n",
      "val_loss: 13.907928466796875\n",
      "\n",
      "Best val_loss So Far: 1.3132236003875732\n",
      "Total elapsed time: 05h 23m 11s\n",
      "\n",
      "Search: Running Trial #23\n",
      "\n",
      "Value             |Best Value So Far |Hyperparameter\n",
      "2400              |3100              |neurons_0\n",
      "4900              |2300              |neurons_1\n",
      "1100              |2900              |neurons_2\n",
      "1900              |800               |neurons_3\n",
      "0.4               |0                 |dropout_rate\n",
      "0.0010589         |9.7998e-05        |learning_rate\n",
      "\n",
      "Epoch 1/50\n",
      "4000/4000 [==============================] - 20s 5ms/step - loss: 9.0417 - mean_squared_error: 8.1363 - val_loss: 7.4517 - val_mean_squared_error: 7.1345\n",
      "Epoch 2/50\n",
      "4000/4000 [==============================] - 18s 5ms/step - loss: 7.6318 - mean_squared_error: 7.3248 - val_loss: 6.9643 - val_mean_squared_error: 6.7084\n",
      "Epoch 3/50\n",
      "4000/4000 [==============================] - 18s 5ms/step - loss: 7.2476 - mean_squared_error: 7.0253 - val_loss: 6.7504 - val_mean_squared_error: 6.5592\n",
      "Epoch 4/50\n",
      "4000/4000 [==============================] - 18s 5ms/step - loss: 7.0311 - mean_squared_error: 6.8528 - val_loss: 6.6415 - val_mean_squared_error: 6.4711\n",
      "Epoch 5/50\n",
      "4000/4000 [==============================] - 18s 5ms/step - loss: 6.8923 - mean_squared_error: 6.7270 - val_loss: 6.5659 - val_mean_squared_error: 6.4010\n",
      "Epoch 6/50\n",
      "4000/4000 [==============================] - 18s 5ms/step - loss: 6.6969 - mean_squared_error: 6.5290 - val_loss: 6.3286 - val_mean_squared_error: 6.1584\n",
      "Epoch 7/50\n",
      "4000/4000 [==============================] - 18s 5ms/step - loss: 6.5660 - mean_squared_error: 6.3933 - val_loss: 6.2220 - val_mean_squared_error: 6.0476\n",
      "Epoch 8/50\n",
      "4000/4000 [==============================] - 18s 5ms/step - loss: 6.4531 - mean_squared_error: 6.2768 - val_loss: 6.1386 - val_mean_squared_error: 5.9609\n",
      "Epoch 9/50\n",
      "4000/4000 [==============================] - 18s 5ms/step - loss: 6.3700 - mean_squared_error: 6.1912 - val_loss: 6.1075 - val_mean_squared_error: 5.9276\n",
      "Epoch 10/50\n",
      "4000/4000 [==============================] - 18s 5ms/step - loss: 6.3128 - mean_squared_error: 6.1319 - val_loss: 6.0257 - val_mean_squared_error: 5.8437\n",
      "Epoch 11/50\n",
      "4000/4000 [==============================] - 18s 5ms/step - loss: 6.2744 - mean_squared_error: 6.0913 - val_loss: 6.0462 - val_mean_squared_error: 5.8622\n",
      "Epoch 12/50\n",
      "4000/4000 [==============================] - 18s 5ms/step - loss: 6.2406 - mean_squared_error: 6.0556 - val_loss: 5.9852 - val_mean_squared_error: 5.7992\n",
      "Epoch 13/50\n",
      "4000/4000 [==============================] - 18s 5ms/step - loss: 6.2052 - mean_squared_error: 6.0183 - val_loss: 5.9355 - val_mean_squared_error: 5.7478\n",
      "Epoch 14/50\n",
      "4000/4000 [==============================] - 18s 5ms/step - loss: 6.1752 - mean_squared_error: 5.9867 - val_loss: 5.9236 - val_mean_squared_error: 5.7346\n",
      "Epoch 15/50\n",
      "4000/4000 [==============================] - 18s 4ms/step - loss: 6.1819 - mean_squared_error: 5.9924 - val_loss: 5.8989 - val_mean_squared_error: 5.7089\n",
      "Epoch 16/50\n",
      "4000/4000 [==============================] - 18s 5ms/step - loss: 6.1413 - mean_squared_error: 5.9508 - val_loss: 5.8985 - val_mean_squared_error: 5.7076\n",
      "Epoch 17/50\n",
      "4000/4000 [==============================] - 18s 5ms/step - loss: 6.1508 - mean_squared_error: 5.9596 - val_loss: 5.8815 - val_mean_squared_error: 5.6900\n",
      "Epoch 18/50\n",
      "4000/4000 [==============================] - 18s 5ms/step - loss: 6.1259 - mean_squared_error: 5.9343 - val_loss: 5.8787 - val_mean_squared_error: 5.6868\n",
      "Epoch 19/50\n",
      "4000/4000 [==============================] - 18s 5ms/step - loss: 6.1320 - mean_squared_error: 5.9401 - val_loss: 5.8757 - val_mean_squared_error: 5.6837\n",
      "Epoch 20/50\n",
      "4000/4000 [==============================] - 18s 4ms/step - loss: 6.1297 - mean_squared_error: 5.9375 - val_loss: 5.8794 - val_mean_squared_error: 5.6872\n",
      "Epoch 21/50\n",
      "4000/4000 [==============================] - 18s 5ms/step - loss: 6.1126 - mean_squared_error: 5.9203 - val_loss: 5.8714 - val_mean_squared_error: 5.6791\n",
      "Epoch 22/50\n",
      "4000/4000 [==============================] - 18s 4ms/step - loss: 6.1194 - mean_squared_error: 5.9271 - val_loss: 5.8718 - val_mean_squared_error: 5.6794\n",
      "Epoch 23/50\n",
      "4000/4000 [==============================] - 18s 5ms/step - loss: 6.1126 - mean_squared_error: 5.9201 - val_loss: 5.8702 - val_mean_squared_error: 5.6777\n",
      "Epoch 24/50\n",
      "4000/4000 [==============================] - 18s 5ms/step - loss: 6.1127 - mean_squared_error: 5.9202 - val_loss: 5.8690 - val_mean_squared_error: 5.6764\n",
      "Epoch 25/50\n",
      "1323/4000 [========>.....................] - ETA: 11s - loss: 6.1107 - mean_squared_error: 5.9181"
     ]
    }
   ],
   "source": [
    "# Perform hyperparameter tuning\n",
    "tuner.search(np.asarray(lin_log_X_train), \n",
    "             np.asarray(y_train_val), \n",
    "             epochs=50, \n",
    "             batch_size=TRAIN_BATCH_SIZE, \n",
    "             validation_split=TRAIN_VALIDATION_SPLIT, \n",
    "             callbacks=[early_stopping], \n",
    "             verbose=1)"
   ]
  },
  {
   "cell_type": "code",
   "execution_count": null,
   "id": "416e8802-97f4-42e5-8571-36b78d2f079b",
   "metadata": {},
   "outputs": [],
   "source": [
    "model = tuner.get_best_models(num_models=1)[0]\n",
    "print(model)"
   ]
  },
  {
   "cell_type": "code",
   "execution_count": null,
   "id": "598b1b58-8413-4573-a02d-fe8363165edc",
   "metadata": {},
   "outputs": [],
   "source": [
    "best_model_file = 'model/best_keras_model.h5'\n",
    "best_model.save(best_model_file)\n",
    "\n",
    "model = load_model(best_model_file)"
   ]
  },
  {
   "cell_type": "markdown",
   "id": "4291953b-7ce8-498d-88ce-20974516af77",
   "metadata": {},
   "source": [
    "### View the model"
   ]
  },
  {
   "cell_type": "code",
   "execution_count": 37,
   "id": "137d2a50-a4ef-4ccc-8cb9-04e380f0fcfb",
   "metadata": {
    "scrolled": true
   },
   "outputs": [
    {
     "name": "stdout",
     "output_type": "stream",
     "text": [
      "Model: \"sequential\"\n",
      "_________________________________________________________________\n",
      " Layer (type)                Output Shape              Param #   \n",
      "=================================================================\n",
      " fc0 (Dense)                 (None, 3300)              1989900   \n",
      "                                                                 \n",
      " leaky_relu0 (LeakyReLU)     (None, 3300)              0         \n",
      "                                                                 \n",
      " dropout0 (Dropout)          (None, 3300)              0         \n",
      "                                                                 \n",
      " fc1 (Dense)                 (None, 1600)              5281600   \n",
      "                                                                 \n",
      " leaky_relu1 (LeakyReLU)     (None, 1600)              0         \n",
      "                                                                 \n",
      " dropout1 (Dropout)          (None, 1600)              0         \n",
      "                                                                 \n",
      " fc2 (Dense)                 (None, 2100)              3362100   \n",
      "                                                                 \n",
      " leaky_relu2 (LeakyReLU)     (None, 2100)              0         \n",
      "                                                                 \n",
      " dropout2 (Dropout)          (None, 2100)              0         \n",
      "                                                                 \n",
      " fc3 (Dense)                 (None, 10)                21010     \n",
      "                                                                 \n",
      "=================================================================\n",
      "Total params: 10654610 (40.64 MB)\n",
      "Trainable params: 10654610 (40.64 MB)\n",
      "Non-trainable params: 0 (0.00 Byte)\n",
      "_________________________________________________________________\n"
     ]
    }
   ],
   "source": [
    "model.summary()"
   ]
  },
  {
   "cell_type": "code",
   "execution_count": 39,
   "id": "a0ff4e35-6bb8-401a-9cae-a799b3bbc388",
   "metadata": {},
   "outputs": [
    {
     "name": "stdout",
     "output_type": "stream",
     "text": [
      "You must install pydot (`pip install pydot`) and install graphviz (see instructions at https://graphviz.gitlab.io/download/) for plot_model to work.\n"
     ]
    }
   ],
   "source": [
    "tf.keras.utils.plot_model(model, to_file='{}_model.png'.format(model_shape), show_shapes=True, show_layer_names=True)"
   ]
  },
  {
   "cell_type": "raw",
   "id": "f05d0a25-2890-4ddc-b888-57b849fa2a0f",
   "metadata": {},
   "source": [
    "keras2ascii(model)"
   ]
  },
  {
   "cell_type": "markdown",
   "id": "4e57cb40-ca2c-4ac7-905c-e13beaf71a51",
   "metadata": {},
   "source": [
    "### Evaluation"
   ]
  },
  {
   "cell_type": "markdown",
   "id": "7b5556f8-c81b-4522-b7be-d847b6f20452",
   "metadata": {},
   "source": [
    "Although we may plot and print many metrics, we focus only on **Mean Squared Error (MSE).**"
   ]
  },
  {
   "cell_type": "markdown",
   "id": "89dc9acc-ad33-4df3-ac56-8ed3913ce16d",
   "metadata": {},
   "source": [
    "Plot training history."
   ]
  },
  {
   "cell_type": "code",
   "execution_count": null,
   "id": "523cc6fc",
   "metadata": {},
   "outputs": [],
   "source": [
    "#%matplotlib ipympl\n",
    "%matplotlib inline\n",
    "import matplotlib.pyplot as plt\n",
    "from mpl_toolkits.mplot3d import Axes3D"
   ]
  },
  {
   "cell_type": "code",
   "execution_count": 20,
   "id": "347263a8-570e-4a04-bbae-3ea0662e4012",
   "metadata": {
    "tags": []
   },
   "outputs": [
    {
     "data": {
      "image/png": "[encoded data removed]",
      "text/plain": [
       "<Figure size 640x480 with 1 Axes>"
      ]
     },
     "metadata": {},
     "output_type": "display_data"
    }
   ],
   "source": [
    "plt.plot(history.history['loss'])\n",
    "plt.plot(history.history['val_loss'])\n",
    "plt.title('Model loss')\n",
    "plt.ylabel('Loss')\n",
    "plt.xlabel('Epoch')\n",
    "plt.legend(['Train', 'Validation'], loc='best')\n",
    "plt.show()"
   ]
  },
  {
   "cell_type": "code",
   "execution_count": 21,
   "id": "47150b9b",
   "metadata": {},
   "outputs": [
    {
     "data": {
      "image/png": "[encoded data removed]",
      "text/plain": [
       "<Figure size 640x480 with 1 Axes>"
      ]
     },
     "metadata": {},
     "output_type": "display_data"
    }
   ],
   "source": [
    "plt.plot(lr_monitor.learning_rates)\n",
    "plt.title(\"Learning Rate over Epochs\")\n",
    "plt.xlabel(\"Epoch\")\n",
    "plt.ylabel(\"Learning Rate\")\n",
    "plt.show()"
   ]
  },
  {
   "cell_type": "markdown",
   "id": "95a331d8-70ea-4ea4-8f5b-256472850784",
   "metadata": {},
   "source": [
    "Measure and print metrics."
   ]
  },
  {
   "cell_type": "code",
   "execution_count": 22,
   "id": "32ff7d16-5709-41d6-b3f7-e6c9a062b35c",
   "metadata": {
    "tags": []
   },
   "outputs": [
    {
     "name": "stdout",
     "output_type": "stream",
     "text": [
      "1250/1250 [==============================] - 2s 2ms/step - loss: 1.0287 - mean_squared_error: 0.7496\n",
      "[ 1.0259    2.3879    1.2497    6.2514    1.0404    1.3463    0.023697\n",
      " 19.098     2.1097    2.0468  ]\n",
      "1.0287261009216309\n"
     ]
    }
   ],
   "source": [
    "test_loss_result = model.evaluate(np.asarray(lin_log_X_test), np.asarray(y_test))[0]\n",
    "print(y_test[0])\n",
    "print(test_loss_result)"
   ]
  },
  {
   "cell_type": "code",
   "execution_count": 23,
   "id": "81b8b45c-9902-4edf-96e3-5b2fc8c8ce29",
   "metadata": {},
   "outputs": [
    {
     "name": "stdout",
     "output_type": "stream",
     "text": [
      "Current loss mean_squared_error: 1.0287261009216309\n"
     ]
    }
   ],
   "source": [
    "print('Current loss {}: {}'.format(TRAIN_LOSS, test_loss_result))"
   ]
  },
  {
   "cell_type": "code",
   "execution_count": 24,
   "id": "60157266",
   "metadata": {},
   "outputs": [
    {
     "ename": "KeyError",
     "evalue": "'`Styler.apply` and `.map` are not compatible with non-unique index or columns.'",
     "output_type": "error",
     "traceback": [
      "\u001b[0;31m---------------------------------------------------------------------------\u001b[0m",
      "\u001b[0;31mKeyError\u001b[0m                                  Traceback (most recent call last)",
      "File \u001b[0;32m/opt/conda/lib/python3.10/site-packages/IPython/core/formatters.py:347\u001b[0m, in \u001b[0;36mBaseFormatter.__call__\u001b[0;34m(self, obj)\u001b[0m\n\u001b[1;32m    345\u001b[0m     method \u001b[38;5;241m=\u001b[39m get_real_method(obj, \u001b[38;5;28mself\u001b[39m\u001b[38;5;241m.\u001b[39mprint_method)\n\u001b[1;32m    346\u001b[0m     \u001b[38;5;28;01mif\u001b[39;00m method \u001b[38;5;129;01mis\u001b[39;00m \u001b[38;5;129;01mnot\u001b[39;00m \u001b[38;5;28;01mNone\u001b[39;00m:\n\u001b[0;32m--> 347\u001b[0m         \u001b[38;5;28;01mreturn\u001b[39;00m \u001b[43mmethod\u001b[49m\u001b[43m(\u001b[49m\u001b[43m)\u001b[49m\n\u001b[1;32m    348\u001b[0m     \u001b[38;5;28;01mreturn\u001b[39;00m \u001b[38;5;28;01mNone\u001b[39;00m\n\u001b[1;32m    349\u001b[0m \u001b[38;5;28;01melse\u001b[39;00m:\n",
      "File \u001b[0;32m/opt/conda/lib/python3.10/site-packages/pandas/io/formats/style.py:405\u001b[0m, in \u001b[0;36mStyler._repr_html_\u001b[0;34m(self)\u001b[0m\n\u001b[1;32m    400\u001b[0m \u001b[38;5;250m\u001b[39m\u001b[38;5;124;03m\"\"\"\u001b[39;00m\n\u001b[1;32m    401\u001b[0m \u001b[38;5;124;03mHooks into Jupyter notebook rich display system, which calls _repr_html_ by\u001b[39;00m\n\u001b[1;32m    402\u001b[0m \u001b[38;5;124;03mdefault if an object is returned at the end of a cell.\u001b[39;00m\n\u001b[1;32m    403\u001b[0m \u001b[38;5;124;03m\"\"\"\u001b[39;00m\n\u001b[1;32m    404\u001b[0m \u001b[38;5;28;01mif\u001b[39;00m get_option(\u001b[38;5;124m\"\u001b[39m\u001b[38;5;124mstyler.render.repr\u001b[39m\u001b[38;5;124m\"\u001b[39m) \u001b[38;5;241m==\u001b[39m \u001b[38;5;124m\"\u001b[39m\u001b[38;5;124mhtml\u001b[39m\u001b[38;5;124m\"\u001b[39m:\n\u001b[0;32m--> 405\u001b[0m     \u001b[38;5;28;01mreturn\u001b[39;00m \u001b[38;5;28;43mself\u001b[39;49m\u001b[38;5;241;43m.\u001b[39;49m\u001b[43mto_html\u001b[49m\u001b[43m(\u001b[49m\u001b[43m)\u001b[49m\n\u001b[1;32m    406\u001b[0m \u001b[38;5;28;01mreturn\u001b[39;00m \u001b[38;5;28;01mNone\u001b[39;00m\n",
      "File \u001b[0;32m/opt/conda/lib/python3.10/site-packages/pandas/io/formats/style.py:1345\u001b[0m, in \u001b[0;36mStyler.to_html\u001b[0;34m(self, buf, table_uuid, table_attributes, sparse_index, sparse_columns, bold_headers, caption, max_rows, max_columns, encoding, doctype_html, exclude_styles, **kwargs)\u001b[0m\n\u001b[1;32m   1342\u001b[0m     obj\u001b[38;5;241m.\u001b[39mset_caption(caption)\n\u001b[1;32m   1344\u001b[0m \u001b[38;5;66;03m# Build HTML string..\u001b[39;00m\n\u001b[0;32m-> 1345\u001b[0m html \u001b[38;5;241m=\u001b[39m \u001b[43mobj\u001b[49m\u001b[38;5;241;43m.\u001b[39;49m\u001b[43m_render_html\u001b[49m\u001b[43m(\u001b[49m\n\u001b[1;32m   1346\u001b[0m \u001b[43m    \u001b[49m\u001b[43msparse_index\u001b[49m\u001b[38;5;241;43m=\u001b[39;49m\u001b[43msparse_index\u001b[49m\u001b[43m,\u001b[49m\n\u001b[1;32m   1347\u001b[0m \u001b[43m    \u001b[49m\u001b[43msparse_columns\u001b[49m\u001b[38;5;241;43m=\u001b[39;49m\u001b[43msparse_columns\u001b[49m\u001b[43m,\u001b[49m\n\u001b[1;32m   1348\u001b[0m \u001b[43m    \u001b[49m\u001b[43mmax_rows\u001b[49m\u001b[38;5;241;43m=\u001b[39;49m\u001b[43mmax_rows\u001b[49m\u001b[43m,\u001b[49m\n\u001b[1;32m   1349\u001b[0m \u001b[43m    \u001b[49m\u001b[43mmax_cols\u001b[49m\u001b[38;5;241;43m=\u001b[39;49m\u001b[43mmax_columns\u001b[49m\u001b[43m,\u001b[49m\n\u001b[1;32m   1350\u001b[0m \u001b[43m    \u001b[49m\u001b[43mexclude_styles\u001b[49m\u001b[38;5;241;43m=\u001b[39;49m\u001b[43mexclude_styles\u001b[49m\u001b[43m,\u001b[49m\n\u001b[1;32m   1351\u001b[0m \u001b[43m    \u001b[49m\u001b[43mencoding\u001b[49m\u001b[38;5;241;43m=\u001b[39;49m\u001b[43mencoding\u001b[49m\u001b[43m \u001b[49m\u001b[38;5;129;43;01mor\u001b[39;49;00m\u001b[43m \u001b[49m\u001b[43mget_option\u001b[49m\u001b[43m(\u001b[49m\u001b[38;5;124;43m\"\u001b[39;49m\u001b[38;5;124;43mstyler.render.encoding\u001b[39;49m\u001b[38;5;124;43m\"\u001b[39;49m\u001b[43m)\u001b[49m\u001b[43m,\u001b[49m\n\u001b[1;32m   1352\u001b[0m \u001b[43m    \u001b[49m\u001b[43mdoctype_html\u001b[49m\u001b[38;5;241;43m=\u001b[39;49m\u001b[43mdoctype_html\u001b[49m\u001b[43m,\u001b[49m\n\u001b[1;32m   1353\u001b[0m \u001b[43m    \u001b[49m\u001b[38;5;241;43m*\u001b[39;49m\u001b[38;5;241;43m*\u001b[39;49m\u001b[43mkwargs\u001b[49m\u001b[43m,\u001b[49m\n\u001b[1;32m   1354\u001b[0m \u001b[43m\u001b[49m\u001b[43m)\u001b[49m\n\u001b[1;32m   1356\u001b[0m \u001b[38;5;28;01mreturn\u001b[39;00m save_to_buffer(\n\u001b[1;32m   1357\u001b[0m     html, buf\u001b[38;5;241m=\u001b[39mbuf, encoding\u001b[38;5;241m=\u001b[39m(encoding \u001b[38;5;28;01mif\u001b[39;00m buf \u001b[38;5;129;01mis\u001b[39;00m \u001b[38;5;129;01mnot\u001b[39;00m \u001b[38;5;28;01mNone\u001b[39;00m \u001b[38;5;28;01melse\u001b[39;00m \u001b[38;5;28;01mNone\u001b[39;00m)\n\u001b[1;32m   1358\u001b[0m )\n",
      "File \u001b[0;32m/opt/conda/lib/python3.10/site-packages/pandas/io/formats/style_render.py:204\u001b[0m, in \u001b[0;36mStylerRenderer._render_html\u001b[0;34m(self, sparse_index, sparse_columns, max_rows, max_cols, **kwargs)\u001b[0m\n\u001b[1;32m    192\u001b[0m \u001b[38;5;28;01mdef\u001b[39;00m \u001b[38;5;21m_render_html\u001b[39m(\n\u001b[1;32m    193\u001b[0m     \u001b[38;5;28mself\u001b[39m,\n\u001b[1;32m    194\u001b[0m     sparse_index: \u001b[38;5;28mbool\u001b[39m,\n\u001b[0;32m   (...)\u001b[0m\n\u001b[1;32m    198\u001b[0m     \u001b[38;5;241m*\u001b[39m\u001b[38;5;241m*\u001b[39mkwargs,\n\u001b[1;32m    199\u001b[0m ) \u001b[38;5;241m-\u001b[39m\u001b[38;5;241m>\u001b[39m \u001b[38;5;28mstr\u001b[39m:\n\u001b[1;32m    200\u001b[0m \u001b[38;5;250m    \u001b[39m\u001b[38;5;124;03m\"\"\"\u001b[39;00m\n\u001b[1;32m    201\u001b[0m \u001b[38;5;124;03m    Renders the ``Styler`` including all applied styles to HTML.\u001b[39;00m\n\u001b[1;32m    202\u001b[0m \u001b[38;5;124;03m    Generates a dict with necessary kwargs passed to jinja2 template.\u001b[39;00m\n\u001b[1;32m    203\u001b[0m \u001b[38;5;124;03m    \"\"\"\u001b[39;00m\n\u001b[0;32m--> 204\u001b[0m     d \u001b[38;5;241m=\u001b[39m \u001b[38;5;28;43mself\u001b[39;49m\u001b[38;5;241;43m.\u001b[39;49m\u001b[43m_render\u001b[49m\u001b[43m(\u001b[49m\u001b[43msparse_index\u001b[49m\u001b[43m,\u001b[49m\u001b[43m \u001b[49m\u001b[43msparse_columns\u001b[49m\u001b[43m,\u001b[49m\u001b[43m \u001b[49m\u001b[43mmax_rows\u001b[49m\u001b[43m,\u001b[49m\u001b[43m \u001b[49m\u001b[43mmax_cols\u001b[49m\u001b[43m,\u001b[49m\u001b[43m \u001b[49m\u001b[38;5;124;43m\"\u001b[39;49m\u001b[38;5;124;43m&nbsp;\u001b[39;49m\u001b[38;5;124;43m\"\u001b[39;49m\u001b[43m)\u001b[49m\n\u001b[1;32m    205\u001b[0m     d\u001b[38;5;241m.\u001b[39mupdate(kwargs)\n\u001b[1;32m    206\u001b[0m     \u001b[38;5;28;01mreturn\u001b[39;00m \u001b[38;5;28mself\u001b[39m\u001b[38;5;241m.\u001b[39mtemplate_html\u001b[38;5;241m.\u001b[39mrender(\n\u001b[1;32m    207\u001b[0m         \u001b[38;5;241m*\u001b[39m\u001b[38;5;241m*\u001b[39md,\n\u001b[1;32m    208\u001b[0m         html_table_tpl\u001b[38;5;241m=\u001b[39m\u001b[38;5;28mself\u001b[39m\u001b[38;5;241m.\u001b[39mtemplate_html_table,\n\u001b[1;32m    209\u001b[0m         html_style_tpl\u001b[38;5;241m=\u001b[39m\u001b[38;5;28mself\u001b[39m\u001b[38;5;241m.\u001b[39mtemplate_html_style,\n\u001b[1;32m    210\u001b[0m     )\n",
      "File \u001b[0;32m/opt/conda/lib/python3.10/site-packages/pandas/io/formats/style_render.py:161\u001b[0m, in \u001b[0;36mStylerRenderer._render\u001b[0;34m(self, sparse_index, sparse_columns, max_rows, max_cols, blank)\u001b[0m\n\u001b[1;32m    147\u001b[0m \u001b[38;5;28;01mdef\u001b[39;00m \u001b[38;5;21m_render\u001b[39m(\n\u001b[1;32m    148\u001b[0m     \u001b[38;5;28mself\u001b[39m,\n\u001b[1;32m    149\u001b[0m     sparse_index: \u001b[38;5;28mbool\u001b[39m,\n\u001b[0;32m   (...)\u001b[0m\n\u001b[1;32m    153\u001b[0m     blank: \u001b[38;5;28mstr\u001b[39m \u001b[38;5;241m=\u001b[39m \u001b[38;5;124m\"\u001b[39m\u001b[38;5;124m\"\u001b[39m,\n\u001b[1;32m    154\u001b[0m ):\n\u001b[1;32m    155\u001b[0m \u001b[38;5;250m    \u001b[39m\u001b[38;5;124;03m\"\"\"\u001b[39;00m\n\u001b[1;32m    156\u001b[0m \u001b[38;5;124;03m    Computes and applies styles and then generates the general render dicts.\u001b[39;00m\n\u001b[1;32m    157\u001b[0m \n\u001b[1;32m    158\u001b[0m \u001b[38;5;124;03m    Also extends the `ctx` and `ctx_index` attributes with those of concatenated\u001b[39;00m\n\u001b[1;32m    159\u001b[0m \u001b[38;5;124;03m    stylers for use within `_translate_latex`\u001b[39;00m\n\u001b[1;32m    160\u001b[0m \u001b[38;5;124;03m    \"\"\"\u001b[39;00m\n\u001b[0;32m--> 161\u001b[0m     \u001b[38;5;28;43mself\u001b[39;49m\u001b[38;5;241;43m.\u001b[39;49m\u001b[43m_compute\u001b[49m\u001b[43m(\u001b[49m\u001b[43m)\u001b[49m\n\u001b[1;32m    162\u001b[0m     dxs \u001b[38;5;241m=\u001b[39m []\n\u001b[1;32m    163\u001b[0m     ctx_len \u001b[38;5;241m=\u001b[39m \u001b[38;5;28mlen\u001b[39m(\u001b[38;5;28mself\u001b[39m\u001b[38;5;241m.\u001b[39mindex)\n",
      "File \u001b[0;32m/opt/conda/lib/python3.10/site-packages/pandas/io/formats/style_render.py:256\u001b[0m, in \u001b[0;36mStylerRenderer._compute\u001b[0;34m(self)\u001b[0m\n\u001b[1;32m    254\u001b[0m r \u001b[38;5;241m=\u001b[39m \u001b[38;5;28mself\u001b[39m\n\u001b[1;32m    255\u001b[0m \u001b[38;5;28;01mfor\u001b[39;00m func, args, kwargs \u001b[38;5;129;01min\u001b[39;00m \u001b[38;5;28mself\u001b[39m\u001b[38;5;241m.\u001b[39m_todo:\n\u001b[0;32m--> 256\u001b[0m     r \u001b[38;5;241m=\u001b[39m \u001b[43mfunc\u001b[49m\u001b[43m(\u001b[49m\u001b[38;5;28;43mself\u001b[39;49m\u001b[43m)\u001b[49m\u001b[43m(\u001b[49m\u001b[38;5;241;43m*\u001b[39;49m\u001b[43margs\u001b[49m\u001b[43m,\u001b[49m\u001b[43m \u001b[49m\u001b[38;5;241;43m*\u001b[39;49m\u001b[38;5;241;43m*\u001b[39;49m\u001b[43mkwargs\u001b[49m\u001b[43m)\u001b[49m\n\u001b[1;32m    257\u001b[0m \u001b[38;5;28;01mreturn\u001b[39;00m r\n",
      "File \u001b[0;32m/opt/conda/lib/python3.10/site-packages/pandas/io/formats/style.py:1752\u001b[0m, in \u001b[0;36mStyler._apply\u001b[0;34m(self, func, axis, subset, **kwargs)\u001b[0m\n\u001b[1;32m   1748\u001b[0m \u001b[38;5;28;01mif\u001b[39;00m \u001b[38;5;129;01mnot\u001b[39;00m \u001b[38;5;28mall\u001b[39m(result\u001b[38;5;241m.\u001b[39mcolumns\u001b[38;5;241m.\u001b[39misin(data\u001b[38;5;241m.\u001b[39mcolumns)):\n\u001b[1;32m   1749\u001b[0m     \u001b[38;5;28;01mraise\u001b[39;00m \u001b[38;5;167;01mValueError\u001b[39;00m(\n\u001b[1;32m   1750\u001b[0m         msg\u001b[38;5;241m.\u001b[39mformat(\u001b[38;5;124m\"\u001b[39m\u001b[38;5;124mcolumns\u001b[39m\u001b[38;5;124m\"\u001b[39m, result\u001b[38;5;241m.\u001b[39mcolumns\u001b[38;5;241m.\u001b[39mshape, data\u001b[38;5;241m.\u001b[39mcolumns\u001b[38;5;241m.\u001b[39mshape)\n\u001b[1;32m   1751\u001b[0m     )\n\u001b[0;32m-> 1752\u001b[0m \u001b[38;5;28;43mself\u001b[39;49m\u001b[38;5;241;43m.\u001b[39;49m\u001b[43m_update_ctx\u001b[49m\u001b[43m(\u001b[49m\u001b[43mresult\u001b[49m\u001b[43m)\u001b[49m\n\u001b[1;32m   1753\u001b[0m \u001b[38;5;28;01mreturn\u001b[39;00m \u001b[38;5;28mself\u001b[39m\n",
      "File \u001b[0;32m/opt/conda/lib/python3.10/site-packages/pandas/io/formats/style.py:1549\u001b[0m, in \u001b[0;36mStyler._update_ctx\u001b[0;34m(self, attrs)\u001b[0m\n\u001b[1;32m   1536\u001b[0m \u001b[38;5;250m\u001b[39m\u001b[38;5;124;03m\"\"\"\u001b[39;00m\n\u001b[1;32m   1537\u001b[0m \u001b[38;5;124;03mUpdate the state of the ``Styler`` for data cells.\u001b[39;00m\n\u001b[1;32m   1538\u001b[0m \n\u001b[0;32m   (...)\u001b[0m\n\u001b[1;32m   1546\u001b[0m \u001b[38;5;124;03m    matter.\u001b[39;00m\n\u001b[1;32m   1547\u001b[0m \u001b[38;5;124;03m\"\"\"\u001b[39;00m\n\u001b[1;32m   1548\u001b[0m \u001b[38;5;28;01mif\u001b[39;00m \u001b[38;5;129;01mnot\u001b[39;00m \u001b[38;5;28mself\u001b[39m\u001b[38;5;241m.\u001b[39mindex\u001b[38;5;241m.\u001b[39mis_unique \u001b[38;5;129;01mor\u001b[39;00m \u001b[38;5;129;01mnot\u001b[39;00m \u001b[38;5;28mself\u001b[39m\u001b[38;5;241m.\u001b[39mcolumns\u001b[38;5;241m.\u001b[39mis_unique:\n\u001b[0;32m-> 1549\u001b[0m     \u001b[38;5;28;01mraise\u001b[39;00m \u001b[38;5;167;01mKeyError\u001b[39;00m(\n\u001b[1;32m   1550\u001b[0m         \u001b[38;5;124m\"\u001b[39m\u001b[38;5;124m`Styler.apply` and `.map` are not compatible \u001b[39m\u001b[38;5;124m\"\u001b[39m\n\u001b[1;32m   1551\u001b[0m         \u001b[38;5;124m\"\u001b[39m\u001b[38;5;124mwith non-unique index or columns.\u001b[39m\u001b[38;5;124m\"\u001b[39m\n\u001b[1;32m   1552\u001b[0m     )\n\u001b[1;32m   1554\u001b[0m \u001b[38;5;28;01mfor\u001b[39;00m cn \u001b[38;5;129;01min\u001b[39;00m attrs\u001b[38;5;241m.\u001b[39mcolumns:\n\u001b[1;32m   1555\u001b[0m     j \u001b[38;5;241m=\u001b[39m \u001b[38;5;28mself\u001b[39m\u001b[38;5;241m.\u001b[39mcolumns\u001b[38;5;241m.\u001b[39mget_loc(cn)\n",
      "\u001b[0;31mKeyError\u001b[0m: '`Styler.apply` and `.map` are not compatible with non-unique index or columns.'"
     ]
    },
    {
     "data": {
      "text/plain": [
       "<pandas.io.formats.style.Styler at 0x7fb2215d2d70>"
      ]
     },
     "metadata": {},
     "output_type": "display_data"
    }
   ],
   "source": [
    "import csv\n",
    "\n",
    "csv_data = [[\n",
    "    PARAM,\n",
    "    DATA_AUGMENTATION,\n",
    "    model_shape,\n",
    "    test_loss_result,\n",
    "    TRAIN_LOSS,\n",
    "    TRAIN_DROPOUT_RATE,\n",
    "    TRAIN_EARLY_STOPPING_PATIENCE,\n",
    "    TRAIN_BATCH_SIZE,\n",
    "    TRAIN_VALIDATION_SPLIT,\n",
    "    LR_INITIAL,\n",
    "    LR_DECAY_STEPS,\n",
    "    LR_DECAY_RATE,\n",
    "    LR_STAIRCASE\n",
    "    ]]\n",
    "\n",
    "csv_file = 'history_losses.csv'  #this doesnt reqrite this file so you need to delete this if you want something fresh\n",
    "\n",
    "if not os.path.exists(csv_file):\n",
    "    with open(csv_file, 'w') as file:\n",
    "        file.write('data_param,data_augmentation,data_x_scaled, data_y_scaled,model_shape,test_loss,train_loss,train_dropout_rate,train_early_stop_patience,train_batch_size,train_val_split,lr_initial,lr_decay_step,lr_decay_rate,lr_stair_case\\n')\n",
    "with open(csv_file, mode='a', newline='') as file:\n",
    "    writer = csv.writer(file)\n",
    "    writer.writerows(csv_data)\n",
    "\n",
    "# Convert data to DataFrame for easier display\n",
    "df = pd.read_csv(csv_file)\n",
    "\n",
    "def color_red_column(s):\n",
    "    return ['color: red' if v else '' for v in s]\n",
    "\n",
    "styled_df = df.style.apply(color_red_column, subset=['test_loss'])\n",
    "\n",
    "# Display the DataFrame as a table\n",
    "display(styled_df)\n",
    "#qgrid_widget = qgrid.show_grid(df, show_toolbar=True)"
   ]
  },
  {
   "cell_type": "code",
   "execution_count": 25,
   "id": "9ea88851-ed24-42d4-b36c-e79175af6847",
   "metadata": {
    "tags": []
   },
   "outputs": [
    {
     "name": "stdout",
     "output_type": "stream",
     "text": [
      "1250/1250 [==============================] - 2s 1ms/step\n"
     ]
    }
   ],
   "source": [
    "y_pred = model.predict(np.array(lin_log_X_test))"
   ]
  },
  {
   "cell_type": "code",
   "execution_count": 26,
   "id": "a6ffa127-c6a4-4a52-8a29-4c08ae0cca3f",
   "metadata": {},
   "outputs": [
    {
     "name": "stdout",
     "output_type": "stream",
     "text": [
      "IV curve #: 1\n",
      "Param: phig1, Ref: 1.0259, Pred: 1.0223517417907715, Pow2Er: 1.2590136319357794e-05, AbsEr: 0.0035482582092285497\n",
      "Param: u0, Ref: 2.3879, Pred: 2.351001024246216, Pow2Er: 1.8647220454982583, AbsEr: 1.3655482582092286\n",
      "Param: rdw, Ref: 1.2497, Pred: 1.268797516822815, Pow2Er: 0.05168723051077006, AbsEr: 0.22734825820922855\n",
      "Param: rsw, Ref: 6.2514, Pred: 5.944940090179443, Pow2Er: 27.34294568668097, AbsEr: 5.229048258209229\n",
      "Param: ua, Ref: 1.0404, Pred: 0.67220538854599, Pow2Er: 0.0003257396243869842, AbsEr: 0.018048258209228507\n",
      "Param: ud, Ref: 1.3463, Pred: 1.4692116975784302, Pow2Er: 0.10494247399679302, AbsEr: 0.32394825820922857\n",
      "Param: ucs, Ref: 0.023697, Pred: 0.1952643245458603, Pow2Er: 0.9973112933011925, AbsEr: 0.9986547417907715\n",
      "Param: cit, Ref: 19.098, Pred: 17.50562286376953, Pow2Er: 326.7290599545023, AbsEr: 18.075648258209227\n",
      "Param: prwg, Ref: 2.1097, Pred: 2.669267177581787, Pow2Er: 1.1823262346306433, AbsEr: 1.0873482582092286\n",
      "Param: eu, Ref: 2.0468, Pred: 2.673973798751831, Pow2Er: 1.0494942337479225, AbsEr: 1.0244482582092287\n",
      "\n",
      "IV curve #: 2\n",
      "Param: phig1, Ref: 1.0117, Pred: 1.0163962841033936, Pow2Er: 2.2055084379786593e-05, AbsEr: 0.004696284103393511\n",
      "Param: u0, Ref: 1.5602, Pred: 1.6084877252578735, Pow2Er: 0.2957224814229571, AbsEr: 0.5438037158966065\n",
      "Param: rdw, Ref: 1.5912, Pred: 1.2195148468017578, Pow2Er: 0.3303993118085466, AbsEr: 0.5748037158966064\n",
      "Param: rsw, Ref: 6.4036, Pred: 6.894057750701904, Pow2Er: 29.021963876570204, AbsEr: 5.387203715896606\n",
      "Param: ua, Ref: 0.29049, Pred: 0.5885274410247803, Pow2Er: 0.5269399333007967, AbsEr: 0.7259062841033935\n",
      "Param: ud, Ref: 1.8435, Pred: 1.6249613761901855, Pow2Er: 0.6841005568499742, AbsEr: 0.8271037158966064\n",
      "Param: ucs, Ref: -0.030825, Pred: 0.20566557347774506, Pow2Er: 1.0966724178791607, AbsEr: 1.0472212841033937\n",
      "Param: cit, Ref: 16.083, Pred: 16.87750244140625, Pow2Er: 227.00254753186937, AbsEr: 15.066603715896605\n",
      "Param: prwg, Ref: 4.1672, Pred: 2.6616291999816895, Pow2Er: 9.927564056107865, AbsEr: 3.1508037158966067\n",
      "Param: eu, Ref: 0.85166, Pred: 2.658020257949829, Pow2Er: 0.027138043300194006, AbsEr: 0.16473628410339358\n",
      "\n"
     ]
    }
   ],
   "source": [
    "paramNames = ['phig1', 'u0', 'rdw', 'rsw', 'ua', 'ud', 'ucs', 'cit', 'prwg', 'eu']\n",
    "pow2_errors = [(y_test[i]-y_pred[i][0])**2 for i in range(len(y_pred))]\n",
    "abs_errors = [abs(y_test[i]-y_pred[i][0]) for i in range(len(y_pred))]\n",
    "min=1\n",
    "for i in range(2): \n",
    "    if abs_errors[i].any()<min: \n",
    "        min = abs_errors[i]\n",
    "    print(\"IV curve #: \" + str(i+1))\n",
    "    for l in range(len(y_test[i])):\n",
    "        print('Param: {}, Ref: {}, Pred: {}, Pow2Er: {}, AbsEr: {}'.format(paramNames[l],y_test[i][l], y_pred[i][l], pow2_errors[i][l], abs_errors[i][l]))\n",
    "    print(\"\")"
   ]
  },
  {
   "cell_type": "markdown",
   "id": "be7812af-2596-44d2-bb25-68741e0506ba",
   "metadata": {},
   "source": [
    "## Compare predictions vs. test set"
   ]
  },
  {
   "cell_type": "code",
   "execution_count": 30,
   "id": "2a48a384",
   "metadata": {},
   "outputs": [],
   "source": [
    "%matplotlib ipympl\n",
    "import matplotlib.pyplot as plt\n",
    "import matplotlib.cm as cm"
   ]
  },
  {
   "cell_type": "code",
   "execution_count": 31,
   "id": "685f3235-ea6c-4b20-a883-dee958f336c9",
   "metadata": {},
   "outputs": [],
   "source": [
    "#abs_errors is now a list of 2d arrays like array([0.01318291, 4.47633068]) with the two values\n",
    "phig1_abs_errors = [arr[0] for arr in abs_errors]\n",
    "u0_abs_errors = [arr[1] for arr in abs_errors]\n",
    "rdw_abs_errors = [arr[2] for arr in abs_errors]\n",
    "rsw_abs_errors = [arr[3] for arr in abs_errors]\n",
    "ua_abs_errors = [arr[4] for arr in abs_errors]\n",
    "ud_abs_errors = [arr[5] for arr in abs_errors]\n",
    "ucs_abs_errors = [arr[6] for arr in abs_errors]\n",
    "cit_abs_errors = [arr[7] for arr in abs_errors]\n",
    "prwg_abs_errors = [arr[8] for arr in abs_errors]\n",
    "eu_abs_errors = [arr[9] for arr in abs_errors]"
   ]
  },
  {
   "cell_type": "code",
   "execution_count": 32,
   "id": "9ca0c76f-5256-4b14-9b9f-b5f87defe275",
   "metadata": {},
   "outputs": [],
   "source": [
    "def normalize_errors(errors):\n",
    "    max_error = max(errors)\n",
    "    return [error / max_error for error in errors]\n",
    "\n",
    "def plot_3d_scatter(X_test_unscaled, errors, parameter_name, filename):\n",
    "    norm_errors = [error / max(errors,) for error in errors] #normalize everything\n",
    "    # Create a colormap object\n",
    "    cmap = cm.get_cmap('viridis')\n",
    "    # Generate the list of color values\n",
    "    color_values = [cmap(norm_error) for norm_error in norm_errors]\n",
    "    \n",
    "    fig = plt.figure(figsize=(12, 12))\n",
    "    ax = fig.add_subplot(projection='3d')\n",
    "    for i in range(len(X_test)):\n",
    "        color = cmap(i)\n",
    "        Vg = X_test_unscaled[i][0]\n",
    "        Vd = X_test_unscaled[i][1]\n",
    "        Id = X_test_unscaled[i][2][:301] #just grab the first set which is linear and plot\n",
    "        ax.scatter(Vg, Vd, Id, color=color_values[i], label='Prediction', depthshade=False,s=1)\n",
    "    _ = ax.set_xlabel('Vg (gate voltage)')\n",
    "    _ = ax.set_ylabel('Vd (drain voltage)')\n",
    "    _ = ax.set_zlabel('Id (drain current)')\n",
    "    _ = ax.set_title('Parameter: ' + parameter_name)\n",
    "    cbar = fig.colorbar(cm.ScalarMappable(cmap=cmap), ax=ax, shrink=0.25)  # Shrink the colorbar\n",
    "    cbar.set_label('Absolute Error (darker = less, lighter = more)', fontsize='8')\n",
    "    cbar.mappable.set_clim(vmin=np.min(errors,), vmax=np.max(errors,))\n",
    "    fig.savefig(f'plots/{filename}.png')\n",
    "    plt.close()"
   ]
  },
  {
   "cell_type": "code",
   "execution_count": 33,
   "id": "47273026-ce0c-4cd0-bd61-fd61fd0df376",
   "metadata": {},
   "outputs": [
    {
     "name": "stderr",
     "output_type": "stream",
     "text": [
      "/var/folders/z7/t6wp9zrj1ng1v25l8khm54yc0000j7/T/ipykernel_9880/4138828381.py:8: MatplotlibDeprecationWarning: The get_cmap function was deprecated in Matplotlib 3.7 and will be removed two minor releases later. Use ``matplotlib.colormaps[name]`` or ``matplotlib.colormaps.get_cmap(obj)`` instead.\n",
      "  cmap = cm.get_cmap('viridis')\n"
     ]
    }
   ],
   "source": [
    "plot_3d_scatter(X_test, u0_abs_errors, 'u0', 'u0errs')\n",
    "plot_3d_scatter(X_test, phig1_abs_errors, 'phig1', 'phig1errs')\n",
    "plot_3d_scatter(X_test, rdw_abs_errors, 'rdw', 'rdwerrs')\n",
    "plot_3d_scatter(X_test, rsw_abs_errors, 'rsw', 'rswerrs')\n",
    "plot_3d_scatter(X_test, ucs_abs_errors, 'ucs', 'ucserrs')\n",
    "plot_3d_scatter(X_test, ud_abs_errors, 'ud', 'uderrs')\n",
    "plot_3d_scatter(X_test, cit_abs_errors, 'cit', 'citerrs')\n",
    "plot_3d_scatter(X_test, prwg_abs_errors, 'prwg', 'prwgerrs')\n",
    "plot_3d_scatter(X_test, eu_abs_errors, 'eu', 'euerrs')\n",
    "plot_3d_scatter(X_test, u0_abs_errors, 'u0', 'u0errs')"
   ]
  },
  {
   "cell_type": "code",
   "execution_count": null,
   "id": "dc4de5f4-1ea1-4a0f-be8a-792d96fcf891",
   "metadata": {},
   "outputs": [],
   "source": []
  },
  {
   "cell_type": "code",
   "execution_count": null,
   "id": "89ec484e-c04b-4570-9f2b-76f013a459a4",
   "metadata": {},
   "outputs": [],
   "source": []
  }
 ],
 "metadata": {
  "kernelspec": {
   "display_name": "Python 3 (ipykernel)",
   "language": "python",
   "name": "python3"
  },
  "language_info": {
   "codemirror_mode": {
    "name": "ipython",
    "version": 3
   },
   "file_extension": ".py",
   "mimetype": "text/x-python",
   "name": "python",
   "nbconvert_exporter": "python",
   "pygments_lexer": "ipython3",
   "version": "3.10.15"
  }
 },
 "nbformat": 4,
 "nbformat_minor": 5
}
