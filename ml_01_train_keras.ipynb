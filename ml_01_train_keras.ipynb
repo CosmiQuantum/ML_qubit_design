{
 "cells": [
  {
   "cell_type": "markdown",
   "id": "374b8e1e",
   "metadata": {},
   "source": [
    "# Model Training (Keras)"
   ]
  },
  {
   "cell_type": "markdown",
   "id": "67e7659a-fe1b-4fdf-8c09-a398e498373b",
   "metadata": {},
   "source": [
    "## Configuration"
   ]
  },
  {
   "cell_type": "code",
   "execution_count": 1,
   "id": "c9418886-6a3f-4473-ae89-53bab6428eb2",
   "metadata": {},
   "outputs": [],
   "source": [
    "# The parameter file is where the hyperparameters are set\n",
    "\n",
    "from parameters import *"
   ]
  },
  {
   "cell_type": "markdown",
   "id": "e0d17135-58ce-45e4-9c16-1d1b76f34ea3",
   "metadata": {
    "tags": []
   },
   "source": [
    "## Library"
   ]
  },
  {
   "cell_type": "code",
   "execution_count": 2,
   "id": "fa89948c",
   "metadata": {},
   "outputs": [
    {
     "name": "stderr",
     "output_type": "stream",
     "text": [
      "2024-11-21 21:41:04.203139: E tensorflow/compiler/xla/stream_executor/cuda/cuda_dnn.cc:9342] Unable to register cuDNN factory: Attempting to register factory for plugin cuDNN when one has already been registered\n",
      "2024-11-21 21:41:04.203222: E tensorflow/compiler/xla/stream_executor/cuda/cuda_fft.cc:609] Unable to register cuFFT factory: Attempting to register factory for plugin cuFFT when one has already been registered\n",
      "2024-11-21 21:41:04.203263: E tensorflow/compiler/xla/stream_executor/cuda/cuda_blas.cc:1518] Unable to register cuBLAS factory: Attempting to register factory for plugin cuBLAS when one has already been registered\n",
      "2024-11-21 21:41:04.208118: I tensorflow/core/platform/cpu_feature_guard.cc:182] This TensorFlow binary is optimized to use available CPU instructions in performance-critical operations.\n",
      "To enable the following instructions: SSE4.1 SSE4.2 AVX AVX2 FMA, in other operations, rebuild TensorFlow with the appropriate compiler flags.\n"
     ]
    }
   ],
   "source": [
    "import tensorflow as tf\n",
    "from tensorflow.keras.models import Sequential, load_model\n",
    "from tensorflow.keras.layers import Input, Dense, Activation, Dropout, LeakyReLU\n",
    "from sklearn.preprocessing import LabelEncoder, StandardScaler\n",
    "from sklearn.preprocessing import MinMaxScaler\n",
    "from tensorflow.keras.callbacks import EarlyStopping, ModelCheckpoint, ReduceLROnPlateau\n",
    "import os\n",
    "import numpy as np\n",
    "import pandas as pd\n",
    "\n",
    "from tensorflow.keras import Sequential\n",
    "from tensorflow.keras.layers import Dense, Input, Dropout\n",
    "from tensorflow.keras.regularizers import l2\n",
    "from tensorflow.keras.callbacks import EarlyStopping, ModelCheckpoint\n",
    "from keras_tuner import HyperModel, RandomSearch\n",
    "from tensorflow.keras.models import load_model\n",
    "\n",
    "# Disable some console warnings\n",
    "os.environ['TF_XLA_FLAGS'] = '--tf_xla_enable_xla_devices'\n",
    "os.environ['TF_CPP_MIN_LOG_LEVEL'] = '2'"
   ]
  },
  {
   "cell_type": "code",
   "execution_count": 3,
   "id": "b35ed7bf-9c4f-41d4-8652-1fe11dd8c013",
   "metadata": {},
   "outputs": [],
   "source": [
    "seed = 0\n",
    "\n",
    "# Input seed value. if this value is the same, the random number generator will generate the same set of random values every time\n",
    "np.random.seed(seed)\n",
    "\n",
    "# Set the seed value for reproducibility in tensorflow\n",
    "tf.random.set_seed(seed)"
   ]
  },
  {
   "cell_type": "markdown",
   "id": "c6c9e65e-f247-4388-a274-6041e8cdcc27",
   "metadata": {},
   "source": [
    "## Check GPU"
   ]
  },
  {
   "cell_type": "code",
   "execution_count": 4,
   "id": "17dc079f-6430-41bc-8342-0cc5ffbe4a8b",
   "metadata": {
    "tags": []
   },
   "outputs": [
    {
     "name": "stdout",
     "output_type": "stream",
     "text": [
      "[name: \"/device:CPU:0\"\n",
      "device_type: \"CPU\"\n",
      "memory_limit: 268435456\n",
      "locality {\n",
      "}\n",
      "incarnation: 15808219167710147447\n",
      "xla_global_id: -1\n",
      ", name: \"/device:XLA_CPU:0\"\n",
      "device_type: \"XLA_CPU\"\n",
      "memory_limit: 17179869184\n",
      "locality {\n",
      "}\n",
      "incarnation: 7445569377933388680\n",
      "physical_device_desc: \"device: XLA_CPU device\"\n",
      "xla_global_id: -1\n",
      ", name: \"/device:GPU:0\"\n",
      "device_type: \"GPU\"\n",
      "memory_limit: 8502378496\n",
      "locality {\n",
      "  bus_id: 1\n",
      "  links {\n",
      "  }\n",
      "}\n",
      "incarnation: 4996616027427115247\n",
      "physical_device_desc: \"device: 0, name: NVIDIA A100 80GB PCIe MIG 1g.10gb, pci bus id: 0000:00:10.0, compute capability: 8.0\"\n",
      "xla_global_id: 416903419\n",
      ", name: \"/device:XLA_GPU:0\"\n",
      "device_type: \"XLA_GPU\"\n",
      "memory_limit: 17179869184\n",
      "locality {\n",
      "}\n",
      "incarnation: 7108101518454173127\n",
      "physical_device_desc: \"device: XLA_GPU device\"\n",
      "xla_global_id: -1\n",
      "]\n"
     ]
    },
    {
     "name": "stderr",
     "output_type": "stream",
     "text": [
      "2024-11-21 21:41:12.569174: I tensorflow/compiler/xla/service/service.cc:168] XLA service 0x565315121470 initialized for platform Host (this does not guarantee that XLA will be used). Devices:\n",
      "2024-11-21 21:41:12.569241: I tensorflow/compiler/xla/service/service.cc:176]   StreamExecutor device (0): Host, Default Version\n",
      "2024-11-21 21:41:12.569397: E ./tensorflow/compiler/xla/stream_executor/stream_executor_internal.h:124] SetPriority unimplemented for this stream.\n",
      "2024-11-21 21:41:12.708682: I tensorflow/compiler/xla/stream_executor/cuda/cuda_gpu_executor.cc:894] successful NUMA node read from SysFS had negative value (-1), but there must be at least one NUMA node, so returning NUMA node zero. See more at https://github.com/torvalds/linux/blob/v6.0/Documentation/ABI/testing/sysfs-bus-pci#L344-L355\n",
      "2024-11-21 21:41:12.741992: I tensorflow/compiler/xla/stream_executor/cuda/cuda_gpu_executor.cc:894] successful NUMA node read from SysFS had negative value (-1), but there must be at least one NUMA node, so returning NUMA node zero. See more at https://github.com/torvalds/linux/blob/v6.0/Documentation/ABI/testing/sysfs-bus-pci#L344-L355\n",
      "2024-11-21 21:41:12.742511: I tensorflow/compiler/xla/stream_executor/cuda/cuda_gpu_executor.cc:894] successful NUMA node read from SysFS had negative value (-1), but there must be at least one NUMA node, so returning NUMA node zero. See more at https://github.com/torvalds/linux/blob/v6.0/Documentation/ABI/testing/sysfs-bus-pci#L344-L355\n",
      "2024-11-21 21:41:12.813978: I tensorflow/compiler/xla/stream_executor/cuda/cuda_gpu_executor.cc:894] successful NUMA node read from SysFS had negative value (-1), but there must be at least one NUMA node, so returning NUMA node zero. See more at https://github.com/torvalds/linux/blob/v6.0/Documentation/ABI/testing/sysfs-bus-pci#L344-L355\n",
      "2024-11-21 21:41:12.814532: I tensorflow/compiler/xla/stream_executor/cuda/cuda_gpu_executor.cc:894] successful NUMA node read from SysFS had negative value (-1), but there must be at least one NUMA node, so returning NUMA node zero. See more at https://github.com/torvalds/linux/blob/v6.0/Documentation/ABI/testing/sysfs-bus-pci#L344-L355\n",
      "2024-11-21 21:41:12.814951: I tensorflow/compiler/xla/stream_executor/cuda/cuda_gpu_executor.cc:894] successful NUMA node read from SysFS had negative value (-1), but there must be at least one NUMA node, so returning NUMA node zero. See more at https://github.com/torvalds/linux/blob/v6.0/Documentation/ABI/testing/sysfs-bus-pci#L344-L355\n",
      "2024-11-21 21:41:12.815302: I tensorflow/core/common_runtime/gpu/gpu_device.cc:1886] Created device /device:GPU:0 with 8108 MB memory:  -> device: 0, name: NVIDIA A100 80GB PCIe MIG 1g.10gb, pci bus id: 0000:00:10.0, compute capability: 8.0\n",
      "2024-11-21 21:41:12.820469: I tensorflow/compiler/xla/service/service.cc:168] XLA service 0x565319acd300 initialized for platform CUDA (this does not guarantee that XLA will be used). Devices:\n",
      "2024-11-21 21:41:12.820541: I tensorflow/compiler/xla/service/service.cc:176]   StreamExecutor device (0): NVIDIA A100 80GB PCIe MIG 1g.10gb, Compute Capability 8.0\n"
     ]
    }
   ],
   "source": [
    "from tensorflow.python.client import device_lib\n",
    "print(device_lib.list_local_devices())"
   ]
  },
  {
   "cell_type": "markdown",
   "id": "9b4ad03d-ae5d-4bc6-b055-3e8579849c5d",
   "metadata": {},
   "source": [
    "## Dataset"
   ]
  },
  {
   "cell_type": "markdown",
   "id": "f13d0b8c-6699-4caf-b257-abc4f8e49b99",
   "metadata": {},
   "source": [
    "### Load"
   ]
  },
  {
   "cell_type": "code",
   "execution_count": 5,
   "id": "667c238f-0e0f-4e4c-b185-f76d1ca261ea",
   "metadata": {},
   "outputs": [],
   "source": [
    "if DATA_AUGMENTATION:\n",
    "    X_train_val = np.load('{}/npy/x_train_val_augmented.npy'.format(DATA_DIR), allow_pickle=True)\n",
    "    X_test = np.load('{}/npy/x_test_augmented.npy'.format(DATA_DIR), allow_pickle=True)\n",
    "\n",
    "    if 'One Hot' in ENCODING_TYPE:\n",
    "        y_train_val = np.load('{}/npy/y_train_val_augmented_one_hot_encoding.npy'.format(DATA_DIR), allow_pickle=True)\n",
    "        y_test = np.load('{}/npy/y_test_augmented_one_hot_encoding.npy'.format(DATA_DIR), allow_pickle=True)\n",
    "    elif 'Linear' in ENCODING_TYPE:\n",
    "        y_train_val = np.load('{}/npy/y_train_val_augmented_linear_encoding.npy'.format(DATA_DIR), allow_pickle=True)\n",
    "        y_test = np.load('{}/npy/y_test_augmented_linear_encoding.npy'.format(DATA_DIR), allow_pickle=True)\n",
    "    elif 'Try Both' in ENCODING_TYPE:\n",
    "        y_train_val_one_hot_encoding = np.load('{}/npy/y_train_val_augmented_one_hot_encoding.npy'.format(DATA_DIR), allow_pickle=True)\n",
    "        y_test_one_hot_encoding = np.load('{}/npy/y_test_augmented_one_hot_encoding.npy'.format(DATA_DIR), allow_pickle=True)\n",
    "        y_train_val_linear_encoding = np.load('{}/npy/y_train_val_augmented_linear_encoding.npy'.format(DATA_DIR), allow_pickle=True)\n",
    "        y_test_linear_encoding = np.load('{}/npy/y_test_augmented_linear_encoding.npy'.format(DATA_DIR), allow_pickle=True)\n",
    "            \n",
    "else:\n",
    "    X_train_val = np.load('{}/npy/x_train_val.npy'.format(DATA_DIR), allow_pickle=True)\n",
    "    X_test = np.load('{}/npy/x_test.npy'.format(DATA_DIR), allow_pickle=True)\n",
    "    \n",
    "    if 'One Hot' in ENCODING_TYPE:\n",
    "        y_train_val = np.load('{}/npy/y_train_val_one_hot_encoding.npy'.format(DATA_DIR), allow_pickle=True)\n",
    "        y_test = np.load('{}/npy/y_test_one_hot_encoding.npy'.format(DATA_DIR), allow_pickle=True)\n",
    "    elif 'Linear' in ENCODING_TYPE:\n",
    "        y_train_val = np.load('{}/npy/y_train_val_linear_encoding.npy'.format(DATA_DIR), allow_pickle=True)\n",
    "        y_test = np.load('{}/npy/y_test_linear_encoding.npy'.format(DATA_DIR), allow_pickle=True)\n",
    "    elif 'Try Both' in ENCODING_TYPE:\n",
    "        y_train_val_one_hot_encoding = np.load('{}/npy/y_train_val_one_hot_encoding.npy'.format(DATA_DIR), allow_pickle=True)\n",
    "        y_test_one_hot_encoding = np.load('{}/npy/y_test_one_hot_encoding.npy'.format(DATA_DIR), allow_pickle=True)\n",
    "        y_train_val_linear_encoding = np.load('{}/npy/y_train_val_linear_encoding.npy'.format(DATA_DIR), allow_pickle=True)\n",
    "        y_test_linear_encoding = np.load('{}/npy/y_test_linear_encoding.npy'.format(DATA_DIR), allow_pickle=True)"
   ]
  },
  {
   "cell_type": "markdown",
   "id": "47ec9efd-ee93-429d-95b4-4e6efef296db",
   "metadata": {},
   "source": [
    "### Visualize"
   ]
  },
  {
   "cell_type": "code",
   "execution_count": 6,
   "id": "fcb45684",
   "metadata": {},
   "outputs": [
    {
     "name": "stdout",
     "output_type": "stream",
     "text": [
      "X_train_val.shape:  (972, 2)\n",
      "y_train_val_one_hot_encoding.shape:  (972, 45)\n",
      "y_train_val_one_hot_encoding[0]:  [0.00000000e+00 0.00000000e+00 4.03940887e-01 0.00000000e+00\n",
      " 0.00000000e+00 0.00000000e+00 0.00000000e+00 0.00000000e+00\n",
      " 0.00000000e+00 0.00000000e+00 0.00000000e+00 0.00000000e+00\n",
      " 0.00000000e+00 0.00000000e+00 3.14285714e-01 0.00000000e+00\n",
      " 0.00000000e+00 1.00000000e+00 0.00000000e+00 3.26585020e-04\n",
      " 0.00000000e+00 0.00000000e+00 0.00000000e+00 0.00000000e+00\n",
      " 0.00000000e+00 1.30013001e-04 0.00000000e+00 0.00000000e+00\n",
      " 0.00000000e+00 5.00025001e-05 0.00000000e+00 1.00000000e+00\n",
      " 1.00000000e+00 1.00000000e+00 1.00000000e+00 0.00000000e+00\n",
      " 1.00000000e+00 1.00000000e+00 0.00000000e+00 0.00000000e+00\n",
      " 1.00000000e+00 0.00000000e+00 0.00000000e+00 0.00000000e+00\n",
      " 0.00000000e+00]\n",
      "y_train_val_linear_encoding.shape:  (972, 43)\n",
      "y_train_val_linear_encoding[0]:  [0.00000000e+00 1.00000000e+00 0.00000000e+00 0.00000000e+00\n",
      " 4.03940887e-01 0.00000000e+00 0.00000000e+00 0.00000000e+00\n",
      " 0.00000000e+00 0.00000000e+00 0.00000000e+00 0.00000000e+00\n",
      " 0.00000000e+00 0.00000000e+00 0.00000000e+00 0.00000000e+00\n",
      " 3.14285714e-01 0.00000000e+00 0.00000000e+00 1.00000000e+00\n",
      " 0.00000000e+00 0.00000000e+00 0.00000000e+00 0.00000000e+00\n",
      " 0.00000000e+00 3.26585020e-04 0.00000000e+00 0.00000000e+00\n",
      " 0.00000000e+00 0.00000000e+00 0.00000000e+00 1.30013001e-04\n",
      " 0.00000000e+00 0.00000000e+00 0.00000000e+00 5.00025001e-05\n",
      " 0.00000000e+00 1.00000000e+00 1.00000000e+00 1.00000000e+00\n",
      " 1.00000000e+00 0.00000000e+00 1.00000000e+00]\n"
     ]
    }
   ],
   "source": [
    "if 'Try Both' not in ENCODING_TYPE:\n",
    "    print('X_train_val.shape: ', X_train_val.shape)\n",
    "    print('y_train_val.shape: ', y_train_val.shape)\n",
    "    print('y_train_val[0]: ', y_train_val[0])\n",
    "else:\n",
    "    print('X_train_val.shape: ', X_train_val.shape)\n",
    "    print('y_train_val_one_hot_encoding.shape: ', y_train_val_one_hot_encoding.shape)\n",
    "    print('y_train_val_one_hot_encoding[0]: ', y_train_val_one_hot_encoding[0])\n",
    "    print('y_train_val_linear_encoding.shape: ', y_train_val_linear_encoding.shape)\n",
    "    print('y_train_val_linear_encoding[0]: ', y_train_val_linear_encoding[0])"
   ]
  },
  {
   "cell_type": "code",
   "execution_count": 7,
   "id": "c8e90f9a-14a8-41e2-ad9a-cfe4e3000d6f",
   "metadata": {},
   "outputs": [
    {
     "data": {
      "text/plain": [
       "array([[0.06143168, 0.1222459 ],\n",
       "       [0.04092692, 0.07230281],\n",
       "       [0.51113395, 0.00118874],\n",
       "       ...,\n",
       "       [0.05754841, 0.25609945],\n",
       "       [0.57781303, 0.0013409 ],\n",
       "       [0.06168676, 0.26742149]])"
      ]
     },
     "metadata": {},
     "output_type": "display_data"
    }
   ],
   "source": [
    "display(X_train_val) #can check this in previous script as well after loading to make sure it matches"
   ]
  },
  {
   "cell_type": "code",
   "execution_count": 8,
   "id": "95debf17-6de3-49fc-9064-b01c985c3665",
   "metadata": {},
   "outputs": [
    {
     "name": "stdout",
     "output_type": "stream",
     "text": [
      "---------------------------------------\n",
      "Train-and-validation set shape x: 972, 79.93%\n",
      "Test set shape x:                 244, 20.07%\n",
      "---------------------------------------\n",
      "---------------------------------------\n",
      "Train-and-validation one-hot encoding set shape: 972, 79.93%\n",
      "Test set shape:                 244, 20.07%\n",
      "---------------------------------------\n",
      "---------------------------------------\n",
      "Train-and-validation linear encoding set shape: 972, 79.93%\n",
      "Test set shape:                 244, 20.07%\n",
      "---------------------------------------\n"
     ]
    }
   ],
   "source": [
    "#number of values in the training set and test set, these are probably pulling from the data files individual points\n",
    "total = len(X_train_val) + len(X_test)\n",
    "print('---------------------------------------')  \n",
    "print('Train-and-validation set shape x: {}, {:.2f}%'.format(len(X_train_val), (len(X_train_val)*100.)/total))\n",
    "print('Test set shape x:                 {}, {:.2f}%'.format(len(X_test), (len(X_test)*100.)/total))\n",
    "print('---------------------------------------')\n",
    "\n",
    "if 'Try Both' not in ENCODING_TYPE:\n",
    "    total = len(y_train_val) + len(y_test)\n",
    "    print('---------------------------------------')  \n",
    "    print('Train-and-validation set shape y: {}, {:.2f}%'.format(len(y_train_val), (len(y_train_val)*100.)/total))\n",
    "    print('Test set shape y:                 {}, {:.2f}%'.format(len(y_test), (len(y_test)*100.)/total))\n",
    "    print('---------------------------------------')\n",
    "else:\n",
    "    total = len(y_train_val_one_hot_encoding) + len(y_test_one_hot_encoding)\n",
    "    print('---------------------------------------')\n",
    "    print('Train-and-validation one-hot encoding set shape: {}, {:.2f}%'.format(len(y_train_val_one_hot_encoding), (len(y_train_val_one_hot_encoding)*100.)/total))\n",
    "    print('Test set shape:                 {}, {:.2f}%'.format(len(y_test_one_hot_encoding), (len(y_test_one_hot_encoding)*100.)/total))\n",
    "    print('---------------------------------------')\n",
    "    \n",
    "    total = len(y_train_val_linear_encoding) + len(y_test_linear_encoding)\n",
    "    print('---------------------------------------')\n",
    "    print('Train-and-validation linear encoding set shape: {}, {:.2f}%'.format(len(y_train_val_linear_encoding), (len(y_train_val_linear_encoding)*100.)/total))\n",
    "    print('Test set shape:                 {}, {:.2f}%'.format(len(y_test_linear_encoding), (len(y_test_linear_encoding)*100.)/total))\n",
    "    print('---------------------------------------')"
   ]
  },
  {
   "cell_type": "code",
   "execution_count": 9,
   "id": "6f6e25c0",
   "metadata": {},
   "outputs": [],
   "source": [
    "%matplotlib inline\n",
    "import matplotlib.pyplot as plt"
   ]
  },
  {
   "cell_type": "code",
   "execution_count": 10,
   "id": "78b32e05-b5df-4647-8dae-6ee5f8cddcca",
   "metadata": {},
   "outputs": [
    {
     "data": {
      "image/png": "[encoded data removed]",
      "text/plain": [
       "<Figure size 800x300 with 2 Axes>"
      ]
     },
     "metadata": {},
     "output_type": "display_data"
    },
    {
     "data": {
      "image/png": "[encoded data removed]",
      "text/plain": [
       "<Figure size 800x300 with 2 Axes>"
      ]
     },
     "metadata": {},
     "output_type": "display_data"
    }
   ],
   "source": [
    "#--------------------Training Set---------------------\n",
    "plt.figure(figsize=(8, 3))\n",
    "\n",
    "# Histogram for Cavity Frequency\n",
    "plt.subplot(1, 2, 1)\n",
    "plt.hist([i[0] for i in X_train_val], bins=30, color='lightblue', edgecolor='black')\n",
    "plt.title('Training Set Histogram of Cavity Frequency')\n",
    "plt.xlabel('Cavity Frequency (Hz)')\n",
    "plt.ylabel('Frequency')\n",
    "\n",
    "# Histogram for Kappa\n",
    "plt.subplot(1, 2, 2)\n",
    "plt.hist([i[1] for i in X_train_val], bins=30, color='salmon', edgecolor='black')\n",
    "plt.title('Training Set Histogram of Kappa')\n",
    "plt.xlabel('Kappa')\n",
    "plt.ylabel('Frequency')\n",
    "\n",
    "plt.tight_layout()\n",
    "plt.show()\n",
    "\n",
    "\n",
    "#--------------------Test Set---------------------\n",
    "plt.figure(figsize=(8, 3))\n",
    "\n",
    "# Histogram for Cavity Frequency\n",
    "plt.subplot(1, 2, 1)\n",
    "plt.hist([i[0] for i in X_test], bins=30, color='lightblue', edgecolor='black')\n",
    "plt.title('Test Set Histogram of Cavity Frequency')\n",
    "plt.xlabel('Cavity Frequency (Hz)')\n",
    "plt.ylabel('Frequency')\n",
    "\n",
    "# Histogram for Kappa\n",
    "plt.subplot(1, 2, 2)\n",
    "plt.hist([i[1] for i in X_test], bins=30, color='salmon', edgecolor='black')\n",
    "plt.title('Test Set Histogram of Kappa')\n",
    "plt.xlabel('Kappa')\n",
    "plt.ylabel('Frequency')\n",
    "\n",
    "plt.tight_layout()\n",
    "plt.show()"
   ]
  },
  {
   "cell_type": "markdown",
   "id": "61ecc581",
   "metadata": {},
   "source": [
    "## MLP"
   ]
  },
  {
   "cell_type": "markdown",
   "id": "251cf19c",
   "metadata": {},
   "source": [
    "### Create model"
   ]
  },
  {
   "cell_type": "markdown",
   "id": "8bb4f8c5",
   "metadata": {},
   "source": [
    "Create a classical multi-layer perceptron for regression: 602 input features, 10 targets, and a certain number of hidden layers and neurons. Taking some inspiration from [Deep learning-based I-V Global Parameter Extraction for BSIM-CMG](https://www.sciencedirect.com/science/article/pii/S003811012300179X), Solid-State Electronics, Vol. 209, November 2023."
   ]
  },
  {
   "cell_type": "markdown",
   "id": "d945bd67-9923-4f7c-8e32-56672a6c3a4a",
   "metadata": {},
   "source": [
    "Reccomended to download a third party app like \"Sleep control Center\" or \"Amphetamine\" to prevent computer from sleeping during the many hour/day long training process"
   ]
  },
  {
   "cell_type": "markdown",
   "id": "fcc4f485-e3da-4663-832c-3bc917660e45",
   "metadata": {},
   "source": [
    "### Create Model by Hand"
   ]
  },
  {
   "cell_type": "code",
   "execution_count": 11,
   "id": "ce671ad6",
   "metadata": {},
   "outputs": [
    {
     "name": "stdout",
     "output_type": "stream",
     "text": [
      "one hot:  45\n",
      "linear:  43\n"
     ]
    }
   ],
   "source": [
    "# n output neurons for n parameters\n",
    "if 'Try Both' not in ENCODING_TYPE:\n",
    "    # Multilayer perceptron (MLP) with 2 input features. MLP is having neurons that adjust rules based on how accurate they can guess things\n",
    "    model_shape = f'mlp_{len(X_test[0])}_'\n",
    "    \n",
    "    # Define the number on neurons in the inner layer (in parameter file)\n",
    "    model_shape += '_'.join(str(l) for l in NEURONS_PER_LAYER)\n",
    "\n",
    "    print(len(y_train_val[0]))\n",
    "    model_shape += f'_{len(y_train_val[0])}'\n",
    "else:\n",
    "    # Multilayer perceptron (MLP) with 2 input features. MLP is having neurons that adjust rules based on how accurate they can guess things\n",
    "    model_shape_one_hot_encoding = f'mlp_{len(X_test[0])}_'\n",
    "    model_shape_linear_encoding = f'mlp_{len(X_test[0])}_'\n",
    "    \n",
    "    # Define the number on neurons in the inner layer (in parameter file)\n",
    "    model_shape_one_hot_encoding += '_'.join(str(l) for l in NEURONS_PER_LAYER)\n",
    "    model_shape_linear_encoding += '_'.join(str(l) for l in NEURONS_PER_LAYER)\n",
    "\n",
    "    print('one hot: ',len(y_train_val_one_hot_encoding[0]))\n",
    "    model_shape_one_hot_encoding += f'_{len(y_train_val_one_hot_encoding[0])}'\n",
    "    print('linear: ',len(y_train_val_linear_encoding[0]))\n",
    "    model_shape_linear_encoding += f'_{len(y_train_val_linear_encoding[0])}'\n"
   ]
  },
  {
   "cell_type": "code",
   "execution_count": 13,
   "id": "85ba881d-a212-402c-86d8-ed5ab2bed357",
   "metadata": {},
   "outputs": [],
   "source": [
    "if 'Try Both' not in ENCODING_TYPE:\n",
    "    # Initialize a sequential model, which lets us build a linear stack of layers\n",
    "    model = Sequential()\n",
    "    \n",
    "    # Add an input layer to the model. This layer defines the shape of the input data (2 features per sample), sets dimensions of following layers\n",
    "    model.add(Input(shape=(len(X_test[0])), name='input1'))\n",
    "    \n",
    "    # Iterate over the configuration of neurons for each hidden layer specified in NEURONS_PER_LAYER\n",
    "    for i, n in enumerate(NEURONS_PER_LAYER):\n",
    "        # Add a fully connected (dense) hidden layer with spec ified number of neurons\n",
    "        # The LeCun uniform initializer is used when initializing weights, this makes the model more stable\n",
    "        # L2 regularization is used in each layer to penalizing large weights, which prevents overfitting\n",
    "        model.add(Dense(n, name='fc{}'.format(i), kernel_initializer='lecun_uniform', kernel_regularizer=tf.keras.regularizers.l2(0.001)))\n",
    "    \n",
    "        # Apply a Leaky ReLU activation function to the outputs of the dense layer\n",
    "        # This introduces non-linearities, allowing the network to learn complex functions\n",
    "        # Leaky ReLU is chosen over standard ReLU to help mitigate the \"dying ReLU\" problem:\n",
    "        #     - This problem is when neurons using the ReLU activation function output zero for all inputs and stop learning\n",
    "        #     - Can be mitigated by using variations like Leaky ReLU or proper initialization\n",
    "        model.add(LeakyReLU(alpha=0.01, name='leaky_relu{}'.format(i)))\n",
    "        \n",
    "        # Add a dropout layer to reduce overfitting -- randomly drops a set fraction (like 30%) of outputs from the layer\n",
    "        model.add(Dropout(rate=TRAIN_DROPOUT_RATE, name='dropout{}'.format(i)))\n",
    "    \n",
    "    # Add the output layer consisting of # neurons, corresponding to the # target variables we aim to predict.\n",
    "    # The same LeCun uniform initializer is used to ensure consistency and stability at the output layer as well.\n",
    "    model.add(Dense(len(y_train_val[0]), activation='linear', name='fc_output', kernel_initializer='lecun_uniform'))\n",
    "\n",
    "else:\n",
    "    model_one_hot_encoding = Sequential()\n",
    "    model_one_hot_encoding.add(Input(shape=(len(X_test[0])), name='input1'))\n",
    "    for i, n in enumerate(NEURONS_PER_LAYER):\n",
    "        model_one_hot_encoding.add(Dense(n, name='fc{}'.format(i), kernel_initializer='lecun_uniform', kernel_regularizer=tf.keras.regularizers.l2(0.001)))\n",
    "        model_one_hot_encoding.add(LeakyReLU(alpha=0.01, name='leaky_relu{}'.format(i)))\n",
    "        model_one_hot_encoding.add(Dropout(rate=TRAIN_DROPOUT_RATE, name='dropout{}'.format(i)))\n",
    "    model_one_hot_encoding.add(Dense(len(y_train_val_one_hot_encoding[0]), activation='linear', name='fc_output', kernel_initializer='lecun_uniform'))\n",
    "\n",
    "    model_linear_encoding = Sequential()\n",
    "    model_linear_encoding.add(Input(shape=(len(X_test[0])), name='input1'))\n",
    "    for i, n in enumerate(NEURONS_PER_LAYER):\n",
    "        model_linear_encoding.add(Dense(n, name='fc{}'.format(i), kernel_initializer='lecun_uniform', kernel_regularizer=tf.keras.regularizers.l2(0.001)))\n",
    "        model_linear_encoding.add(LeakyReLU(alpha=0.01, name='leaky_relu{}'.format(i)))\n",
    "        model_linear_encoding.add(Dropout(rate=TRAIN_DROPOUT_RATE, name='dropout{}'.format(i)))\n",
    "    model_linear_encoding.add(Dense(len(y_train_val_linear_encoding[0]), activation='linear', name='fc_output', kernel_initializer='lecun_uniform'))"
   ]
  },
  {
   "cell_type": "code",
   "execution_count": 14,
   "id": "e0181fd2-e4ee-4e41-aaae-4603c1a853cb",
   "metadata": {},
   "outputs": [
    {
     "name": "stderr",
     "output_type": "stream",
     "text": [
      "2024-11-21 21:42:09.374686: I tensorflow/tsl/platform/default/subprocess.cc:304] Start cannot spawn child process: No such file or directory\n"
     ]
    }
   ],
   "source": [
    "# The exponential decay learning rate schedule gradually reduces the learning rate, fine-tuning the learning process for better convergence\n",
    "lr_schedule = tf.keras.optimizers.schedules.ExponentialDecay(\n",
    "    initial_learning_rate=LR_INITIAL,  \n",
    "    decay_steps=LR_DECAY_STEPS,        \n",
    "    decay_rate=LR_DECAY_RATE,          \n",
    "    staircase=LR_STAIRCASE             \n",
    ")\n",
    "\n",
    "if 'Try Both' not in ENCODING_TYPE:\n",
    "    # Set model to minimize loss specified by TRAIN_LOSS, and also to report the loss during training\n",
    "    model.compile(\n",
    "        optimizer=tf.optimizers.Adam(learning_rate=lr_schedule),  \n",
    "        loss=TRAIN_LOSS,                                         \n",
    "        metrics=[TRAIN_LOSS]                                     \n",
    "    )\n",
    "else:\n",
    "    # Set model to minimize loss specified by TRAIN_LOSS, and also to report the loss during training\n",
    "    model_linear_encoding.compile(\n",
    "        optimizer=tf.optimizers.Adam(learning_rate=lr_schedule),  \n",
    "        loss=TRAIN_LOSS,                                         \n",
    "        metrics=[TRAIN_LOSS]                                     \n",
    "    )\n",
    "    model_one_hot_encoding.compile(\n",
    "        optimizer=tf.optimizers.Adam(learning_rate=lr_schedule),  \n",
    "        loss=TRAIN_LOSS,                                         \n",
    "        metrics=[TRAIN_LOSS]                                     \n",
    "    )"
   ]
  },
  {
   "cell_type": "code",
   "execution_count": 21,
   "id": "44e3657d-d0ac-40e6-9829-694436270bb4",
   "metadata": {},
   "outputs": [],
   "source": [
    "!mkdir -p model\n",
    "if 'Try Both' not in ENCODING_TYPE:\n",
    "    best_model_file = 'model/{}_best_model.h5'.format(model_shape)\n",
    "    last_model_file = 'model/{}_last_model.h5'.format(model_shape)\n",
    "else:\n",
    "    best_model_file_one_hot_encoding = 'model/{}_best_model_one_hot_encoding.h5'.format(model_shape_one_hot_encoding)\n",
    "    last_model_file_one_hot_encoding = 'model/{}_last_model_one_hot_encoding.h5'.format(model_shape_one_hot_encoding)\n",
    "\n",
    "    best_model_file_linear_encoding = 'model/{}_best_model_linear_encoding.h5'.format(model_shape_linear_encoding)\n",
    "    last_model_file_linear_encoding = 'model/{}_last_model_linear_encoding.h5'.format(model_shape_linear_encoding)"
   ]
  },
  {
   "cell_type": "markdown",
   "id": "49516260-5078-4162-ab99-cdb45f9f9827",
   "metadata": {},
   "source": [
    "Enable training (`train_and_save`) to overwrite the model file."
   ]
  },
  {
   "cell_type": "code",
   "execution_count": 22,
   "id": "c95e4501-3aea-4053-9788-30b4532d7f82",
   "metadata": {},
   "outputs": [],
   "source": [
    "train_and_save = True"
   ]
  },
  {
   "cell_type": "markdown",
   "id": "f2957910-f200-4e9f-91c3-6e7ed0926ceb",
   "metadata": {},
   "source": [
    "We use Adam optimizer, minimize the Mean Squared Logarithmic Error, and early stop."
   ]
  },
  {
   "cell_type": "markdown",
   "id": "e3a00680-7b7f-4877-babb-481f0682b7b3",
   "metadata": {
    "tags": []
   },
   "source": [
    "#### Training"
   ]
  },
  {
   "cell_type": "code",
   "execution_count": 23,
   "id": "96b4fdb2",
   "metadata": {},
   "outputs": [],
   "source": [
    "from IPython.display import clear_output\n",
    "\n",
    "class TrainingPlot(tf.keras.callbacks.Callback):\n",
    "     \n",
    "    # This function is called when the training begins\n",
    "    def on_train_begin(self, logs={}):\n",
    "        # Initialize the lists for holding the logs, losses \n",
    "        self.losses = []\n",
    "        self.val_losses = []\n",
    "        self.logs = []\n",
    "    \n",
    "    # This function is called at the end of each epoch\n",
    "    def on_epoch_end(self, epoch, logs={}):\n",
    "        \n",
    "        # Append the logs, losses  to the lists\n",
    "        self.logs.append(logs)\n",
    "        self.losses.append(logs.get('loss'))\n",
    "        self.val_losses.append(logs.get('val_loss'))\n",
    "        \n",
    "        # Before plotting ensure at least 2 epochs have passed\n",
    "        if len(self.losses) > 1:\n",
    "            \n",
    "            # Clear the previous plot\n",
    "            clear_output(wait=True)\n",
    "            N = np.arange(0, len(self.losses))\n",
    "            \n",
    "            # Plot train loss, train acc, val loss and val acc against epochs passed\n",
    "            plt.figure()\n",
    "            plt.plot(N, self.losses, label = \"train_loss\")\n",
    "            plt.plot(N, self.val_losses, label = \"val_loss\")\n",
    "            plt.title(\"Training Loss [Epoch {}]\".format(epoch))\n",
    "            plt.xlabel(\"Epoch #\")\n",
    "            plt.ylabel(\"Loss/Accuracy\")\n",
    "            plt.legend()\n",
    "            plt.show()\n",
    "       \n",
    "class LearningRateMonitor(tf.keras.callbacks.Callback):\n",
    "    def __init__(self):\n",
    "        super(LearningRateMonitor, self).__init__()\n",
    "        self.learning_rates = []\n",
    "\n",
    "    def on_epoch_end(self, epoch, logs=None):\n",
    "        lr = self.model.optimizer._current_learning_rate.read_value()\n",
    "        self.learning_rates.append(lr)\n",
    "        print(f\"Epoch: {epoch + 1}, Learning Rate: {lr:.10f}\")"
   ]
  },
  {
   "cell_type": "code",
   "execution_count": 25,
   "id": "ef223c28-cc33-4721-b049-be7023eb13ea",
   "metadata": {},
   "outputs": [
    {
     "data": {
      "image/png": "[encoded data removed]",
      "text/plain": [
       "<Figure size 640x480 with 1 Axes>"
      ]
     },
     "metadata": {},
     "output_type": "display_data"
    },
    {
     "name": "stdout",
     "output_type": "stream",
     "text": [
      "Epoch: 100, Learning Rate: 0.0011324665\n",
      "25/25 [==============================] - 0s 15ms/step - loss: 0.0281 - mean_squared_error: 0.0150 - val_loss: 0.0292 - val_mean_squared_error: 0.0160\n",
      "CPU times: user 1min 36s, sys: 40 s, total: 2min 16s\n",
      "Wall time: 2min 1s\n"
     ]
    }
   ],
   "source": [
    "%%time\n",
    "history = None  \n",
    "\n",
    "if train_and_save: \n",
    "    # Set up early stopping to prevent overfitting by halting training when validation loss stops improving\n",
    "    early_stopping = EarlyStopping(\n",
    "        monitor='val_loss',                      # Monitor validation loss for stopping criteria \n",
    "        mode='min',                              # Stop when the monitored quantity has stopped decreasing\n",
    "        patience=TRAIN_EARLY_STOPPING_PATIENCE,  # Number of epochs to wait after last improvement\n",
    "        verbose=1                                # Enable logging when early stopping happens\n",
    "    )\n",
    "\n",
    "    # Train the model on the training data and validate on a portion of it\n",
    "    if 'Try Both' not in ENCODING_TYPE:\n",
    "        plot_callback = TrainingPlot()      # Plot training progress\n",
    "        lr_monitor = LearningRateMonitor()  # Watch learning rate changes\n",
    "        \n",
    "        # Set up model checkpointing to save the model at its best validation loss:\n",
    "        model_checkpoint = ModelCheckpoint(\n",
    "            filepath=best_model_file,          \n",
    "            monitor='val_loss',            # Save the model based on validation loss improvement\n",
    "            mode='min',                    # Favor lower validation loss values for saving (minimize)\n",
    "            save_best_only=True,           # Save only when validation loss improves\n",
    "            verbose=0                      # No logging for model saving\n",
    "        )\n",
    "        history = model.fit(\n",
    "            np.asarray(X_train_val),  \n",
    "            np.asarray(y_train_val),      \n",
    "            epochs=100,                   \n",
    "            batch_size=TRAIN_BATCH_SIZE,  \n",
    "            validation_split=TRAIN_VALIDATION_SPLIT,  \n",
    "            callbacks=[early_stopping, model_checkpoint, plot_callback, lr_monitor],  \n",
    "            verbose=1  # Enable logging of the training process.\n",
    "        )\n",
    "        \n",
    "        model.save(last_model_file)  # Save the final model when done training!\n",
    "    \n",
    "    else:\n",
    "        #-----------------------------------------linear--------------------------------------------\n",
    "        plot_callback_linear_encoding = TrainingPlot()      # Plot training progress\n",
    "        lr_monitor_linear_encoding = LearningRateMonitor()  # Watch learning rate changes\n",
    "        \n",
    "        # Set up model checkpointing to save the model at its best validation loss:\n",
    "        model_checkpoint_linear_encoding = ModelCheckpoint(\n",
    "            filepath=best_model_file_linear_encoding,          \n",
    "            monitor='val_loss',            # Save the model based on validation loss improvement\n",
    "            mode='min',                    # Favor lower validation loss values for saving (minimize)\n",
    "            save_best_only=True,           # Save only when validation loss improves\n",
    "            verbose=0                      # No logging for model saving\n",
    "        )\n",
    "        \n",
    "        history_linear_encoding = model_linear_encoding.fit(\n",
    "            np.asarray(X_train_val),  \n",
    "            np.asarray(y_train_val_linear_encoding),      \n",
    "            epochs=100,                   \n",
    "            batch_size=TRAIN_BATCH_SIZE,  \n",
    "            validation_split=TRAIN_VALIDATION_SPLIT,  \n",
    "            callbacks=[early_stopping, model_checkpoint_linear_encoding, plot_callback_linear_encoding, lr_monitor_linear_encoding],  \n",
    "            verbose=1  # Enable logging of the training process.\n",
    "        )\n",
    "        \n",
    "        model_linear_encoding.save(last_model_file_linear_encoding)  # Save the final model when done training!\n",
    "        \n",
    "        #-----------------------------------------one hot--------------------------------------------\n",
    "        plot_callback_one_hot_encoding = TrainingPlot()      # Plot training progress\n",
    "        lr_monitor_one_hot_encoding = LearningRateMonitor()  # Watch learning rate changes\n",
    "        \n",
    "        # Set up model checkpointing to save the model at its best validation loss:\n",
    "        model_checkpoint_one_hot_encoding = ModelCheckpoint(\n",
    "            filepath=best_model_file_one_hot_encoding,          \n",
    "            monitor='val_loss',            # Save the model based on validation loss improvement\n",
    "            mode='min',                    # Favor lower validation loss values for saving (minimize)\n",
    "            save_best_only=True,           # Save only when validation loss improves\n",
    "            verbose=0                      # No logging for model saving\n",
    "        )\n",
    "        \n",
    "        history_one_hot_encoding = model_one_hot_encoding.fit(\n",
    "            np.asarray(X_train_val),  \n",
    "            np.asarray(y_train_val_one_hot_encoding),      \n",
    "            epochs=100,                   \n",
    "            batch_size=TRAIN_BATCH_SIZE,  \n",
    "            validation_split=TRAIN_VALIDATION_SPLIT,  \n",
    "            callbacks=[early_stopping, model_checkpoint_one_hot_encoding, plot_callback_one_hot_encoding, lr_monitor_one_hot_encoding],  \n",
    "            verbose=1  # Enable logging of the training process.\n",
    "        )\n",
    "        \n",
    "        model_one_hot_encoding.save(last_model_file_one_hot_encoding)  # Save the final model when done training!\n"
   ]
  },
  {
   "cell_type": "markdown",
   "id": "a4a4074c-a8ef-4a69-a8cd-5714edb90166",
   "metadata": {},
   "source": [
    "Load the saved best model and use it from now on."
   ]
  },
  {
   "cell_type": "code",
   "execution_count": 26,
   "id": "2447145e-91b5-4070-aefe-38f8e6bc33de",
   "metadata": {},
   "outputs": [],
   "source": [
    "model_one_hot_encoding = load_model(best_model_file_one_hot_encoding, custom_objects={})\n",
    "model_linear_encoding = load_model(best_model_file_linear_encoding, custom_objects={})"
   ]
  },
  {
   "cell_type": "markdown",
   "id": "b002f4a5-df05-4ff2-be6d-24f8027ca4ea",
   "metadata": {},
   "source": [
    "### Keras Tuner to Find Best Hyperparameters and Model"
   ]
  },
  {
   "cell_type": "markdown",
   "id": "6efe2de3-ba0a-4103-bfd1-466d73bd9b8c",
   "metadata": {},
   "source": [
    "Run this if you want to use keras tuner to make the model rather than doing it by hand"
   ]
  },
  {
   "cell_type": "code",
   "execution_count": 27,
   "id": "2d804553-ae82-4f8f-9182-806c7f22b531",
   "metadata": {},
   "outputs": [],
   "source": [
    "if KERAS_TUNER:\n",
    "    from tensorflow.keras import Sequential\n",
    "    from tensorflow.keras.layers import Dense, Input, Dropout\n",
    "    from tensorflow.keras.regularizers import l2\n",
    "    from tensorflow.keras.callbacks import EarlyStopping, ModelCheckpoint\n",
    "    from keras_tuner import HyperModel, RandomSearch\n",
    "    from tensorflow.keras.models import load_model"
   ]
  },
  {
   "cell_type": "code",
   "execution_count": 28,
   "id": "081aa70b-c54e-48af-b895-5e9ddd2746cc",
   "metadata": {},
   "outputs": [],
   "source": [
    "if KERAS_TUNER:\n",
    "    def build_hypermodel(hp):\n",
    "        # Hyperparameters to tune\n",
    "        neurons_per_layer = [hp.Int(f'neurons_{i}', min_value=100, max_value=5000, step=100) for i in range(4)]\n",
    "        dropout_rate = hp.Float('dropout_rate', TRAIN_DROPOUT_RATE, 0.5, step=0.1)\n",
    "        \n",
    "        # Create Model in the same way that we do by hand\n",
    "        model = Sequential()\n",
    "        model.add(Input(shape=(2,), name='input1'))\n",
    "    \n",
    "        for i, n in enumerate(neurons_per_layer):\n",
    "            model.add(Dense(n, name=f'fc{i}', kernel_initializer='lecun_uniform', kernel_regularizer=tf.keras.regularizers.l2(0.001)))\n",
    "            model.add(LeakyReLU(alpha=0.01, name=f'leaky_relu{i}'))\n",
    "            model.add(Dropout(rate=dropout_rate, name=f'dropout{i}'))\n",
    "    \n",
    "        model.add(Dense(45, name='output', kernel_initializer='lecun_uniform'))\n",
    "    \n",
    "        # Learning rate configuration\n",
    "        lr_initial = hp.Float('learning_rate', 1e-6, 5e-3, sampling='LOG', default=0.0001)\n",
    "        lr_schedule = tf.keras.optimizers.schedules.ExponentialDecay(\n",
    "            initial_learning_rate=lr_initial,\n",
    "            decay_steps=LR_DECAY_STEPS,\n",
    "            decay_rate=LR_DECAY_RATE,\n",
    "            staircase=LR_STAIRCASE\n",
    "        )\n",
    "    \n",
    "        model.compile(optimizer=tf.optimizers.Adam(learning_rate=lr_schedule), \n",
    "                      loss='mean_squared_error',\n",
    "                      metrics=['mean_squared_error'])\n",
    "        return model"
   ]
  },
  {
   "cell_type": "code",
   "execution_count": 29,
   "id": "2cfea157-b0b4-4148-8d0a-e37c877877a4",
   "metadata": {},
   "outputs": [],
   "source": [
    "if KERAS_TUNER:\n",
    "    # Start tuning\n",
    "    tuner = RandomSearch(\n",
    "        build_hypermodel,\n",
    "        objective='val_loss',\n",
    "        max_trials=31,\n",
    "        executions_per_trial=1,\n",
    "        directory='hyper_tuning',\n",
    "        project_name='mlp_tuning'\n",
    "    )"
   ]
  },
  {
   "cell_type": "code",
   "execution_count": 30,
   "id": "c11608cb-5b05-45af-af22-0bcab2827734",
   "metadata": {},
   "outputs": [],
   "source": [
    "if KERAS_TUNER:\n",
    "    # Setup Callbacks\n",
    "    early_stopping = EarlyStopping(\n",
    "        monitor='val_loss',\n",
    "        mode='min',\n",
    "        patience=TRAIN_EARLY_STOPPING_PATIENCE,\n",
    "        verbose=1\n",
    "    )"
   ]
  },
  {
   "cell_type": "code",
   "execution_count": 31,
   "id": "15440869-6be6-4005-9db4-3b37695adc5c",
   "metadata": {},
   "outputs": [],
   "source": [
    "if KERAS_TUNER:\n",
    "    # Perform hyperparameter tuning\n",
    "    tuner.search(np.asarray(X_train_val), \n",
    "                 np.asarray(y_train_val), \n",
    "                 epochs=50, \n",
    "                 batch_size=TRAIN_BATCH_SIZE, \n",
    "                 validation_split=TRAIN_VALIDATION_SPLIT, \n",
    "                 callbacks=[early_stopping], \n",
    "                 verbose=1)"
   ]
  },
  {
   "cell_type": "code",
   "execution_count": 32,
   "id": "416e8802-97f4-42e5-8571-36b78d2f079b",
   "metadata": {},
   "outputs": [],
   "source": [
    "if KERAS_TUNER:\n",
    "    model = tuner.get_best_models(num_models=1)[0]\n",
    "    print(model)"
   ]
  },
  {
   "cell_type": "code",
   "execution_count": 33,
   "id": "598b1b58-8413-4573-a02d-fe8363165edc",
   "metadata": {},
   "outputs": [],
   "source": [
    "if KERAS_TUNER:\n",
    "    best_model_file = 'model/best_keras_model.h5'\n",
    "    model.save(best_model_file)\n",
    "    \n",
    "    model = load_model(best_model_file)"
   ]
  },
  {
   "cell_type": "markdown",
   "id": "4291953b-7ce8-498d-88ce-20974516af77",
   "metadata": {},
   "source": [
    "### View the model"
   ]
  },
  {
   "cell_type": "code",
   "execution_count": 34,
   "id": "137d2a50-a4ef-4ccc-8cb9-04e380f0fcfb",
   "metadata": {
    "scrolled": true
   },
   "outputs": [],
   "source": [
    "if KERAS_TUNER:\n",
    "    model.summary()"
   ]
  },
  {
   "cell_type": "code",
   "execution_count": 35,
   "id": "a0ff4e35-6bb8-401a-9cae-a799b3bbc388",
   "metadata": {},
   "outputs": [],
   "source": [
    "if KERAS_TUNER:\n",
    "    tf.keras.utils.plot_model(model, to_file='{}_model.png'.format(model_shape), show_shapes=True, show_layer_names=True)"
   ]
  },
  {
   "cell_type": "raw",
   "id": "f05d0a25-2890-4ddc-b888-57b849fa2a0f",
   "metadata": {},
   "source": [
    "if KERAS_TUNER:\n",
    "    keras2ascii(model)"
   ]
  },
  {
   "cell_type": "markdown",
   "id": "4e57cb40-ca2c-4ac7-905c-e13beaf71a51",
   "metadata": {},
   "source": [
    "### Evaluation"
   ]
  },
  {
   "cell_type": "markdown",
   "id": "7b5556f8-c81b-4522-b7be-d847b6f20452",
   "metadata": {},
   "source": [
    "Although we may plot and print many metrics, we focus only on **Mean Squared Error (MSE).**"
   ]
  },
  {
   "cell_type": "markdown",
   "id": "89dc9acc-ad33-4df3-ac56-8ed3913ce16d",
   "metadata": {},
   "source": [
    "Plot training history."
   ]
  },
  {
   "cell_type": "code",
   "execution_count": 36,
   "id": "523cc6fc",
   "metadata": {},
   "outputs": [],
   "source": [
    "#%matplotlib ipympl\n",
    "%matplotlib inline\n",
    "import matplotlib.pyplot as plt\n",
    "from mpl_toolkits.mplot3d import Axes3D"
   ]
  },
  {
   "cell_type": "code",
   "execution_count": 37,
   "id": "347263a8-570e-4a04-bbae-3ea0662e4012",
   "metadata": {
    "tags": []
   },
   "outputs": [
    {
     "data": {
      "image/png": "[encoded data removed]",
      "text/plain": [
       "<Figure size 640x480 with 1 Axes>"
      ]
     },
     "metadata": {},
     "output_type": "display_data"
    },
    {
     "data": {
      "image/png": "[encoded data removed]",
      "text/plain": [
       "<Figure size 640x480 with 1 Axes>"
      ]
     },
     "metadata": {},
     "output_type": "display_data"
    }
   ],
   "source": [
    "if 'Try Both' not in ENCODING_TYPE:\n",
    "    plt.plot(history.history['loss'])\n",
    "    plt.plot(history.history['val_loss'])\n",
    "    plt.title('Model loss')\n",
    "    plt.ylabel('Loss')\n",
    "    plt.xlabel('Epoch')\n",
    "    plt.legend(['Train', 'Validation'], loc='best')\n",
    "    plt.show()\n",
    "else:\n",
    "    plt.plot(history_linear_encoding.history['loss'])\n",
    "    plt.plot(history_linear_encoding.history['val_loss'])\n",
    "    plt.title('Model loss linear encoding')\n",
    "    plt.ylabel('Loss')\n",
    "    plt.xlabel('Epoch')\n",
    "    plt.legend(['Train', 'Validation'], loc='best')\n",
    "    plt.show()\n",
    "\n",
    "    plt.plot(history_one_hot_encoding.history['loss'])\n",
    "    plt.plot(history_one_hot_encoding.history['val_loss'])\n",
    "    plt.title('Model loss one hot encoding')\n",
    "    plt.ylabel('Loss')\n",
    "    plt.xlabel('Epoch')\n",
    "    plt.legend(['Train', 'Validation'], loc='best')\n",
    "    plt.show()"
   ]
  },
  {
   "cell_type": "code",
   "execution_count": 38,
   "id": "47150b9b",
   "metadata": {},
   "outputs": [
    {
     "data": {
      "image/png": "[encoded data removed]",
      "text/plain": [
       "<Figure size 640x480 with 1 Axes>"
      ]
     },
     "metadata": {},
     "output_type": "display_data"
    },
    {
     "data": {
      "image/png": "[encoded data removed]",
      "text/plain": [
       "<Figure size 640x480 with 1 Axes>"
      ]
     },
     "metadata": {},
     "output_type": "display_data"
    }
   ],
   "source": [
    "if 'Try Both' not in ENCODING_TYPE:\n",
    "    plt.plot(lr_monitor.learning_rates)\n",
    "    plt.title(\"Learning Rate over Epochs\")\n",
    "    plt.xlabel(\"Epoch\")\n",
    "    plt.ylabel(\"Learning Rate\")\n",
    "    plt.show()\n",
    "else:\n",
    "    plt.plot(lr_monitor_linear_encoding.learning_rates)\n",
    "    plt.title(\"Learning Rate over Epochs linear encoding\")\n",
    "    plt.xlabel(\"Epoch\")\n",
    "    plt.ylabel(\"Learning Rate\")\n",
    "    plt.show()\n",
    "\n",
    "    plt.plot(lr_monitor_one_hot_encoding.learning_rates)\n",
    "    plt.title(\"Learning Rate over Epochs one hot encoding\")\n",
    "    plt.xlabel(\"Epoch\")\n",
    "    plt.ylabel(\"Learning Rate\")\n",
    "    plt.show()"
   ]
  },
  {
   "cell_type": "markdown",
   "id": "95a331d8-70ea-4ea4-8f5b-256472850784",
   "metadata": {},
   "source": [
    "Measure and print metrics."
   ]
  },
  {
   "cell_type": "code",
   "execution_count": 44,
   "id": "32ff7d16-5709-41d6-b3f7-e6c9a062b35c",
   "metadata": {
    "tags": []
   },
   "outputs": [
    {
     "name": "stdout",
     "output_type": "stream",
     "text": [
      "8/8 [==============================] - 0s 3ms/step - loss: 0.0240 - mean_squared_error: 0.0112\n",
      "8/8 [==============================] - 0s 3ms/step - loss: 0.0236 - mean_squared_error: 0.0106\n",
      "[1.         0.         0.         0.         0.03940887 0.\n",
      " 0.         0.         0.         0.         0.         0.\n",
      " 1.         1.         1.         0.         1.         0.\n",
      " 0.         1.         0.         0.         0.         0.\n",
      " 0.         1.         0.         0.         0.         0.\n",
      " 1.         1.         0.         1.         0.         0.\n",
      " 0.         0.         0.         0.         0.         1.\n",
      " 0.        ]\n",
      "[1.         0.         0.         0.         0.03940887 0.\n",
      " 0.         0.         0.         0.         0.         0.\n",
      " 1.         1.         1.         0.         1.         0.\n",
      " 0.         1.         0.         0.         0.         0.\n",
      " 0.         1.         0.         0.         0.         0.\n",
      " 1.         1.         0.         1.         0.         0.\n",
      " 0.         0.         0.         0.         0.         1.\n",
      " 0.        ]\n",
      "Current loss linear encoding mean_squared_error: 0.02404484711587429\n",
      "Current loss one hot encoding mean_squared_error: 0.023607920855283737\n"
     ]
    }
   ],
   "source": [
    "if 'Try Both' not in ENCODING_TYPE:\n",
    "    test_loss_result = model.evaluate(np.asarray(X_test), np.asarray(y_test))[0]\n",
    "    print(y_test[0])\n",
    "    print('test_loss_result: ', test_loss_result)\n",
    "else:\n",
    "    test_loss_result_linear_encoding = model_linear_encoding.evaluate(np.asarray(X_test), np.asarray(y_test_linear_encoding))[0]\n",
    "    test_loss_result_one_hot_encoding = model_one_hot_encoding.evaluate(np.asarray(X_test), np.asarray(y_test_one_hot_encoding))[0]\n",
    "\n",
    "    print(y_test_linear_encoding[0])\n",
    "    print(y_test_linear_encoding[0])\n",
    "    \n",
    "    print('Current loss linear encoding {}: {}'.format(TRAIN_LOSS, test_loss_result_linear_encoding))\n",
    "    print('Current loss one hot encoding {}: {}'.format(TRAIN_LOSS, test_loss_result_one_hot_encoding))"
   ]
  },
  {
   "cell_type": "markdown",
   "id": "be7812af-2596-44d2-bb25-68741e0506ba",
   "metadata": {},
   "source": [
    "## Compare predictions vs. test set"
   ]
  },
  {
   "cell_type": "code",
   "execution_count": 53,
   "id": "60157266",
   "metadata": {},
   "outputs": [
    {
     "data": {
      "text/html": [
       "<style type=\"text/css\">\n",
       "#T_19127_row0_col3, #T_19127_row1_col3 {\n",
       "  color: red;\n",
       "}\n",
       "</style>\n",
       "<table id=\"T_19127\">\n",
       "  <thead>\n",
       "    <tr>\n",
       "      <th class=\"blank level0\" >&nbsp;</th>\n",
       "      <th id=\"T_19127_level0_col0\" class=\"col_heading level0 col0\" >data_augmentation</th>\n",
       "      <th id=\"T_19127_level0_col1\" class=\"col_heading level0 col1\" >model_shape</th>\n",
       "      <th id=\"T_19127_level0_col2\" class=\"col_heading level0 col2\" >encoding_type</th>\n",
       "      <th id=\"T_19127_level0_col3\" class=\"col_heading level0 col3\" >test_loss</th>\n",
       "      <th id=\"T_19127_level0_col4\" class=\"col_heading level0 col4\" >train_loss</th>\n",
       "      <th id=\"T_19127_level0_col5\" class=\"col_heading level0 col5\" >train_dropout_rate</th>\n",
       "      <th id=\"T_19127_level0_col6\" class=\"col_heading level0 col6\" >train_early_stop_patience</th>\n",
       "      <th id=\"T_19127_level0_col7\" class=\"col_heading level0 col7\" >train_batch_size</th>\n",
       "      <th id=\"T_19127_level0_col8\" class=\"col_heading level0 col8\" >train_val_split</th>\n",
       "      <th id=\"T_19127_level0_col9\" class=\"col_heading level0 col9\" >lr_initial</th>\n",
       "      <th id=\"T_19127_level0_col10\" class=\"col_heading level0 col10\" >lr_decay_step</th>\n",
       "      <th id=\"T_19127_level0_col11\" class=\"col_heading level0 col11\" >lr_decay_rate</th>\n",
       "      <th id=\"T_19127_level0_col12\" class=\"col_heading level0 col12\" >lr_stair_case</th>\n",
       "    </tr>\n",
       "  </thead>\n",
       "  <tbody>\n",
       "    <tr>\n",
       "      <th id=\"T_19127_level0_row0\" class=\"row_heading level0 row0\" >0</th>\n",
       "      <td id=\"T_19127_row0_col0\" class=\"data row0 col0\" >True</td>\n",
       "      <td id=\"T_19127_row0_col1\" class=\"data row0 col1\" >mlp_2_3300_200_4600_1700_45</td>\n",
       "      <td id=\"T_19127_row0_col2\" class=\"data row0 col2\" >One Hot</td>\n",
       "      <td id=\"T_19127_row0_col3\" class=\"data row0 col3\" >0.023608</td>\n",
       "      <td id=\"T_19127_row0_col4\" class=\"data row0 col4\" >mean_squared_error</td>\n",
       "      <td id=\"T_19127_row0_col5\" class=\"data row0 col5\" >0.400000</td>\n",
       "      <td id=\"T_19127_row0_col6\" class=\"data row0 col6\" >50</td>\n",
       "      <td id=\"T_19127_row0_col7\" class=\"data row0 col7\" >32</td>\n",
       "      <td id=\"T_19127_row0_col8\" class=\"data row0 col8\" >0.200000</td>\n",
       "      <td id=\"T_19127_row0_col9\" class=\"data row0 col9\" >0.001456</td>\n",
       "      <td id=\"T_19127_row0_col10\" class=\"data row0 col10\" >100</td>\n",
       "      <td id=\"T_19127_row0_col11\" class=\"data row0 col11\" >0.990000</td>\n",
       "      <td id=\"T_19127_row0_col12\" class=\"data row0 col12\" >False</td>\n",
       "    </tr>\n",
       "    <tr>\n",
       "      <th id=\"T_19127_level0_row1\" class=\"row_heading level0 row1\" >1</th>\n",
       "      <td id=\"T_19127_row1_col0\" class=\"data row1 col0\" >True</td>\n",
       "      <td id=\"T_19127_row1_col1\" class=\"data row1 col1\" >mlp_2_3300_200_4600_1700_43</td>\n",
       "      <td id=\"T_19127_row1_col2\" class=\"data row1 col2\" >Linear</td>\n",
       "      <td id=\"T_19127_row1_col3\" class=\"data row1 col3\" >0.024045</td>\n",
       "      <td id=\"T_19127_row1_col4\" class=\"data row1 col4\" >mean_squared_error</td>\n",
       "      <td id=\"T_19127_row1_col5\" class=\"data row1 col5\" >0.400000</td>\n",
       "      <td id=\"T_19127_row1_col6\" class=\"data row1 col6\" >50</td>\n",
       "      <td id=\"T_19127_row1_col7\" class=\"data row1 col7\" >32</td>\n",
       "      <td id=\"T_19127_row1_col8\" class=\"data row1 col8\" >0.200000</td>\n",
       "      <td id=\"T_19127_row1_col9\" class=\"data row1 col9\" >0.001456</td>\n",
       "      <td id=\"T_19127_row1_col10\" class=\"data row1 col10\" >100</td>\n",
       "      <td id=\"T_19127_row1_col11\" class=\"data row1 col11\" >0.990000</td>\n",
       "      <td id=\"T_19127_row1_col12\" class=\"data row1 col12\" >False</td>\n",
       "    </tr>\n",
       "  </tbody>\n",
       "</table>\n"
      ],
      "text/plain": [
       "<pandas.io.formats.style.Styler at 0x7fa2cff630d0>"
      ]
     },
     "metadata": {},
     "output_type": "display_data"
    }
   ],
   "source": [
    "import csv\n",
    "if 'Try Both' not in ENCODING_TYPE:\n",
    "    csv_data = [[\n",
    "        DATA_AUGMENTATION,\n",
    "        model_shape,\n",
    "        ENCODING_TYPE,\n",
    "        test_loss_result,\n",
    "        TRAIN_LOSS,\n",
    "        TRAIN_DROPOUT_RATE,\n",
    "        TRAIN_EARLY_STOPPING_PATIENCE,\n",
    "        TRAIN_BATCH_SIZE,\n",
    "        TRAIN_VALIDATION_SPLIT,\n",
    "        LR_INITIAL,\n",
    "        LR_DECAY_STEPS,\n",
    "        LR_DECAY_RATE,\n",
    "        LR_STAIRCASE\n",
    "        ]]\n",
    "    \n",
    "    csv_file = 'history_losses.csv'  #this doesnt reqrite this file so you need to delete this if you want something fresh\n",
    "    \n",
    "    if not os.path.exists(csv_file):\n",
    "        with open(csv_file, 'w') as file:\n",
    "            file.write('data_augmentation,model_shape,encoding_type,test_loss,train_loss,train_dropout_rate,train_early_stop_patience,'+\n",
    "                        'train_batch_size,train_val_split,lr_initial,lr_decay_step,lr_decay_rate,lr_stair_case\\n')\n",
    "    \n",
    "    with open(csv_file, mode='a', newline='') as file:\n",
    "        writer = csv.writer(file)\n",
    "        writer.writerows(csv_data)\n",
    "    \n",
    "    # Convert data to DataFrame for easier display\n",
    "    df = pd.read_csv(csv_file)\n",
    "    \n",
    "    def color_red_column(s):\n",
    "        return ['color: red' if v else '' for v in s]\n",
    "    \n",
    "    styled_df = df.style.apply(color_red_column, subset=['test_loss'])\n",
    "    \n",
    "    # Display the DataFrame as a table\n",
    "    display(styled_df)\n",
    "    #qgrid_widget = qgrid.show_grid(df, show_toolbar=True)\n",
    "\n",
    "else:\n",
    "    #---------------------------------------------------one hot---------------------------------------\n",
    "    csv_data = [[\n",
    "        DATA_AUGMENTATION,\n",
    "        model_shape_one_hot_encoding,\n",
    "        'One Hot',\n",
    "        test_loss_result_one_hot_encoding,\n",
    "        TRAIN_LOSS,\n",
    "        TRAIN_DROPOUT_RATE,\n",
    "        TRAIN_EARLY_STOPPING_PATIENCE,\n",
    "        TRAIN_BATCH_SIZE,\n",
    "        TRAIN_VALIDATION_SPLIT,\n",
    "        LR_INITIAL,\n",
    "        LR_DECAY_STEPS,\n",
    "        LR_DECAY_RATE,\n",
    "        LR_STAIRCASE\n",
    "        ]]\n",
    "    \n",
    "    csv_file = 'history_losses.csv'  #this doesnt reqrite this file so you need to delete this if you want something fresh\n",
    "    \n",
    "    if not os.path.exists(csv_file):\n",
    "        with open(csv_file, 'w') as file:\n",
    "            file.write('data_augmentation,model_shape,encoding_type,test_loss,train_loss,train_dropout_rate,train_early_stop_patience,'+\n",
    "                        'train_batch_size,train_val_split,lr_initial,lr_decay_step,lr_decay_rate,lr_stair_case\\n')\n",
    "            \n",
    "    with open(csv_file, mode='a', newline='') as file:\n",
    "        writer = csv.writer(file)\n",
    "        writer.writerows(csv_data)\n",
    "    \n",
    "    # Convert data to DataFrame for easier display\n",
    "    df_one_hot_encoding = pd.read_csv(csv_file)\n",
    "    \n",
    "    def color_red_column(s):\n",
    "        return ['color: red' if v else '' for v in s]\n",
    "    \n",
    "    styled_df_one_hot_encoding = df_one_hot_encoding.style.apply(color_red_column, subset=['test_loss'])\n",
    "    #---------------------------------------------------linear---------------------------------------\n",
    "    csv_data_linear_encoding = [[\n",
    "        DATA_AUGMENTATION,\n",
    "        model_shape_linear_encoding,\n",
    "        'Linear',\n",
    "        test_loss_result_linear_encoding,\n",
    "        TRAIN_LOSS,\n",
    "        TRAIN_DROPOUT_RATE,\n",
    "        TRAIN_EARLY_STOPPING_PATIENCE,\n",
    "        TRAIN_BATCH_SIZE,\n",
    "        TRAIN_VALIDATION_SPLIT,\n",
    "        LR_INITIAL,\n",
    "        LR_DECAY_STEPS,\n",
    "        LR_DECAY_RATE,\n",
    "        LR_STAIRCASE\n",
    "        ]]\n",
    "    \n",
    "    csv_file_linear_encoding = 'history_losses.csv'  #this doesnt reqrite this file so you need to delete this if you want something fresh\n",
    "    \n",
    "    with open(csv_file_linear_encoding, mode='a', newline='') as file:\n",
    "        writer = csv.writer(file)\n",
    "        writer.writerows(csv_data_linear_encoding)\n",
    "    \n",
    "    # Convert data to DataFrame for easier display\n",
    "    df_linear_encoding = pd.read_csv(csv_file_linear_encoding)\n",
    "    \n",
    "    def color_red_column(s):\n",
    "        return ['color: red' if v else '' for v in s]\n",
    "    \n",
    "    styled_df_linear_encoding = df_linear_encoding.style.apply(color_red_column, subset=['test_loss'])\n",
    "    \n",
    "    # Display the DataFrame as a table\n",
    "    display(styled_df_linear_encoding)\n",
    "    #qgrid_widget = qgrid.show_grid(df, show_toolbar=True)"
   ]
  },
  {
   "cell_type": "code",
   "execution_count": 59,
   "id": "9ea88851-ed24-42d4-b36c-e79175af6847",
   "metadata": {
    "tags": []
   },
   "outputs": [
    {
     "name": "stdout",
     "output_type": "stream",
     "text": [
      "8/8 [==============================] - 0s 2ms/step\n"
     ]
    }
   ],
   "source": [
    "#chose the one model you want to see more in depth\n",
    "if 'Try Both' not in ENCODING_TYPE:\n",
    "    y_pred = model.predict(np.array(X_test))\n",
    "else:\n",
    "    if test_loss_result_linear_encoding < test_loss_result_one_hot_encoding:\n",
    "        y_pred = model_linear_encoding.predict(np.array(X_test))\n",
    "        y_test = y_test_linear_encoding\n",
    "        y_encoding_format_name = 'linear'\n",
    "    else:\n",
    "        y_pred = model_one_hot_encoding.predict(np.array(X_test))\n",
    "        y_test = y_test_one_hot_encoding\n",
    "        y_encoding_format_name = 'one_hot'"
   ]
  },
  {
   "cell_type": "code",
   "execution_count": 60,
   "id": "a6ffa127-c6a4-4a52-8a29-4c08ae0cca3f",
   "metadata": {},
   "outputs": [
    {
     "name": "stdout",
     "output_type": "stream",
     "text": [
      "---------------------------------------------------Scaled predictions----------------------------------------------\n",
      "---------------------- X Values: cavity_frequency:0.08030854795464834 \tkappa: 0.00020472148623845975-----------------------\n",
      "Param: design_options.claw_opts.connection_pads.readout.connector_location, Ref: 0.0, Pred: 0.0005050331819802523, Pow2Er: 2.550585149010986e-07, AbsEr: 0.0005050331819802523\n",
      "Param: design_options.claw_opts.connection_pads.readout.connector_type, Ref: 0.0, Pred: 6.776116788387299e-05, Pow2Er: 2.550585149010986e-07, AbsEr: 0.0005050331819802523\n",
      "Param: design_options.claw_opts.connection_pads.readout.claw_length, Ref: 0.03940886699507393, Pred: 0.18757610023021698, Pow2Er: 0.0015135082853568107, AbsEr: 0.038903833813093674\n",
      "Param: design_options.claw_opts.connection_pads.readout.ground_spacing, Ref: 0.0, Pred: 0.02636219561100006, Pow2Er: 2.550585149010986e-07, AbsEr: 0.0005050331819802523\n",
      "Param: design_options.claw_opts.connection_pads.readout.claw_gap, Ref: 0.0, Pred: 0.0002620031591504812, Pow2Er: 2.550585149010986e-07, AbsEr: 0.0005050331819802523\n",
      "Param: design_options.claw_opts.connection_pads.readout.claw_width, Ref: 0.0, Pred: 0.0009034306858666241, Pow2Er: 2.550585149010986e-07, AbsEr: 0.0005050331819802523\n",
      "Param: design_options.claw_opts.connection_pads.readout.claw_cpw_width, Ref: 0.0, Pred: -9.806593880057335e-05, Pow2Er: 2.550585149010986e-07, AbsEr: 0.0005050331819802523\n",
      "Param: design_options.claw_opts.connection_pads.readout.claw_cpw_length, Ref: 0.0, Pred: -0.00057237409055233, Pow2Er: 2.550585149010986e-07, AbsEr: 0.0005050331819802523\n",
      "Param: design_options.claw_opts.orientation, Ref: 0.0, Pred: 0.00018681722576729953, Pow2Er: 2.550585149010986e-07, AbsEr: 0.0005050331819802523\n",
      "Param: design_options.claw_opts.pos_x, Ref: 0.0, Pred: 0.023167399689555168, Pow2Er: 2.550585149010986e-07, AbsEr: 0.0005050331819802523\n",
      "Param: design_options.claw_opts.cross_length, Ref: 1.0, Pred: 0.7675344944000244, Pow2Er: 0.9989901886945544, AbsEr: 0.9994949668180197\n",
      "Param: design_options.claw_opts.cross_width, Ref: 1.0, Pred: 0.7679665684700012, Pow2Er: 0.9989901886945544, AbsEr: 0.9994949668180197\n",
      "Param: design_options.claw_opts.cross_gap, Ref: 1.0, Pred: 0.7675535082817078, Pow2Er: 0.9989901886945544, AbsEr: 0.9994949668180197\n",
      "Param: design_options.cpw_opts.fillet, Ref: 0.0, Pred: 0.0008066141745075583, Pow2Er: 2.550585149010986e-07, AbsEr: 0.0005050331819802523\n",
      "Param: design_options.cpw_opts.total_length, Ref: 1.0, Pred: 0.5371301770210266, Pow2Er: 0.9989901886945544, AbsEr: 0.9994949668180197\n",
      "Param: design_options.cpw_opts.trace_width, Ref: 0.0, Pred: -0.00018151890253648162, Pow2Er: 2.550585149010986e-07, AbsEr: 0.0005050331819802523\n",
      "Param: design_options.cpw_opts.trace_gap, Ref: 0.0, Pred: -0.0002185203629778698, Pow2Er: 2.550585149010986e-07, AbsEr: 0.0005050331819802523\n",
      "Param: design_options.cpw_opts.lead.start_straight, Ref: 1.0, Pred: 0.909172773361206, Pow2Er: 0.9989901886945544, AbsEr: 0.9994949668180197\n",
      "Param: design_options.cpw_opts.meander.spacing, Ref: 0.0, Pred: 0.0009756903746165335, Pow2Er: 2.550585149010986e-07, AbsEr: 0.0005050331819802523\n",
      "Param: design_options.cpw_opts.meander.asymmetry, Ref: 0.9999999999999999, Pred: 0.7677074670791626, Pow2Er: 0.9989901886945541, AbsEr: 0.9994949668180196\n",
      "Param: design_options.cplr_opts.prime_width, Ref: 0.0, Pred: 0.0004561099922284484, Pow2Er: 2.550585149010986e-07, AbsEr: 0.0005050331819802523\n",
      "Param: design_options.cplr_opts.prime_gap, Ref: 0.0, Pred: 0.0009670811705291271, Pow2Er: 2.550585149010986e-07, AbsEr: 0.0005050331819802523\n",
      "Param: design_options.cplr_opts.second_width, Ref: 0.0, Pred: 8.378946222364902e-05, Pow2Er: 2.550585149010986e-07, AbsEr: 0.0005050331819802523\n",
      "Param: design_options.cplr_opts.second_gap, Ref: 0.0, Pred: -0.00011831987649202347, Pow2Er: 2.550585149010986e-07, AbsEr: 0.0005050331819802523\n",
      "Param: design_options.cplr_opts.coupling_space, Ref: 1.0, Pred: 0.7669657468795776, Pow2Er: 0.9989901886945544, AbsEr: 0.9994949668180197\n",
      "Param: design_options.cplr_opts.coupling_length, Ref: 0.9999999999999999, Pred: 0.7669925689697266, Pow2Er: 0.9989901886945541, AbsEr: 0.9994949668180196\n",
      "Param: design_options.cplr_opts.open_termination, Ref: 0.0, Pred: 0.0006708981236442924, Pow2Er: 2.550585149010986e-07, AbsEr: 0.0005050331819802523\n",
      "Param: design_options.cplr_opts.down_length, Ref: 1.0, Pred: 0.7661683559417725, Pow2Er: 0.9989901886945544, AbsEr: 0.9994949668180197\n",
      "Param: design_options.cplr_opts.orientation, Ref: 0.0, Pred: -0.0002927796449512243, Pow2Er: 2.550585149010986e-07, AbsEr: 0.0005050331819802523\n",
      "Param: design_options.cpw_opts.lead.end_straight, Ref: 0.0, Pred: 0.08109313249588013, Pow2Er: 2.550585149010986e-07, AbsEr: 0.0005050331819802523\n",
      "Param: design_options.cpw_opts.lead.start_jogged_extension.0, Ref: 0.0, Pred: 0.0012431074865162373, Pow2Er: 2.550585149010986e-07, AbsEr: 0.0005050331819802523\n",
      "Param: design_options.cplr_opts.cap_gap, Ref: 0.0, Pred: 0.2187192440032959, Pow2Er: 2.550585149010986e-07, AbsEr: 0.0005050331819802523\n",
      "Param: design_options.cplr_opts.cap_width, Ref: 0.0, Pred: 0.2204229086637497, Pow2Er: 2.550585149010986e-07, AbsEr: 0.0005050331819802523\n",
      "Param: design_options.cplr_opts.cap_gap_ground, Ref: 0.0, Pred: 0.22054721415042877, Pow2Er: 2.550585149010986e-07, AbsEr: 0.0005050331819802523\n",
      "Param: design_options.cplr_opts.finger_length, Ref: 0.0, Pred: 0.2204957902431488, Pow2Er: 2.550585149010986e-07, AbsEr: 0.0005050331819802523\n",
      "Param: design_options.cplr_opts.finger_count, Ref: 1.0, Pred: 0.7667679786682129, Pow2Er: 0.9989901886945544, AbsEr: 0.9994949668180197\n",
      "Param: design_options.cplr_opts.cap_distance, Ref: 0.0, Pred: 0.2205519676208496, Pow2Er: 2.550585149010986e-07, AbsEr: 0.0005050331819802523\n",
      "Param: coupler_type_CLT, Ref: 0.0, Pred: 0.22019249200820923, Pow2Er: 2.550585149010986e-07, AbsEr: 0.0005050331819802523\n",
      "Param: coupler_type_NCap, Ref: 1.0, Pred: 0.768102765083313, Pow2Er: 0.9989901886945544, AbsEr: 0.9994949668180197\n",
      "Param: resonator_type_half, Ref: 1.0, Pred: 0.7677251100540161, Pow2Er: 0.9989901886945544, AbsEr: 0.9994949668180197\n",
      "Param: resonator_type_quarter, Ref: 0.0, Pred: 0.21955706179141998, Pow2Er: 2.550585149010986e-07, AbsEr: 0.0005050331819802523\n",
      "Param: design_options.cpw_opts.pin_inputs.start_pin.component_cplr, Ref: 0.0, Pred: 0.00027187843807041645, Pow2Er: 2.550585149010986e-07, AbsEr: 0.0005050331819802523\n",
      "Param: design_options.cpw_opts.pin_inputs.start_pin.pin_second_end, Ref: 0.0, Pred: -0.0002363366074860096, Pow2Er: 2.550585149010986e-07, AbsEr: 0.0005050331819802523\n",
      "Param: design_options.cpw_opts.pin_inputs.end_pin.component_claw, Ref: 0.0, Pred: -0.00010738987475633621, Pow2Er: 2.550585149010986e-07, AbsEr: 0.0005050331819802523\n",
      "Param: design_options.cpw_opts.pin_inputs.end_pin.pin_readout, Ref: 0.0, Pred: -0.0007902903016656637, Pow2Er: 2.550585149010986e-07, AbsEr: 0.0005050331819802523\n",
      "\n",
      "---------------------- X Values: cavity_frequency:0.05930934556706599 \tkappa: 0.024525391481888762-----------------------\n",
      "Param: design_options.claw_opts.connection_pads.readout.connector_location, Ref: 0.0, Pred: 0.00043284427374601364, Pow2Er: 1.87354165314714e-07, AbsEr: 0.00043284427374601364\n",
      "Param: design_options.claw_opts.connection_pads.readout.connector_type, Ref: 0.0, Pred: -0.00033952808007597923, Pow2Er: 1.87354165314714e-07, AbsEr: 0.00043284427374601364\n",
      "Param: design_options.claw_opts.connection_pads.readout.claw_length, Ref: 0.5714285714285715, Pred: 0.3763810694217682, Pow2Er: 0.32603612042906793, AbsEr: 0.5709957271548255\n",
      "Param: design_options.claw_opts.connection_pads.readout.ground_spacing, Ref: 0.0, Pred: 0.09200651198625565, Pow2Er: 1.87354165314714e-07, AbsEr: 0.00043284427374601364\n",
      "Param: design_options.claw_opts.connection_pads.readout.claw_gap, Ref: 0.0, Pred: 0.00046805781312286854, Pow2Er: 1.87354165314714e-07, AbsEr: 0.00043284427374601364\n",
      "Param: design_options.claw_opts.connection_pads.readout.claw_width, Ref: 0.0, Pred: 0.0010432121343910694, Pow2Er: 1.87354165314714e-07, AbsEr: 0.00043284427374601364\n",
      "Param: design_options.claw_opts.connection_pads.readout.claw_cpw_width, Ref: 0.0, Pred: -9.037042036652565e-05, Pow2Er: 1.87354165314714e-07, AbsEr: 0.00043284427374601364\n",
      "Param: design_options.claw_opts.connection_pads.readout.claw_cpw_length, Ref: 0.0, Pred: -9.289709851145744e-05, Pow2Er: 1.87354165314714e-07, AbsEr: 0.00043284427374601364\n",
      "Param: design_options.claw_opts.orientation, Ref: 0.0, Pred: 0.0005119256675243378, Pow2Er: 1.87354165314714e-07, AbsEr: 0.00043284427374601364\n",
      "Param: design_options.claw_opts.pos_x, Ref: 0.0, Pred: 0.0033570118248462677, Pow2Er: 1.87354165314714e-07, AbsEr: 0.00043284427374601364\n",
      "Param: design_options.claw_opts.cross_length, Ref: 0.0, Pred: 0.06267781555652618, Pow2Er: 1.87354165314714e-07, AbsEr: 0.00043284427374601364\n",
      "Param: design_options.claw_opts.cross_width, Ref: 0.0, Pred: 0.06321173161268234, Pow2Er: 1.87354165314714e-07, AbsEr: 0.00043284427374601364\n",
      "Param: design_options.claw_opts.cross_gap, Ref: 0.0, Pred: 0.06292764842510223, Pow2Er: 1.87354165314714e-07, AbsEr: 0.00043284427374601364\n",
      "Param: design_options.cpw_opts.fillet, Ref: 0.0, Pred: 0.00032471236772835255, Pow2Er: 1.87354165314714e-07, AbsEr: 0.00043284427374601364\n",
      "Param: design_options.cpw_opts.total_length, Ref: 0.3142857142857143, Pred: 0.32670000195503235, Pow2Er: 0.09850362401474945, AbsEr: 0.31385287001196827\n",
      "Param: design_options.cpw_opts.trace_width, Ref: 0.0, Pred: -6.172474240884185e-05, Pow2Er: 1.87354165314714e-07, AbsEr: 0.00043284427374601364\n",
      "Param: design_options.cpw_opts.trace_gap, Ref: 0.0, Pred: -0.00029327021911740303, Pow2Er: 1.87354165314714e-07, AbsEr: 0.00043284427374601364\n",
      "Param: design_options.cpw_opts.lead.start_straight, Ref: 0.0, Pred: 0.6671326756477356, Pow2Er: 1.87354165314714e-07, AbsEr: 0.00043284427374601364\n",
      "Param: design_options.cpw_opts.meander.spacing, Ref: 0.0, Pred: 0.0007998592336662114, Pow2Er: 1.87354165314714e-07, AbsEr: 0.00043284427374601364\n",
      "Param: design_options.cpw_opts.meander.asymmetry, Ref: 0.00019995001249687575, Pred: 0.06273861229419708, Pow2Er: 5.423973692278169e-08, AbsEr: 0.0002328942612491379\n",
      "Param: design_options.cplr_opts.prime_width, Ref: 0.0, Pred: 0.0005462853005155921, Pow2Er: 1.87354165314714e-07, AbsEr: 0.00043284427374601364\n",
      "Param: design_options.cplr_opts.prime_gap, Ref: 0.0, Pred: 0.0008482108823955059, Pow2Er: 1.87354165314714e-07, AbsEr: 0.00043284427374601364\n",
      "Param: design_options.cplr_opts.second_width, Ref: 0.0, Pred: -0.00038285693153738976, Pow2Er: 1.87354165314714e-07, AbsEr: 0.00043284427374601364\n",
      "Param: design_options.cplr_opts.second_gap, Ref: 0.0, Pred: -0.0003067445941269398, Pow2Er: 1.87354165314714e-07, AbsEr: 0.00043284427374601364\n",
      "Param: design_options.cplr_opts.coupling_space, Ref: 0.0, Pred: 0.06243223324418068, Pow2Er: 1.87354165314714e-07, AbsEr: 0.00043284427374601364\n",
      "Param: design_options.cplr_opts.coupling_length, Ref: 0.0, Pred: 0.06224416196346283, Pow2Er: 1.87354165314714e-07, AbsEr: 0.00043284427374601364\n",
      "Param: design_options.cplr_opts.open_termination, Ref: 0.0, Pred: 0.00017428828869014978, Pow2Er: 1.87354165314714e-07, AbsEr: 0.00043284427374601364\n",
      "Param: design_options.cplr_opts.down_length, Ref: 0.0, Pred: 0.062318991869688034, Pow2Er: 1.87354165314714e-07, AbsEr: 0.00043284427374601364\n",
      "Param: design_options.cplr_opts.orientation, Ref: 0.0, Pred: -0.000484315212816, Pow2Er: 1.87354165314714e-07, AbsEr: 0.00043284427374601364\n",
      "Param: design_options.cpw_opts.lead.end_straight, Ref: 1.0, Pred: 0.30939024686813354, Pow2Er: 0.9991344988066733, AbsEr: 0.999567155726254\n",
      "Param: design_options.cpw_opts.lead.start_jogged_extension.0, Ref: 0.0, Pred: 0.0014542900025844574, Pow2Er: 1.87354165314714e-07, AbsEr: 0.00043284427374601364\n",
      "Param: design_options.cplr_opts.cap_gap, Ref: 1.0000000000000002, Pred: 0.9156679511070251, Pow2Er: 0.9991344988066737, AbsEr: 0.9995671557262542\n",
      "Param: design_options.cplr_opts.cap_width, Ref: 1.0, Pred: 0.9171635508537292, Pow2Er: 0.9991344988066733, AbsEr: 0.999567155726254\n",
      "Param: design_options.cplr_opts.cap_gap_ground, Ref: 1.0, Pred: 0.917321503162384, Pow2Er: 0.9991344988066733, AbsEr: 0.999567155726254\n",
      "Param: design_options.cplr_opts.finger_length, Ref: 0.9999999999999999, Pred: 0.9171181321144104, Pow2Er: 0.999134498806673, AbsEr: 0.9995671557262539\n",
      "Param: design_options.cplr_opts.finger_count, Ref: 0.0, Pred: 0.0620412677526474, Pow2Er: 1.87354165314714e-07, AbsEr: 0.00043284427374601364\n",
      "Param: design_options.cplr_opts.cap_distance, Ref: 1.0, Pred: 0.9170056581497192, Pow2Er: 0.9991344988066733, AbsEr: 0.999567155726254\n",
      "Param: coupler_type_CLT, Ref: 1.0, Pred: 0.9167905449867249, Pow2Er: 0.9991344988066733, AbsEr: 0.999567155726254\n",
      "Param: coupler_type_NCap, Ref: 0.0, Pred: 0.06341414153575897, Pow2Er: 1.87354165314714e-07, AbsEr: 0.00043284427374601364\n",
      "Param: resonator_type_half, Ref: 0.0, Pred: 0.0637861043214798, Pow2Er: 1.87354165314714e-07, AbsEr: 0.00043284427374601364\n",
      "Param: resonator_type_quarter, Ref: 1.0, Pred: 0.9161681532859802, Pow2Er: 0.9991344988066733, AbsEr: 0.999567155726254\n",
      "Param: design_options.cpw_opts.pin_inputs.start_pin.component_cplr, Ref: 0.0, Pred: 0.00010806054342538118, Pow2Er: 1.87354165314714e-07, AbsEr: 0.00043284427374601364\n",
      "Param: design_options.cpw_opts.pin_inputs.start_pin.pin_second_end, Ref: 0.0, Pred: -0.00021368218585848808, Pow2Er: 1.87354165314714e-07, AbsEr: 0.00043284427374601364\n",
      "Param: design_options.cpw_opts.pin_inputs.end_pin.component_claw, Ref: 0.0, Pred: 0.0004248986952006817, Pow2Er: 1.87354165314714e-07, AbsEr: 0.00043284427374601364\n",
      "Param: design_options.cpw_opts.pin_inputs.end_pin.pin_readout, Ref: 0.0, Pred: -0.0009855726966634393, Pow2Er: 1.87354165314714e-07, AbsEr: 0.00043284427374601364\n",
      "\n"
     ]
    }
   ],
   "source": [
    "filename = 'y_characteristics.csv'\n",
    "with open(filename, 'r') as f:\n",
    "            headers_string = f.readline().strip()  # Read the first line (headers) and remove whitespace\n",
    "            headers = headers_string.split(',') \n",
    "#print(headers)\n",
    "\n",
    "pow2_errors = [(y_test[i]-y_pred[i][0])**2 for i in range(len(y_pred))]\n",
    "abs_errors = [abs(y_test[i]-y_pred[i][0]) for i in range(len(y_pred))]\n",
    "\n",
    "print('---------------------------------------------------Scaled predictions----------------------------------------------')\n",
    "min=1\n",
    "for i in range(2): \n",
    "    if abs_errors[i].any()<min: \n",
    "        min = abs_errors[i]\n",
    "    print(f\"---------------------- X Values: cavity_frequency:{X_test[i][0]} \tkappa: {X_test[i][1]}-----------------------\")\n",
    "    for l in range(len(y_test[i])):\n",
    "        print('Param: {}, Ref: {}, Pred: {}, Pow2Er: {}, AbsEr: {}'.format(headers[l],y_test[i][l], y_pred[i][l], pow2_errors[i][l], abs_errors[i][l]))\n",
    "    print(\"\")"
   ]
  },
  {
   "cell_type": "markdown",
   "id": "5304c67f-9838-491f-869c-e51d86748217",
   "metadata": {},
   "source": [
    "### Unscaled test vs predictions"
   ]
  },
  {
   "cell_type": "code",
   "execution_count": 67,
   "id": "0e05f774-e63a-4325-86eb-c091a1c286d5",
   "metadata": {},
   "outputs": [
    {
     "name": "stdout",
     "output_type": "stream",
     "text": [
      "[6.70772145e+09 6.16357704e+02]\n",
      "[ 9.00e+01  0.00e+00  9.00e-05  4.10e-06  5.10e-06  1.50e-05  1.17e-05\n",
      "  0.00e+00 -9.00e+01 -1.50e-03  2.40e-04  3.00e-05  3.00e-05  4.99e-05\n",
      "  8.70e-03  1.17e-05  5.10e-06  1.00e-04  1.00e-04  1.00e+00  1.17e-05\n",
      "  5.10e-06  1.17e-05  5.10e-06  1.00e+00  1.00e+00  0.00e+00  1.00e+00\n",
      " -9.00e+01  5.00e-05  1.00e+00  5.00e-06  1.00e-05  5.10e-06  3.00e-05\n",
      "  5.00e+00  5.09e-05  0.00e+00  1.00e+00  1.00e+00  0.00e+00  1.00e+00\n",
      "  1.00e+00  1.00e+00  1.00e+00]\n",
      "[ 9.00005035e+01  6.77611679e-05  1.65194870e-04  4.25553708e-06\n",
      "  2.67103169e-04  9.18430684e-04 -8.63659370e-05 -5.72374091e-04\n",
      " -8.99998169e+01 -1.48841634e-03  1.84208286e-04  2.30389978e-05\n",
      "  2.30266050e-05  8.56514147e-04  5.45991119e-03 -1.69818901e-04\n",
      " -2.13420368e-04  9.54586358e-05  1.07569038e-03  7.67649412e-01\n",
      "  4.67809994e-04  9.72181151e-04  9.54894640e-05 -1.13219874e-04\n",
      "  7.66967595e-01  7.67015874e-01  6.70898124e-04  7.66180038e-01\n",
      " -9.00002899e+01  8.11390802e-02  1.00124311e+00  2.18723148e-01\n",
      "  2.20430702e-01  2.20551193e-01  2.20519170e-01  4.06707191e+00\n",
      "  2.20591635e-01  2.20192492e-01  7.68102765e-01  7.67725110e-01\n",
      "  2.19557062e-01  1.00027192e+00  9.99763668e-01  9.99892592e-01\n",
      "  9.99209702e-01]\n"
     ]
    }
   ],
   "source": [
    "# Unscale X\n",
    "import joblib\n",
    "X_index_names = ['cavity_frequency','kappa']\n",
    "\n",
    "X_test_unscaled = X_test.copy()\n",
    "for i, row in enumerate(X_test_unscaled):\n",
    "    for j, val in enumerate(row):\n",
    "        scaler = joblib.load(f'scalers/scaler_X_{X_index_names[j]}.save')\n",
    "        X_test_unscaled[i][j] = scaler.inverse_transform([[val]])[0][0] # Access the single value from the array\n",
    "\n",
    "# X_unscaled is now a list of lists with inverse transformed values\n",
    "print(X_test_unscaled[0])\n",
    "\n",
    "\n",
    "# Unscale y\n",
    "y_test_unscaled = y_test.copy()\n",
    "for i, row in enumerate(y_test_unscaled):\n",
    "    for j, val in enumerate(row):\n",
    "        scaler = joblib.load(f'scalers/scaler_y_{headers[j]}_{y_encoding_format_name}_encoding.save')\n",
    "        y_test_unscaled[i][j] = scaler.inverse_transform([[val]])[0][0] # Access the single value from the array\n",
    "\n",
    "# X_unscaled is now a list of lists with inverse transformed values\n",
    "print(y_test_unscaled[0])\n",
    "\n",
    "# Unscale y predictions\n",
    "y_pred_unscaled = y_pred.copy()\n",
    "for i, row in enumerate(y_pred_unscaled):\n",
    "    for j, val in enumerate(row):\n",
    "        scaler = joblib.load(f'scalers/scaler_y_{headers[j]}_{y_encoding_format_name}_encoding.save')\n",
    "        y_pred_unscaled[i][j] = scaler.inverse_transform([[val]])[0][0] # Access the single value from the array\n",
    "\n",
    "# X_unscaled is now a list of lists with inverse transformed values\n",
    "print(y_pred_unscaled[0])"
   ]
  },
  {
   "cell_type": "code",
   "execution_count": 70,
   "id": "d907324d-19c6-4111-a79a-2637bf3fa734",
   "metadata": {},
   "outputs": [
    {
     "name": "stdout",
     "output_type": "stream",
     "text": [
      "----------------------------------------------Unscaled predictions one_hot encoding----------------------------------------\n",
      "---------------------- X Values: cavity_frequency:6707721445.32 \tkappa: 616.357703766-----------------------\n",
      "Param: design_options.claw_opts.connection_pads.readout.connector_location, Ref: 90.0, Pred: 90.00050354003906, Pow2Er: 2.550585149010986e-07, AbsEr: 0.0005050331819802523\n",
      "Param: design_options.claw_opts.connection_pads.readout.connector_type, Ref: 0.0, Pred: 6.776116788387299e-05, Pow2Er: 2.550585149010986e-07, AbsEr: 0.0005050331819802523\n",
      "Param: design_options.claw_opts.connection_pads.readout.claw_length, Ref: 9e-05, Pred: 0.00016519486962351948, Pow2Er: 0.0015135082853568107, AbsEr: 0.038903833813093674\n",
      "Param: design_options.claw_opts.connection_pads.readout.ground_spacing, Ref: 4.1e-06, Pred: 4.255537078279303e-06, Pow2Er: 2.550585149010986e-07, AbsEr: 0.0005050331819802523\n",
      "Param: design_options.claw_opts.connection_pads.readout.claw_gap, Ref: 5.1e-06, Pred: 0.00026710316888056695, Pow2Er: 2.550585149010986e-07, AbsEr: 0.0005050331819802523\n",
      "Param: design_options.claw_opts.connection_pads.readout.claw_width, Ref: 1.5e-05, Pred: 0.0009184306836687028, Pow2Er: 2.550585149010986e-07, AbsEr: 0.0005050331819802523\n",
      "Param: design_options.claw_opts.connection_pads.readout.claw_cpw_width, Ref: 1.17e-05, Pred: -8.636593702249229e-05, Pow2Er: 2.550585149010986e-07, AbsEr: 0.0005050331819802523\n",
      "Param: design_options.claw_opts.connection_pads.readout.claw_cpw_length, Ref: 0.0, Pred: -0.00057237409055233, Pow2Er: 2.550585149010986e-07, AbsEr: 0.0005050331819802523\n",
      "Param: design_options.claw_opts.orientation, Ref: -90.0, Pred: -89.99981689453125, Pow2Er: 2.550585149010986e-07, AbsEr: 0.0005050331819802523\n",
      "Param: design_options.claw_opts.pos_x, Ref: -0.0015, Pred: -0.0014884163392707705, Pow2Er: 2.550585149010986e-07, AbsEr: 0.0005050331819802523\n",
      "Param: design_options.claw_opts.cross_length, Ref: 0.00023999999999999998, Pred: 0.00018420828564558178, Pow2Er: 0.9989901886945544, AbsEr: 0.9994949668180197\n",
      "Param: design_options.claw_opts.cross_width, Ref: 2.9999999999999997e-05, Pred: 2.303899782418739e-05, Pow2Er: 0.9989901886945544, AbsEr: 0.9994949668180197\n",
      "Param: design_options.claw_opts.cross_gap, Ref: 2.9999999999999997e-05, Pred: 2.3026605049381033e-05, Pow2Er: 0.9989901886945544, AbsEr: 0.9994949668180197\n",
      "Param: design_options.cpw_opts.fillet, Ref: 4.99e-05, Pred: 0.0008565141470171511, Pow2Er: 2.550585149010986e-07, AbsEr: 0.0005050331819802523\n",
      "Param: design_options.cpw_opts.total_length, Ref: 0.0087, Pred: 0.005459911189973354, Pow2Er: 0.9989901886945544, AbsEr: 0.9994949668180197\n",
      "Param: design_options.cpw_opts.trace_width, Ref: 1.17e-05, Pred: -0.00016981890075840056, Pow2Er: 2.550585149010986e-07, AbsEr: 0.0005050331819802523\n",
      "Param: design_options.cpw_opts.trace_gap, Ref: 5.1e-06, Pred: -0.0002134203677996993, Pow2Er: 2.550585149010986e-07, AbsEr: 0.0005050331819802523\n",
      "Param: design_options.cpw_opts.lead.start_straight, Ref: 0.0001, Pred: 9.545863576931879e-05, Pow2Er: 0.9989901886945544, AbsEr: 0.9994949668180197\n",
      "Param: design_options.cpw_opts.meander.spacing, Ref: 0.0001, Pred: 0.0010756903793662786, Pow2Er: 2.550585149010986e-07, AbsEr: 0.0005050331819802523\n",
      "Param: design_options.cpw_opts.meander.asymmetry, Ref: 1.0, Pred: 0.7676494121551514, Pow2Er: 0.9989901886945541, AbsEr: 0.9994949668180196\n",
      "Param: design_options.cplr_opts.prime_width, Ref: 1.17e-05, Pred: 0.00046780999400652945, Pow2Er: 2.550585149010986e-07, AbsEr: 0.0005050331819802523\n",
      "Param: design_options.cplr_opts.prime_gap, Ref: 5.1e-06, Pred: 0.0009721811511553824, Pow2Er: 2.550585149010986e-07, AbsEr: 0.0005050331819802523\n",
      "Param: design_options.cplr_opts.second_width, Ref: 1.17e-05, Pred: 9.548946400173008e-05, Pow2Er: 2.550585149010986e-07, AbsEr: 0.0005050331819802523\n",
      "Param: design_options.cplr_opts.second_gap, Ref: 5.1e-06, Pred: -0.00011321987403789535, Pow2Er: 2.550585149010986e-07, AbsEr: 0.0005050331819802523\n",
      "Param: design_options.cplr_opts.coupling_space, Ref: 1.0, Pred: 0.7669675946235657, Pow2Er: 0.9989901886945544, AbsEr: 0.9994949668180197\n",
      "Param: design_options.cplr_opts.coupling_length, Ref: 1.0, Pred: 0.7670158743858337, Pow2Er: 0.9989901886945541, AbsEr: 0.9994949668180196\n",
      "Param: design_options.cplr_opts.open_termination, Ref: 0.0, Pred: 0.0006708981236442924, Pow2Er: 2.550585149010986e-07, AbsEr: 0.0005050331819802523\n",
      "Param: design_options.cplr_opts.down_length, Ref: 1.0, Pred: 0.7661800384521484, Pow2Er: 0.9989901886945544, AbsEr: 0.9994949668180197\n",
      "Param: design_options.cplr_opts.orientation, Ref: -90.0, Pred: -90.00028991699219, Pow2Er: 2.550585149010986e-07, AbsEr: 0.0005050331819802523\n",
      "Param: design_options.cpw_opts.lead.end_straight, Ref: 5e-05, Pred: 0.08113908022642136, Pow2Er: 2.550585149010986e-07, AbsEr: 0.0005050331819802523\n",
      "Param: design_options.cpw_opts.lead.start_jogged_extension.0, Ref: 1.0, Pred: 1.0012431144714355, Pow2Er: 2.550585149010986e-07, AbsEr: 0.0005050331819802523\n",
      "Param: design_options.cplr_opts.cap_gap, Ref: 5e-06, Pred: 0.2187231481075287, Pow2Er: 2.550585149010986e-07, AbsEr: 0.0005050331819802523\n",
      "Param: design_options.cplr_opts.cap_width, Ref: 1e-05, Pred: 0.22043070197105408, Pow2Er: 2.550585149010986e-07, AbsEr: 0.0005050331819802523\n",
      "Param: design_options.cplr_opts.cap_gap_ground, Ref: 5.1e-06, Pred: 0.22055119276046753, Pow2Er: 2.550585149010986e-07, AbsEr: 0.0005050331819802523\n",
      "Param: design_options.cplr_opts.finger_length, Ref: 3e-05, Pred: 0.22051917016506195, Pow2Er: 2.550585149010986e-07, AbsEr: 0.0005050331819802523\n",
      "Param: design_options.cplr_opts.finger_count, Ref: 5.0, Pred: 4.067071914672852, Pow2Er: 0.9989901886945544, AbsEr: 0.9994949668180197\n",
      "Param: design_options.cplr_opts.cap_distance, Ref: 5.09e-05, Pred: 0.22059163451194763, Pow2Er: 2.550585149010986e-07, AbsEr: 0.0005050331819802523\n",
      "Param: coupler_type_CLT, Ref: 0.0, Pred: 0.22019249200820923, Pow2Er: 2.550585149010986e-07, AbsEr: 0.0005050331819802523\n",
      "Param: coupler_type_NCap, Ref: 1.0, Pred: 0.768102765083313, Pow2Er: 0.9989901886945544, AbsEr: 0.9994949668180197\n",
      "Param: resonator_type_half, Ref: 1.0, Pred: 0.7677251100540161, Pow2Er: 0.9989901886945544, AbsEr: 0.9994949668180197\n",
      "Param: resonator_type_quarter, Ref: 0.0, Pred: 0.21955706179141998, Pow2Er: 2.550585149010986e-07, AbsEr: 0.0005050331819802523\n",
      "Param: design_options.cpw_opts.pin_inputs.start_pin.component_cplr, Ref: 1.0, Pred: 1.0002719163894653, Pow2Er: 2.550585149010986e-07, AbsEr: 0.0005050331819802523\n",
      "Param: design_options.cpw_opts.pin_inputs.start_pin.pin_second_end, Ref: 1.0, Pred: 0.9997636675834656, Pow2Er: 2.550585149010986e-07, AbsEr: 0.0005050331819802523\n",
      "Param: design_options.cpw_opts.pin_inputs.end_pin.component_claw, Ref: 1.0, Pred: 0.9998925924301147, Pow2Er: 2.550585149010986e-07, AbsEr: 0.0005050331819802523\n",
      "Param: design_options.cpw_opts.pin_inputs.end_pin.pin_readout, Ref: 1.0, Pred: 0.9992097020149231, Pow2Er: 2.550585149010986e-07, AbsEr: 0.0005050331819802523\n",
      "\n",
      "---------------------- X Values: cavity_frequency:6191931262.87 \tkappa: 24653.2103228-----------------------\n",
      "Param: design_options.claw_opts.connection_pads.readout.connector_location, Ref: 90.0, Pred: 90.00043487548828, Pow2Er: 1.87354165314714e-07, AbsEr: 0.00043284427374601364\n",
      "Param: design_options.claw_opts.connection_pads.readout.connector_type, Ref: 0.0, Pred: -0.00033952808007597923, Pow2Er: 1.87354165314714e-07, AbsEr: 0.00043284427374601364\n",
      "Param: design_options.claw_opts.connection_pads.readout.claw_length, Ref: 0.00036, Pred: 0.0002610133960843086, Pow2Er: 0.32603612042906793, AbsEr: 0.5709957271548255\n",
      "Param: design_options.claw_opts.connection_pads.readout.ground_spacing, Ref: 4.1e-06, Pred: 4.642838575819042e-06, Pow2Er: 1.87354165314714e-07, AbsEr: 0.00043284427374601364\n",
      "Param: design_options.claw_opts.connection_pads.readout.claw_gap, Ref: 5.1e-06, Pred: 0.00047315782285295427, Pow2Er: 1.87354165314714e-07, AbsEr: 0.00043284427374601364\n",
      "Param: design_options.claw_opts.connection_pads.readout.claw_width, Ref: 1.5e-05, Pred: 0.0010582121321931481, Pow2Er: 1.87354165314714e-07, AbsEr: 0.00043284427374601364\n",
      "Param: design_options.claw_opts.connection_pads.readout.claw_cpw_width, Ref: 1.17e-05, Pred: -7.867041858844459e-05, Pow2Er: 1.87354165314714e-07, AbsEr: 0.00043284427374601364\n",
      "Param: design_options.claw_opts.connection_pads.readout.claw_cpw_length, Ref: 0.0, Pred: -9.289709851145744e-05, Pow2Er: 1.87354165314714e-07, AbsEr: 0.00043284427374601364\n",
      "Param: design_options.claw_opts.orientation, Ref: -90.0, Pred: -89.9994888305664, Pow2Er: 1.87354165314714e-07, AbsEr: 0.00043284427374601364\n",
      "Param: design_options.claw_opts.pos_x, Ref: -0.0015, Pred: -0.0014983215369284153, Pow2Er: 1.87354165314714e-07, AbsEr: 0.00043284427374601364\n",
      "Param: design_options.claw_opts.cross_length, Ref: 0.0, Pred: 1.5042675840959419e-05, Pow2Er: 1.87354165314714e-07, AbsEr: 0.00043284427374601364\n",
      "Param: design_options.claw_opts.cross_width, Ref: 0.0, Pred: 1.8963519323733635e-06, Pow2Er: 1.87354165314714e-07, AbsEr: 0.00043284427374601364\n",
      "Param: design_options.claw_opts.cross_gap, Ref: 0.0, Pred: 1.8878293985835626e-06, Pow2Er: 1.87354165314714e-07, AbsEr: 0.00043284427374601364\n",
      "Param: design_options.cpw_opts.fillet, Ref: 4.99e-05, Pred: 0.0003746123693417758, Pow2Er: 1.87354165314714e-07, AbsEr: 0.00043284427374601364\n",
      "Param: design_options.cpw_opts.total_length, Ref: 0.0039, Pred: 0.003986900206655264, Pow2Er: 0.09850362401474945, AbsEr: 0.31385287001196827\n",
      "Param: design_options.cpw_opts.trace_width, Ref: 1.17e-05, Pred: -5.002474063076079e-05, Pow2Er: 1.87354165314714e-07, AbsEr: 0.00043284427374601364\n",
      "Param: design_options.cpw_opts.trace_gap, Ref: 5.1e-06, Pred: -0.0002881702093873173, Pow2Er: 1.87354165314714e-07, AbsEr: 0.00043284427374601364\n",
      "Param: design_options.cpw_opts.lead.start_straight, Ref: 5e-05, Pred: 8.33566373330541e-05, Pow2Er: 1.87354165314714e-07, AbsEr: 0.00043284427374601364\n",
      "Param: design_options.cpw_opts.meander.spacing, Ref: 0.0001, Pred: 0.0008998592384159565, Pow2Er: 1.87354165314714e-07, AbsEr: 0.00043284427374601364\n",
      "Param: design_options.cpw_opts.meander.asymmetry, Ref: -5e-05, Pred: 0.06250429898500443, Pow2Er: 5.423973692278169e-08, AbsEr: 0.0002328942612491379\n",
      "Param: design_options.cplr_opts.prime_width, Ref: 1.17e-05, Pred: 0.0005579852731898427, Pow2Er: 1.87354165314714e-07, AbsEr: 0.00043284427374601364\n",
      "Param: design_options.cplr_opts.prime_gap, Ref: 5.1e-06, Pred: 0.0008533108630217612, Pow2Er: 1.87354165314714e-07, AbsEr: 0.00043284427374601364\n",
      "Param: design_options.cplr_opts.second_width, Ref: 1.17e-05, Pred: -0.0003711569297593087, Pow2Er: 1.87354165314714e-07, AbsEr: 0.00043284427374601364\n",
      "Param: design_options.cplr_opts.second_gap, Ref: 5.1e-06, Pred: -0.00030164458439685404, Pow2Er: 1.87354165314714e-07, AbsEr: 0.00043284427374601364\n",
      "Param: design_options.cplr_opts.coupling_space, Ref: 7.9e-06, Pred: 0.06243963912129402, Pow2Er: 1.87354165314714e-07, AbsEr: 0.00043284427374601364\n",
      "Param: design_options.cplr_opts.coupling_length, Ref: 0.0001, Pred: 0.06233793869614601, Pow2Er: 1.87354165314714e-07, AbsEr: 0.00043284427374601364\n",
      "Param: design_options.cplr_opts.open_termination, Ref: 0.0, Pred: 0.00017428828869014978, Pow2Er: 1.87354165314714e-07, AbsEr: 0.00043284427374601364\n",
      "Param: design_options.cplr_opts.down_length, Ref: 5e-05, Pred: 0.06236587464809418, Pow2Er: 1.87354165314714e-07, AbsEr: 0.00043284427374601364\n",
      "Param: design_options.cplr_opts.orientation, Ref: -90.0, Pred: -90.00048065185547, Pow2Er: 1.87354165314714e-07, AbsEr: 0.00043284427374601364\n",
      "Param: design_options.cpw_opts.lead.end_straight, Ref: 1.0, Pred: 0.3094247877597809, Pow2Er: 0.9991344988066733, AbsEr: 0.999567155726254\n",
      "Param: design_options.cpw_opts.lead.start_jogged_extension.0, Ref: 1.0, Pred: 1.00145423412323, Pow2Er: 1.87354165314714e-07, AbsEr: 0.00043284427374601364\n",
      "Param: design_options.cplr_opts.cap_gap, Ref: 1.0, Pred: 0.9156683683395386, Pow2Er: 0.9991344988066737, AbsEr: 0.9995671557262542\n",
      "Param: design_options.cplr_opts.cap_width, Ref: 1.0, Pred: 0.9171643853187561, Pow2Er: 0.9991344988066733, AbsEr: 0.999567155726254\n",
      "Param: design_options.cplr_opts.cap_gap_ground, Ref: 1.0, Pred: 0.9173219203948975, Pow2Er: 0.9991344988066733, AbsEr: 0.999567155726254\n",
      "Param: design_options.cplr_opts.finger_length, Ref: 1.0, Pred: 0.917120635509491, Pow2Er: 0.999134498806673, AbsEr: 0.9995671557262539\n",
      "Param: design_options.cplr_opts.finger_count, Ref: 1.0, Pred: 1.2481651306152344, Pow2Er: 1.87354165314714e-07, AbsEr: 0.00043284427374601364\n",
      "Param: design_options.cplr_opts.cap_distance, Ref: 1.0, Pred: 0.9170098900794983, Pow2Er: 0.9991344988066733, AbsEr: 0.999567155726254\n",
      "Param: coupler_type_CLT, Ref: 1.0, Pred: 0.9167905449867249, Pow2Er: 0.9991344988066733, AbsEr: 0.999567155726254\n",
      "Param: coupler_type_NCap, Ref: 0.0, Pred: 0.06341414153575897, Pow2Er: 1.87354165314714e-07, AbsEr: 0.00043284427374601364\n",
      "Param: resonator_type_half, Ref: 0.0, Pred: 0.0637861043214798, Pow2Er: 1.87354165314714e-07, AbsEr: 0.00043284427374601364\n",
      "Param: resonator_type_quarter, Ref: 1.0, Pred: 0.9161681532859802, Pow2Er: 0.9991344988066733, AbsEr: 0.999567155726254\n",
      "Param: design_options.cpw_opts.pin_inputs.start_pin.component_cplr, Ref: 1.0, Pred: 1.000108003616333, Pow2Er: 1.87354165314714e-07, AbsEr: 0.00043284427374601364\n",
      "Param: design_options.cpw_opts.pin_inputs.start_pin.pin_second_end, Ref: 1.0, Pred: 0.9997863173484802, Pow2Er: 1.87354165314714e-07, AbsEr: 0.00043284427374601364\n",
      "Param: design_options.cpw_opts.pin_inputs.end_pin.component_claw, Ref: 1.0, Pred: 1.000424861907959, Pow2Er: 1.87354165314714e-07, AbsEr: 0.00043284427374601364\n",
      "Param: design_options.cpw_opts.pin_inputs.end_pin.pin_readout, Ref: 1.0, Pred: 0.9990144371986389, Pow2Er: 1.87354165314714e-07, AbsEr: 0.00043284427374601364\n",
      "\n"
     ]
    }
   ],
   "source": [
    "print(f'----------------------------------------------Unscaled predictions {y_encoding_format_name} encoding----------------------------------------')\n",
    "min=1\n",
    "for i in range(2): \n",
    "    if abs_errors[i].any()<min: \n",
    "        min = abs_errors[i]\n",
    "    print(f\"---------------------- X Values: cavity_frequency:{X_test_unscaled[i][0]} \tkappa: {X_test_unscaled[i][1]}-----------------------\")\n",
    "    for l in range(len(y_test[i])):\n",
    "        print('Param: {}, Ref: {}, Pred: {}, Pow2Er: {}, AbsEr: {}'.format(headers[l],y_test_unscaled[i][l], y_pred_unscaled[i][l], pow2_errors[i][l], abs_errors[i][l]))\n",
    "    print(\"\")"
   ]
  },
  {
   "cell_type": "code",
   "execution_count": null,
   "id": "89ec484e-c04b-4570-9f2b-76f013a459a4",
   "metadata": {},
   "outputs": [],
   "source": []
  }
 ],
 "metadata": {
  "kernelspec": {
   "display_name": "Python 3 (ipykernel)",
   "language": "python",
   "name": "python3"
  },
  "language_info": {
   "codemirror_mode": {
    "name": "ipython",
    "version": 3
   },
   "file_extension": ".py",
   "mimetype": "text/x-python",
   "name": "python",
   "nbconvert_exporter": "python",
   "pygments_lexer": "ipython3",
   "version": "3.10.15"
  }
 },
 "nbformat": 4,
 "nbformat_minor": 5
}
