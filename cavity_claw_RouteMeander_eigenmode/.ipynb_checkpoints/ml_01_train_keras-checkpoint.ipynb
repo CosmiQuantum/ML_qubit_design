{
 "cells": [
  {
   "cell_type": "markdown",
   "id": "374b8e1e",
   "metadata": {},
   "source": [
    "# Model Training (Keras)"
   ]
  },
  {
   "cell_type": "markdown",
   "id": "67e7659a-fe1b-4fdf-8c09-a398e498373b",
   "metadata": {},
   "source": [
    "## Configuration"
   ]
  },
  {
   "cell_type": "code",
   "execution_count": 56,
   "id": "c9418886-6a3f-4473-ae89-53bab6428eb2",
   "metadata": {},
   "outputs": [],
   "source": [
    "# The parameter file is where the hyperparameters are set\n",
    "\n",
    "from parameters import *"
   ]
  },
  {
   "cell_type": "markdown",
   "id": "e0d17135-58ce-45e4-9c16-1d1b76f34ea3",
   "metadata": {
    "tags": []
   },
   "source": [
    "## Library"
   ]
  },
  {
   "cell_type": "code",
   "execution_count": 57,
   "id": "fa89948c",
   "metadata": {},
   "outputs": [],
   "source": [
    "import tensorflow as tf\n",
    "from tensorflow.keras.models import Sequential, load_model\n",
    "from tensorflow.keras.layers import Input, Dense, Activation, Dropout, LeakyReLU\n",
    "from sklearn.preprocessing import LabelEncoder, StandardScaler\n",
    "from sklearn.preprocessing import MinMaxScaler\n",
    "from tensorflow.keras.callbacks import EarlyStopping, ModelCheckpoint, ReduceLROnPlateau\n",
    "import os\n",
    "import numpy as np\n",
    "import pandas as pd\n",
    "\n",
    "from tensorflow.keras import Sequential\n",
    "from tensorflow.keras.layers import Dense, Input, Dropout\n",
    "from tensorflow.keras.regularizers import l2\n",
    "from tensorflow.keras.callbacks import EarlyStopping, ModelCheckpoint\n",
    "from keras_tuner import HyperModel, RandomSearch\n",
    "from tensorflow.keras.models import load_model\n",
    "\n",
    "# Disable some console warnings\n",
    "os.environ['TF_XLA_FLAGS'] = '--tf_xla_enable_xla_devices'\n",
    "os.environ['TF_CPP_MIN_LOG_LEVEL'] = '2'"
   ]
  },
  {
   "cell_type": "code",
   "execution_count": 58,
   "id": "b35ed7bf-9c4f-41d4-8652-1fe11dd8c013",
   "metadata": {},
   "outputs": [],
   "source": [
    "seed = 0\n",
    "\n",
    "# Input seed value. if this value is the same, the random number generator will generate the same set of random values every time\n",
    "np.random.seed(seed)\n",
    "\n",
    "# Set the seed value for reproducibility in tensorflow\n",
    "tf.random.set_seed(seed)"
   ]
  },
  {
   "cell_type": "markdown",
   "id": "c6c9e65e-f247-4388-a274-6041e8cdcc27",
   "metadata": {},
   "source": [
    "## Check GPU"
   ]
  },
  {
   "cell_type": "code",
   "execution_count": 59,
   "id": "17dc079f-6430-41bc-8342-0cc5ffbe4a8b",
   "metadata": {
    "tags": []
   },
   "outputs": [
    {
     "name": "stdout",
     "output_type": "stream",
     "text": [
      "[name: \"/device:CPU:0\"\n",
      "device_type: \"CPU\"\n",
      "memory_limit: 268435456\n",
      "locality {\n",
      "}\n",
      "incarnation: 9902028111753448612\n",
      "xla_global_id: -1\n",
      ", name: \"/device:XLA_CPU:0\"\n",
      "device_type: \"XLA_CPU\"\n",
      "memory_limit: 17179869184\n",
      "locality {\n",
      "}\n",
      "incarnation: 8003301559866752495\n",
      "physical_device_desc: \"device: XLA_CPU device\"\n",
      "xla_global_id: -1\n",
      ", name: \"/device:GPU:0\"\n",
      "device_type: \"GPU\"\n",
      "memory_limit: 8502378496\n",
      "locality {\n",
      "  bus_id: 1\n",
      "  links {\n",
      "  }\n",
      "}\n",
      "incarnation: 16220034769727764169\n",
      "physical_device_desc: \"device: 0, name: NVIDIA A100 80GB PCIe MIG 1g.10gb, pci bus id: 0000:00:11.0, compute capability: 8.0\"\n",
      "xla_global_id: 416903419\n",
      ", name: \"/device:XLA_GPU:0\"\n",
      "device_type: \"XLA_GPU\"\n",
      "memory_limit: 17179869184\n",
      "locality {\n",
      "}\n",
      "incarnation: 3789028160568606221\n",
      "physical_device_desc: \"device: XLA_GPU device\"\n",
      "xla_global_id: -1\n",
      "]\n"
     ]
    },
    {
     "name": "stderr",
     "output_type": "stream",
     "text": [
      "2024-11-14 18:35:52.802249: I tensorflow/compiler/xla/stream_executor/cuda/cuda_gpu_executor.cc:894] successful NUMA node read from SysFS had negative value (-1), but there must be at least one NUMA node, so returning NUMA node zero. See more at https://github.com/torvalds/linux/blob/v6.0/Documentation/ABI/testing/sysfs-bus-pci#L344-L355\n",
      "2024-11-14 18:35:52.802548: I tensorflow/compiler/xla/stream_executor/cuda/cuda_gpu_executor.cc:894] successful NUMA node read from SysFS had negative value (-1), but there must be at least one NUMA node, so returning NUMA node zero. See more at https://github.com/torvalds/linux/blob/v6.0/Documentation/ABI/testing/sysfs-bus-pci#L344-L355\n",
      "2024-11-14 18:35:52.802732: I tensorflow/compiler/xla/stream_executor/cuda/cuda_gpu_executor.cc:894] successful NUMA node read from SysFS had negative value (-1), but there must be at least one NUMA node, so returning NUMA node zero. See more at https://github.com/torvalds/linux/blob/v6.0/Documentation/ABI/testing/sysfs-bus-pci#L344-L355\n",
      "2024-11-14 18:35:52.803007: I tensorflow/compiler/xla/stream_executor/cuda/cuda_gpu_executor.cc:894] successful NUMA node read from SysFS had negative value (-1), but there must be at least one NUMA node, so returning NUMA node zero. See more at https://github.com/torvalds/linux/blob/v6.0/Documentation/ABI/testing/sysfs-bus-pci#L344-L355\n",
      "2024-11-14 18:35:52.803180: I tensorflow/compiler/xla/stream_executor/cuda/cuda_gpu_executor.cc:894] successful NUMA node read from SysFS had negative value (-1), but there must be at least one NUMA node, so returning NUMA node zero. See more at https://github.com/torvalds/linux/blob/v6.0/Documentation/ABI/testing/sysfs-bus-pci#L344-L355\n",
      "2024-11-14 18:35:52.803301: I tensorflow/core/common_runtime/gpu/gpu_device.cc:1886] Created device /device:GPU:0 with 8108 MB memory:  -> device: 0, name: NVIDIA A100 80GB PCIe MIG 1g.10gb, pci bus id: 0000:00:11.0, compute capability: 8.0\n"
     ]
    }
   ],
   "source": [
    "\n",
    "from tensorflow.python.client import device_lib\n",
    "print(device_lib.list_local_devices())"
   ]
  },
  {
   "cell_type": "markdown",
   "id": "9b4ad03d-ae5d-4bc6-b055-3e8579849c5d",
   "metadata": {},
   "source": [
    "## Dataset"
   ]
  },
  {
   "cell_type": "markdown",
   "id": "f13d0b8c-6699-4caf-b257-abc4f8e49b99",
   "metadata": {},
   "source": [
    "### Load"
   ]
  },
  {
   "cell_type": "code",
   "execution_count": 60,
   "id": "667c238f-0e0f-4e4c-b185-f76d1ca261ea",
   "metadata": {},
   "outputs": [],
   "source": [
    "# Keeping DATA_AUGMENTATION 'True' for now so everything scales between 0 and 1\n",
    "if DATA_AUGMENTATION:\n",
    "    X_train_val = np.load('{}/npy/x_train_val_augmented.npy'.format(DATA_DIR), allow_pickle=True)\n",
    "    X_test = np.load('{}/npy/x_test_augmented.npy'.format(DATA_DIR), allow_pickle=True)\n",
    "    \n",
    "    y_train_val = np.load('{}/npy/y_train_val_augmented.npy'.format(DATA_DIR), allow_pickle=True)\n",
    "    y_test = np.load('{}/npy/y_test_augmented.npy'.format(DATA_DIR), allow_pickle=True)  \n",
    "else:\n",
    "    X_train_val = np.load('{}/npy/x_train_val.npy'.format(DATA_DIR), allow_pickle=True)\n",
    "    X_test = np.load('{}/npy/x_test.npy'.format(DATA_DIR), allow_pickle=True)\n",
    "    \n",
    "    y_train_val = np.load('{}/npy/y_train_val.npy'.format(DATA_DIR), allow_pickle=True)\n",
    "    y_test = np.load('{}/npy/y_test.npy'.format(DATA_DIR), allow_pickle=True)"
   ]
  },
  {
   "cell_type": "markdown",
   "id": "47ec9efd-ee93-429d-95b4-4e6efef296db",
   "metadata": {},
   "source": [
    "### Visualize"
   ]
  },
  {
   "cell_type": "code",
   "execution_count": 61,
   "id": "fcb45684",
   "metadata": {},
   "outputs": [
    {
     "name": "stdout",
     "output_type": "stream",
     "text": [
      "(972, 45)\n",
      "(972, 2)\n",
      "[0.00000000e+00 0.00000000e+00 4.03940887e-01 0.00000000e+00\n",
      " 0.00000000e+00 0.00000000e+00 0.00000000e+00 0.00000000e+00\n",
      " 0.00000000e+00 0.00000000e+00 0.00000000e+00 0.00000000e+00\n",
      " 0.00000000e+00 0.00000000e+00 3.14285714e-01 0.00000000e+00\n",
      " 0.00000000e+00 1.00000000e+00 0.00000000e+00 3.26585020e-04\n",
      " 0.00000000e+00 0.00000000e+00 0.00000000e+00 0.00000000e+00\n",
      " 0.00000000e+00 1.30013001e-04 0.00000000e+00 0.00000000e+00\n",
      " 0.00000000e+00 5.00025001e-05 0.00000000e+00 1.00000000e+00\n",
      " 1.00000000e+00 1.00000000e+00 1.00000000e+00 0.00000000e+00\n",
      " 1.00000000e+00 1.00000000e+00 0.00000000e+00 0.00000000e+00\n",
      " 1.00000000e+00 0.00000000e+00 0.00000000e+00 0.00000000e+00\n",
      " 0.00000000e+00]\n"
     ]
    }
   ],
   "source": [
    "print(y_train_val.shape)\n",
    "print(X_train_val.shape)\n",
    "print(y_train_val[0])"
   ]
  },
  {
   "cell_type": "code",
   "execution_count": 62,
   "id": "c8e90f9a-14a8-41e2-ad9a-cfe4e3000d6f",
   "metadata": {},
   "outputs": [
    {
     "data": {
      "text/plain": [
       "array([[0.06143168, 0.1222459 ],\n",
       "       [0.04092692, 0.07230281],\n",
       "       [0.51113395, 0.00118874],\n",
       "       ...,\n",
       "       [0.05754841, 0.25609945],\n",
       "       [0.57781303, 0.0013409 ],\n",
       "       [0.06168676, 0.26742149]])"
      ]
     },
     "metadata": {},
     "output_type": "display_data"
    }
   ],
   "source": [
    "display(X_train_val) #can check this in previous script as well after loading to make sure it matches"
   ]
  },
  {
   "cell_type": "code",
   "execution_count": 63,
   "id": "95debf17-6de3-49fc-9064-b01c985c3665",
   "metadata": {},
   "outputs": [
    {
     "name": "stdout",
     "output_type": "stream",
     "text": [
      "---------------------------------------\n",
      "Train-and-validation set shape y: 972, 79.93%\n",
      "Test set shape y:                 244, 20.07%\n",
      "---------------------------------------\n",
      "---------------------------------------\n",
      "Train-and-validation set shape x: 972, 79.93%\n",
      "Test set shape x:                 244, 20.07%\n",
      "---------------------------------------\n"
     ]
    }
   ],
   "source": [
    "#number of values in the training set and test set, these are probably pulling from the data files individual points\n",
    "\n",
    "total = len(y_train_val) + len(y_test)\n",
    "print('---------------------------------------')  \n",
    "print('Train-and-validation set shape y: {}, {:.2f}%'.format(len(y_train_val), (len(y_train_val)*100.)/total))\n",
    "print('Test set shape y:                 {}, {:.2f}%'.format(len(y_test), (len(y_test)*100.)/total))\n",
    "print('---------------------------------------')\n",
    "\n",
    "total = len(X_train_val) + len(X_test)\n",
    "print('---------------------------------------')  \n",
    "print('Train-and-validation set shape x: {}, {:.2f}%'.format(len(X_train_val), (len(X_train_val)*100.)/total))\n",
    "print('Test set shape x:                 {}, {:.2f}%'.format(len(X_test), (len(X_test)*100.)/total))\n",
    "print('---------------------------------------')"
   ]
  },
  {
   "cell_type": "code",
   "execution_count": 64,
   "id": "6f6e25c0",
   "metadata": {},
   "outputs": [],
   "source": [
    "%matplotlib inline\n",
    "import matplotlib.pyplot as plt"
   ]
  },
  {
   "cell_type": "code",
   "execution_count": 65,
   "id": "78b32e05-b5df-4647-8dae-6ee5f8cddcca",
   "metadata": {},
   "outputs": [
    {
     "data": {
      "image/png": "[encoded data removed]",
      "text/plain": [
       "<Figure size 800x300 with 2 Axes>"
      ]
     },
     "metadata": {},
     "output_type": "display_data"
    },
    {
     "data": {
      "image/png": "[encoded data removed]",
      "text/plain": [
       "<Figure size 800x300 with 2 Axes>"
      ]
     },
     "metadata": {},
     "output_type": "display_data"
    }
   ],
   "source": [
    "#--------------------Training Set---------------------\n",
    "plt.figure(figsize=(8, 3))\n",
    "\n",
    "# Histogram for Cavity Frequency\n",
    "plt.subplot(1, 2, 1)\n",
    "plt.hist([i[0] for i in X_train_val], bins=30, color='lightblue', edgecolor='black')\n",
    "plt.title('Training Set Histogram of Cavity Frequency')\n",
    "plt.xlabel('Cavity Frequency (Hz)')\n",
    "plt.ylabel('Frequency')\n",
    "\n",
    "# Histogram for Kappa\n",
    "plt.subplot(1, 2, 2)\n",
    "plt.hist([i[1] for i in X_train_val], bins=30, color='salmon', edgecolor='black')\n",
    "plt.title('Training Set Histogram of Kappa')\n",
    "plt.xlabel('Kappa')\n",
    "plt.ylabel('Frequency')\n",
    "\n",
    "plt.tight_layout()\n",
    "plt.show()\n",
    "\n",
    "\n",
    "#--------------------Test Set---------------------\n",
    "plt.figure(figsize=(8, 3))\n",
    "\n",
    "# Histogram for Cavity Frequency\n",
    "plt.subplot(1, 2, 1)\n",
    "plt.hist([i[0] for i in X_test], bins=30, color='lightblue', edgecolor='black')\n",
    "plt.title('Test Set Histogram of Cavity Frequency')\n",
    "plt.xlabel('Cavity Frequency (Hz)')\n",
    "plt.ylabel('Frequency')\n",
    "\n",
    "# Histogram for Kappa\n",
    "plt.subplot(1, 2, 2)\n",
    "plt.hist([i[1] for i in X_test], bins=30, color='salmon', edgecolor='black')\n",
    "plt.title('Test Set Histogram of Kappa')\n",
    "plt.xlabel('Kappa')\n",
    "plt.ylabel('Frequency')\n",
    "\n",
    "plt.tight_layout()\n",
    "plt.show()"
   ]
  },
  {
   "cell_type": "markdown",
   "id": "61ecc581",
   "metadata": {},
   "source": [
    "## MLP"
   ]
  },
  {
   "cell_type": "markdown",
   "id": "251cf19c",
   "metadata": {},
   "source": [
    "### Create model"
   ]
  },
  {
   "cell_type": "markdown",
   "id": "8bb4f8c5",
   "metadata": {},
   "source": [
    "Create a classical multi-layer perceptron for regression: 602 input features, 10 targets, and a certain number of hidden layers and neurons. Taking some inspiration from [Deep learning-based I-V Global Parameter Extraction for BSIM-CMG](https://www.sciencedirect.com/science/article/pii/S003811012300179X), Solid-State Electronics, Vol. 209, November 2023."
   ]
  },
  {
   "cell_type": "markdown",
   "id": "d945bd67-9923-4f7c-8e32-56672a6c3a4a",
   "metadata": {},
   "source": [
    "Reccomended to download a third party app like \"Sleep control Center\" or \"Amphetamine\" to prevent computer from sleeping during the many hour/day long training process"
   ]
  },
  {
   "cell_type": "markdown",
   "id": "fcc4f485-e3da-4663-832c-3bc917660e45",
   "metadata": {},
   "source": [
    "### Create Model by Hand"
   ]
  },
  {
   "cell_type": "code",
   "execution_count": 11,
   "id": "ce671ad6",
   "metadata": {},
   "outputs": [],
   "source": [
    "# Multilayer perceptron (MLP) with 2 input features. MLP is having neurons that adjust rules based on how accurate they can guess things\n",
    "model_shape = 'mlp_2_'\n",
    "\n",
    "# Define the number on neurons in the inner layer (in parameter file)\n",
    "model_shape += '_'.join(str(l) for l in NEURONS_PER_LAYER)\n",
    "\n",
    "# 44 output neurons for 45 parameters\n",
    "model_shape += '_45'"
   ]
  },
  {
   "cell_type": "code",
   "execution_count": 12,
   "id": "85ba881d-a212-402c-86d8-ed5ab2bed357",
   "metadata": {},
   "outputs": [
    {
     "name": "stderr",
     "output_type": "stream",
     "text": [
      "2024-11-14 17:27:40.685958: I tensorflow/compiler/xla/stream_executor/cuda/cuda_gpu_executor.cc:894] successful NUMA node read from SysFS had negative value (-1), but there must be at least one NUMA node, so returning NUMA node zero. See more at https://github.com/torvalds/linux/blob/v6.0/Documentation/ABI/testing/sysfs-bus-pci#L344-L355\n",
      "2024-11-14 17:27:40.686412: I tensorflow/compiler/xla/stream_executor/cuda/cuda_gpu_executor.cc:894] successful NUMA node read from SysFS had negative value (-1), but there must be at least one NUMA node, so returning NUMA node zero. See more at https://github.com/torvalds/linux/blob/v6.0/Documentation/ABI/testing/sysfs-bus-pci#L344-L355\n",
      "2024-11-14 17:27:40.686668: I tensorflow/compiler/xla/stream_executor/cuda/cuda_gpu_executor.cc:894] successful NUMA node read from SysFS had negative value (-1), but there must be at least one NUMA node, so returning NUMA node zero. See more at https://github.com/torvalds/linux/blob/v6.0/Documentation/ABI/testing/sysfs-bus-pci#L344-L355\n",
      "2024-11-14 17:27:40.687230: I tensorflow/compiler/xla/stream_executor/cuda/cuda_gpu_executor.cc:894] successful NUMA node read from SysFS had negative value (-1), but there must be at least one NUMA node, so returning NUMA node zero. See more at https://github.com/torvalds/linux/blob/v6.0/Documentation/ABI/testing/sysfs-bus-pci#L344-L355\n",
      "2024-11-14 17:27:40.687466: I tensorflow/compiler/xla/stream_executor/cuda/cuda_gpu_executor.cc:894] successful NUMA node read from SysFS had negative value (-1), but there must be at least one NUMA node, so returning NUMA node zero. See more at https://github.com/torvalds/linux/blob/v6.0/Documentation/ABI/testing/sysfs-bus-pci#L344-L355\n",
      "2024-11-14 17:27:40.687708: I tensorflow/compiler/xla/stream_executor/cuda/cuda_gpu_executor.cc:894] successful NUMA node read from SysFS had negative value (-1), but there must be at least one NUMA node, so returning NUMA node zero. See more at https://github.com/torvalds/linux/blob/v6.0/Documentation/ABI/testing/sysfs-bus-pci#L344-L355\n",
      "2024-11-14 17:27:40.688011: I tensorflow/compiler/xla/stream_executor/cuda/cuda_gpu_executor.cc:894] successful NUMA node read from SysFS had negative value (-1), but there must be at least one NUMA node, so returning NUMA node zero. See more at https://github.com/torvalds/linux/blob/v6.0/Documentation/ABI/testing/sysfs-bus-pci#L344-L355\n",
      "2024-11-14 17:27:40.688245: I tensorflow/compiler/xla/stream_executor/cuda/cuda_gpu_executor.cc:894] successful NUMA node read from SysFS had negative value (-1), but there must be at least one NUMA node, so returning NUMA node zero. See more at https://github.com/torvalds/linux/blob/v6.0/Documentation/ABI/testing/sysfs-bus-pci#L344-L355\n",
      "2024-11-14 17:27:40.688403: I tensorflow/core/common_runtime/gpu/gpu_device.cc:1886] Created device /job:localhost/replica:0/task:0/device:GPU:0 with 8108 MB memory:  -> device: 0, name: NVIDIA A100 80GB PCIe MIG 1g.10gb, pci bus id: 0000:00:11.0, compute capability: 8.0\n"
     ]
    }
   ],
   "source": [
    "# Initialize a sequential model, which lets us build a linear stack of layers\n",
    "model = Sequential()\n",
    "\n",
    "# Add an input layer to the model. This layer defines the shape of the input data (2 features per sample), sets dimensions of following layers\n",
    "model.add(Input(shape=(2,), name='input1'))\n",
    "\n",
    "# Iterate over the configuration of neurons for each hidden layer specified in NEURONS_PER_LAYER\n",
    "for i, n in enumerate(NEURONS_PER_LAYER):\n",
    "    # Add a fully connected (dense) hidden layer with spec ified number of neurons\n",
    "    # The LeCun uniform initializer is used when initializing weights, this makes the model more stable\n",
    "    # L2 regularization is used in each layer to penalizing large weights, which prevents overfitting\n",
    "    model.add(Dense(n, name='fc{}'.format(i), kernel_initializer='lecun_uniform', kernel_regularizer=tf.keras.regularizers.l2(0.001)))\n",
    "\n",
    "    # Apply a Leaky ReLU activation function to the outputs of the dense layer\n",
    "    # This introduces non-linearities, allowing the network to learn complex functions\n",
    "    # Leaky ReLU is chosen over standard ReLU to help mitigate the \"dying ReLU\" problem:\n",
    "    #     - This problem is when neurons using the ReLU activation function output zero for all inputs and stop learning\n",
    "    #     - Can be mitigated by using variations like Leaky ReLU or proper initialization\n",
    "    model.add(LeakyReLU(alpha=0.01, name='leaky_relu{}'.format(i)))\n",
    "    \n",
    "    # Add a dropout layer to reduce overfitting -- randomly drops a set fraction (like 30%) of outputs from the layer\n",
    "    model.add(Dropout(rate=TRAIN_DROPOUT_RATE, name='dropout{}'.format(i)))\n",
    "\n",
    "# Add the output layer consisting of 10 neurons, corresponding to the 10 target variables we aim to predict.\n",
    "# The same LeCun uniform initializer is used to ensure consistency and stability at the output layer as well.\n",
    "model.add(Dense(45, activation='linear', name='fc_output', kernel_initializer='lecun_uniform'))"
   ]
  },
  {
   "cell_type": "code",
   "execution_count": 13,
   "id": "e0181fd2-e4ee-4e41-aaae-4603c1a853cb",
   "metadata": {},
   "outputs": [
    {
     "name": "stderr",
     "output_type": "stream",
     "text": [
      "2024-11-14 17:27:41.250975: I tensorflow/tsl/platform/default/subprocess.cc:304] Start cannot spawn child process: No such file or directory\n"
     ]
    }
   ],
   "source": [
    "# The exponential decay learning rate schedule gradually reduces the learning rate, fine-tuning the learning process for better convergence\n",
    "lr_schedule = tf.keras.optimizers.schedules.ExponentialDecay(\n",
    "    initial_learning_rate=LR_INITIAL,  \n",
    "    decay_steps=LR_DECAY_STEPS,        \n",
    "    decay_rate=LR_DECAY_RATE,          \n",
    "    staircase=LR_STAIRCASE             \n",
    ")\n",
    "\n",
    "# Set model to minimize loss specified by TRAIN_LOSS, and also to report the loss during training\n",
    "model.compile(\n",
    "    optimizer=tf.optimizers.Adam(learning_rate=lr_schedule),  \n",
    "    loss=TRAIN_LOSS,                                         \n",
    "    metrics=[TRAIN_LOSS]                                     \n",
    ")"
   ]
  },
  {
   "cell_type": "code",
   "execution_count": 14,
   "id": "44e3657d-d0ac-40e6-9829-694436270bb4",
   "metadata": {},
   "outputs": [],
   "source": [
    "!mkdir -p model\n",
    "best_model_file = 'model/{}_best_model.h5'.format(model_shape)\n",
    "last_model_file = 'model/{}_last_model.h5'.format(model_shape)"
   ]
  },
  {
   "cell_type": "markdown",
   "id": "49516260-5078-4162-ab99-cdb45f9f9827",
   "metadata": {},
   "source": [
    "Enable training (`train_and_save`) to overwrite the model file."
   ]
  },
  {
   "cell_type": "code",
   "execution_count": 15,
   "id": "c95e4501-3aea-4053-9788-30b4532d7f82",
   "metadata": {},
   "outputs": [],
   "source": [
    "train_and_save = True"
   ]
  },
  {
   "cell_type": "markdown",
   "id": "f2957910-f200-4e9f-91c3-6e7ed0926ceb",
   "metadata": {},
   "source": [
    "We use Adam optimizer, minimize the Mean Squared Logarithmic Error, and early stop."
   ]
  },
  {
   "cell_type": "markdown",
   "id": "e3a00680-7b7f-4877-babb-481f0682b7b3",
   "metadata": {
    "tags": []
   },
   "source": [
    "#### Training"
   ]
  },
  {
   "cell_type": "code",
   "execution_count": 16,
   "id": "96b4fdb2",
   "metadata": {},
   "outputs": [],
   "source": [
    "from IPython.display import clear_output\n",
    "\n",
    "class TrainingPlot(tf.keras.callbacks.Callback):\n",
    "     \n",
    "    # This function is called when the training begins\n",
    "    def on_train_begin(self, logs={}):\n",
    "        # Initialize the lists for holding the logs, losses \n",
    "        self.losses = []\n",
    "        self.val_losses = []\n",
    "        self.logs = []\n",
    "    \n",
    "    # This function is called at the end of each epoch\n",
    "    def on_epoch_end(self, epoch, logs={}):\n",
    "        \n",
    "        # Append the logs, losses  to the lists\n",
    "        self.logs.append(logs)\n",
    "        self.losses.append(logs.get('loss'))\n",
    "        self.val_losses.append(logs.get('val_loss'))\n",
    "        \n",
    "        # Before plotting ensure at least 2 epochs have passed\n",
    "        if len(self.losses) > 1:\n",
    "            \n",
    "            # Clear the previous plot\n",
    "            clear_output(wait=True)\n",
    "            N = np.arange(0, len(self.losses))\n",
    "            \n",
    "            # Plot train loss, train acc, val loss and val acc against epochs passed\n",
    "            plt.figure()\n",
    "            plt.plot(N, self.losses, label = \"train_loss\")\n",
    "            plt.plot(N, self.val_losses, label = \"val_loss\")\n",
    "            plt.title(\"Training Loss [Epoch {}]\".format(epoch))\n",
    "            plt.xlabel(\"Epoch #\")\n",
    "            plt.ylabel(\"Loss/Accuracy\")\n",
    "            plt.legend()\n",
    "            plt.show()\n",
    "       \n",
    "class LearningRateMonitor(tf.keras.callbacks.Callback):\n",
    "    def __init__(self):\n",
    "        super(LearningRateMonitor, self).__init__()\n",
    "        self.learning_rates = []\n",
    "\n",
    "    def on_epoch_end(self, epoch, logs=None):\n",
    "        lr = self.model.optimizer._current_learning_rate.read_value()\n",
    "        self.learning_rates.append(lr)\n",
    "        print(f\"Epoch: {epoch + 1}, Learning Rate: {lr:.10f}\")"
   ]
  },
  {
   "cell_type": "code",
   "execution_count": 17,
   "id": "ef223c28-cc33-4721-b049-be7023eb13ea",
   "metadata": {},
   "outputs": [
    {
     "data": {
      "image/png": "[encoded data removed]",
      "text/plain": [
       "<Figure size 640x480 with 1 Axes>"
      ]
     },
     "metadata": {},
     "output_type": "display_data"
    },
    {
     "name": "stdout",
     "output_type": "stream",
     "text": [
      "Epoch: 100, Learning Rate: 0.0011324665\n",
      "25/25 [==============================] - 0s 19ms/step - loss: 0.0274 - mean_squared_error: 0.0140 - val_loss: 0.0234 - val_mean_squared_error: 0.0105\n",
      "CPU times: user 38.3 s, sys: 33.2 s, total: 1min 11s\n",
      "Wall time: 41.3 s\n"
     ]
    }
   ],
   "source": [
    "%%time\n",
    "history = None  \n",
    "\n",
    "if train_and_save: \n",
    "    # Set up early stopping to prevent overfitting by halting training when validation loss stops improving\n",
    "    early_stopping = EarlyStopping(\n",
    "        monitor='val_loss',                      # Monitor validation loss for stopping criteria \n",
    "        mode='min',                              # Stop when the monitored quantity has stopped decreasing\n",
    "        patience=TRAIN_EARLY_STOPPING_PATIENCE,  # Number of epochs to wait after last improvement\n",
    "        verbose=1                                # Enable logging when early stopping happens\n",
    "    )\n",
    "\n",
    "    # Set up model checkpointing to save the model at its best validation loss:\n",
    "    model_checkpoint = ModelCheckpoint(\n",
    "        filepath=best_model_file,          \n",
    "        monitor='val_loss',            # Save the model based on validation loss improvement\n",
    "        mode='min',                    # Favor lower validation loss values for saving (minimize)\n",
    "        save_best_only=True,           # Save only when validation loss improves\n",
    "        verbose=0                      # No logging for model saving\n",
    "    )\n",
    "    \n",
    "    plot_callback = TrainingPlot()      # Plot training progress\n",
    "    lr_monitor = LearningRateMonitor()  # Watch learning rate changes\n",
    "\n",
    "    # Train the model on the training data and validate on a portion of it\n",
    "    history = model.fit(\n",
    "        np.asarray(X_train_val),  \n",
    "        np.asarray(y_train_val),      \n",
    "        epochs=100,                   \n",
    "        batch_size=TRAIN_BATCH_SIZE,  \n",
    "        validation_split=TRAIN_VALIDATION_SPLIT,  \n",
    "        callbacks=[early_stopping, model_checkpoint, plot_callback, lr_monitor],  \n",
    "        verbose=1  # Enable logging of the training process.\n",
    "    )\n",
    "    \n",
    "    model.save(last_model_file)  # Save the final model when done training!\n"
   ]
  },
  {
   "cell_type": "markdown",
   "id": "a4a4074c-a8ef-4a69-a8cd-5714edb90166",
   "metadata": {},
   "source": [
    "Load the saved best model and use it from now on."
   ]
  },
  {
   "cell_type": "code",
   "execution_count": 18,
   "id": "2447145e-91b5-4070-aefe-38f8e6bc33de",
   "metadata": {},
   "outputs": [],
   "source": [
    "model = load_model(best_model_file, custom_objects={})"
   ]
  },
  {
   "cell_type": "markdown",
   "id": "b002f4a5-df05-4ff2-be6d-24f8027ca4ea",
   "metadata": {},
   "source": [
    "### Keras Tuner to Find Best Hyperparameters and Model"
   ]
  },
  {
   "cell_type": "markdown",
   "id": "6efe2de3-ba0a-4103-bfd1-466d73bd9b8c",
   "metadata": {},
   "source": [
    "Run this if you want to use keras tuner to make the model rather than doing it by hand"
   ]
  },
  {
   "cell_type": "code",
   "execution_count": 11,
   "id": "2d804553-ae82-4f8f-9182-806c7f22b531",
   "metadata": {},
   "outputs": [],
   "source": [
    "from tensorflow.keras import Sequential\n",
    "from tensorflow.keras.layers import Dense, Input, Dropout\n",
    "from tensorflow.keras.regularizers import l2\n",
    "from tensorflow.keras.callbacks import EarlyStopping, ModelCheckpoint\n",
    "from keras_tuner import HyperModel, RandomSearch\n",
    "from tensorflow.keras.models import load_model"
   ]
  },
  {
   "cell_type": "code",
   "execution_count": 12,
   "id": "081aa70b-c54e-48af-b895-5e9ddd2746cc",
   "metadata": {},
   "outputs": [],
   "source": [
    "def build_hypermodel(hp):\n",
    "    # Hyperparameters to tune\n",
    "    neurons_per_layer = [hp.Int(f'neurons_{i}', min_value=100, max_value=5000, step=100) for i in range(4)]\n",
    "    dropout_rate = hp.Float('dropout_rate', TRAIN_DROPOUT_RATE, 0.5, step=0.1)\n",
    "    \n",
    "    # Create Model in the same way that we do by hand\n",
    "    model = Sequential()\n",
    "    model.add(Input(shape=(2,), name='input1'))\n",
    "\n",
    "    for i, n in enumerate(neurons_per_layer):\n",
    "        model.add(Dense(n, name=f'fc{i}', kernel_initializer='lecun_uniform', kernel_regularizer=tf.keras.regularizers.l2(0.001)))\n",
    "        model.add(LeakyReLU(alpha=0.01, name=f'leaky_relu{i}'))\n",
    "        model.add(Dropout(rate=dropout_rate, name=f'dropout{i}'))\n",
    "\n",
    "    model.add(Dense(45, name='output', kernel_initializer='lecun_uniform'))\n",
    "\n",
    "    # Learning rate configuration\n",
    "    lr_initial = hp.Float('learning_rate', 1e-6, 5e-3, sampling='LOG', default=0.0001)\n",
    "    lr_schedule = tf.keras.optimizers.schedules.ExponentialDecay(\n",
    "        initial_learning_rate=lr_initial,\n",
    "        decay_steps=LR_DECAY_STEPS,\n",
    "        decay_rate=LR_DECAY_RATE,\n",
    "        staircase=LR_STAIRCASE\n",
    "    )\n",
    "\n",
    "    model.compile(optimizer=tf.optimizers.Adam(learning_rate=lr_schedule), \n",
    "                  loss='mean_squared_error',\n",
    "                  metrics=['mean_squared_error'])\n",
    "    return model"
   ]
  },
  {
   "cell_type": "code",
   "execution_count": 35,
   "id": "2cfea157-b0b4-4148-8d0a-e37c877877a4",
   "metadata": {},
   "outputs": [
    {
     "name": "stdout",
     "output_type": "stream",
     "text": [
      "Reloading Tuner from hyper_tuning/mlp_tuning/tuner0.json\n"
     ]
    }
   ],
   "source": [
    "# Start tuning\n",
    "tuner = RandomSearch(\n",
    "    build_hypermodel,\n",
    "    objective='val_loss',\n",
    "    max_trials=31,\n",
    "    executions_per_trial=1,\n",
    "    directory='hyper_tuning',\n",
    "    project_name='mlp_tuning'\n",
    ")"
   ]
  },
  {
   "cell_type": "code",
   "execution_count": 36,
   "id": "c11608cb-5b05-45af-af22-0bcab2827734",
   "metadata": {},
   "outputs": [],
   "source": [
    "# Setup Callbacks\n",
    "early_stopping = EarlyStopping(\n",
    "    monitor='val_loss',\n",
    "    mode='min',\n",
    "    patience=TRAIN_EARLY_STOPPING_PATIENCE,\n",
    "    verbose=1\n",
    ")"
   ]
  },
  {
   "cell_type": "code",
   "execution_count": 37,
   "id": "15440869-6be6-4005-9db4-3b37695adc5c",
   "metadata": {},
   "outputs": [
    {
     "name": "stdout",
     "output_type": "stream",
     "text": [
      "Trial 31 Complete [00h 00m 18s]\n",
      "val_loss: 4.7991790771484375\n",
      "\n",
      "Best val_loss So Far: 0.041522327810525894\n",
      "Total elapsed time: 1d 01h 15m 41s\n"
     ]
    }
   ],
   "source": [
    "# Perform hyperparameter tuning\n",
    "tuner.search(np.asarray(X_train_val), \n",
    "             np.asarray(y_train_val), \n",
    "             epochs=50, \n",
    "             batch_size=TRAIN_BATCH_SIZE, \n",
    "             validation_split=TRAIN_VALIDATION_SPLIT, \n",
    "             callbacks=[early_stopping], \n",
    "             verbose=1)"
   ]
  },
  {
   "cell_type": "code",
   "execution_count": 33,
   "id": "416e8802-97f4-42e5-8571-36b78d2f079b",
   "metadata": {},
   "outputs": [
    {
     "name": "stdout",
     "output_type": "stream",
     "text": [
      "<keras.src.engine.sequential.Sequential object at 0x7fbaac4bd420>\n"
     ]
    }
   ],
   "source": [
    "model = tuner.get_best_models(num_models=1)[0]\n",
    "print(model)"
   ]
  },
  {
   "cell_type": "code",
   "execution_count": 34,
   "id": "598b1b58-8413-4573-a02d-fe8363165edc",
   "metadata": {},
   "outputs": [
    {
     "name": "stderr",
     "output_type": "stream",
     "text": [
      "/opt/conda/lib/python3.10/site-packages/keras/src/engine/training.py:3079: UserWarning: You are saving your model as an HDF5 file via `model.save()`. This file format is considered legacy. We recommend using instead the native Keras format, e.g. `model.save('my_model.keras')`.\n",
      "  saving_api.save_model(\n"
     ]
    },
    {
     "name": "stdout",
     "output_type": "stream",
     "text": [
      "WARNING:tensorflow:Detecting that an object or model or tf.train.Checkpoint is being deleted with unrestored values. See the following logs for the specific values in question. To silence these warnings, use `status.expect_partial()`. See https://www.tensorflow.org/api_docs/python/tf/train/Checkpoint#restorefor details about the status object returned by the restore function.\n",
      "WARNING:tensorflow:Value in checkpoint could not be found in the restored object: (root).optimizer._variables.1\n",
      "WARNING:tensorflow:Value in checkpoint could not be found in the restored object: (root).optimizer._variables.2\n",
      "WARNING:tensorflow:Value in checkpoint could not be found in the restored object: (root).optimizer._variables.3\n",
      "WARNING:tensorflow:Value in checkpoint could not be found in the restored object: (root).optimizer._variables.4\n",
      "WARNING:tensorflow:Value in checkpoint could not be found in the restored object: (root).optimizer._variables.5\n",
      "WARNING:tensorflow:Value in checkpoint could not be found in the restored object: (root).optimizer._variables.6\n",
      "WARNING:tensorflow:Value in checkpoint could not be found in the restored object: (root).optimizer._variables.7\n",
      "WARNING:tensorflow:Value in checkpoint could not be found in the restored object: (root).optimizer._variables.8\n",
      "WARNING:tensorflow:Value in checkpoint could not be found in the restored object: (root).optimizer._variables.9\n",
      "WARNING:tensorflow:Value in checkpoint could not be found in the restored object: (root).optimizer._variables.10\n",
      "WARNING:tensorflow:Value in checkpoint could not be found in the restored object: (root).optimizer._variables.11\n",
      "WARNING:tensorflow:Value in checkpoint could not be found in the restored object: (root).optimizer._variables.12\n",
      "WARNING:tensorflow:Value in checkpoint could not be found in the restored object: (root).optimizer._variables.13\n",
      "WARNING:tensorflow:Value in checkpoint could not be found in the restored object: (root).optimizer._variables.14\n",
      "WARNING:tensorflow:Value in checkpoint could not be found in the restored object: (root).optimizer._variables.15\n",
      "WARNING:tensorflow:Value in checkpoint could not be found in the restored object: (root).optimizer._variables.16\n",
      "WARNING:tensorflow:Value in checkpoint could not be found in the restored object: (root).optimizer._variables.17\n",
      "WARNING:tensorflow:Value in checkpoint could not be found in the restored object: (root).optimizer._variables.18\n",
      "WARNING:tensorflow:Value in checkpoint could not be found in the restored object: (root).optimizer._variables.19\n",
      "WARNING:tensorflow:Value in checkpoint could not be found in the restored object: (root).optimizer._variables.20\n"
     ]
    }
   ],
   "source": [
    "best_model_file = 'model/best_keras_model.h5'\n",
    "model.save(best_model_file)\n",
    "\n",
    "model = load_model(best_model_file)"
   ]
  },
  {
   "cell_type": "markdown",
   "id": "4291953b-7ce8-498d-88ce-20974516af77",
   "metadata": {},
   "source": [
    "### View the model"
   ]
  },
  {
   "cell_type": "code",
   "execution_count": 66,
   "id": "137d2a50-a4ef-4ccc-8cb9-04e380f0fcfb",
   "metadata": {
    "scrolled": true
   },
   "outputs": [
    {
     "name": "stdout",
     "output_type": "stream",
     "text": [
      "Model: \"sequential\"\n",
      "_________________________________________________________________\n",
      " Layer (type)                Output Shape              Param #   \n",
      "=================================================================\n",
      " fc0 (Dense)                 (None, 3300)              9900      \n",
      "                                                                 \n",
      " leaky_relu0 (LeakyReLU)     (None, 3300)              0         \n",
      "                                                                 \n",
      " dropout0 (Dropout)          (None, 3300)              0         \n",
      "                                                                 \n",
      " fc1 (Dense)                 (None, 200)               660200    \n",
      "                                                                 \n",
      " leaky_relu1 (LeakyReLU)     (None, 200)               0         \n",
      "                                                                 \n",
      " dropout1 (Dropout)          (None, 200)               0         \n",
      "                                                                 \n",
      " fc2 (Dense)                 (None, 4600)              924600    \n",
      "                                                                 \n",
      " leaky_relu2 (LeakyReLU)     (None, 4600)              0         \n",
      "                                                                 \n",
      " dropout2 (Dropout)          (None, 4600)              0         \n",
      "                                                                 \n",
      " fc3 (Dense)                 (None, 1700)              7821700   \n",
      "                                                                 \n",
      " leaky_relu3 (LeakyReLU)     (None, 1700)              0         \n",
      "                                                                 \n",
      " dropout3 (Dropout)          (None, 1700)              0         \n",
      "                                                                 \n",
      " fc_output (Dense)           (None, 45)                76545     \n",
      "                                                                 \n",
      "=================================================================\n",
      "Total params: 9492945 (36.21 MB)\n",
      "Trainable params: 9492945 (36.21 MB)\n",
      "Non-trainable params: 0 (0.00 Byte)\n",
      "_________________________________________________________________\n"
     ]
    }
   ],
   "source": [
    "model.summary()"
   ]
  },
  {
   "cell_type": "code",
   "execution_count": 67,
   "id": "a0ff4e35-6bb8-401a-9cae-a799b3bbc388",
   "metadata": {},
   "outputs": [
    {
     "ename": "AttributeError",
     "evalue": "module 'pydot' has no attribute 'InvocationException'",
     "output_type": "error",
     "traceback": [
      "\u001b[0;31m---------------------------------------------------------------------------\u001b[0m",
      "\u001b[0;31mFileNotFoundError\u001b[0m                         Traceback (most recent call last)",
      "File \u001b[0;32m~/.local/lib/python3.10/site-packages/pydot/core.py:1851\u001b[0m, in \u001b[0;36mDot.create\u001b[0;34m(self, prog, format, encoding)\u001b[0m\n\u001b[1;32m   1850\u001b[0m \u001b[38;5;28;01mtry\u001b[39;00m:\n\u001b[0;32m-> 1851\u001b[0m     stdout_data, stderr_data, process \u001b[38;5;241m=\u001b[39m \u001b[43mcall_graphviz\u001b[49m\u001b[43m(\u001b[49m\n\u001b[1;32m   1852\u001b[0m \u001b[43m        \u001b[49m\u001b[43mprogram\u001b[49m\u001b[38;5;241;43m=\u001b[39;49m\u001b[43mprog\u001b[49m\u001b[43m,\u001b[49m\n\u001b[1;32m   1853\u001b[0m \u001b[43m        \u001b[49m\u001b[43marguments\u001b[49m\u001b[38;5;241;43m=\u001b[39;49m\u001b[43marguments\u001b[49m\u001b[43m,\u001b[49m\n\u001b[1;32m   1854\u001b[0m \u001b[43m        \u001b[49m\u001b[43mworking_dir\u001b[49m\u001b[38;5;241;43m=\u001b[39;49m\u001b[43mtmp_dir\u001b[49m\u001b[43m,\u001b[49m\n\u001b[1;32m   1855\u001b[0m \u001b[43m    \u001b[49m\u001b[43m)\u001b[49m\n\u001b[1;32m   1856\u001b[0m \u001b[38;5;28;01mexcept\u001b[39;00m \u001b[38;5;167;01mOSError\u001b[39;00m \u001b[38;5;28;01mas\u001b[39;00m e:\n",
      "File \u001b[0;32m~/.local/lib/python3.10/site-packages/pydot/core.py:211\u001b[0m, in \u001b[0;36mcall_graphviz\u001b[0;34m(program, arguments, working_dir, **kwargs)\u001b[0m\n\u001b[1;32m    209\u001b[0m program_with_args \u001b[38;5;241m=\u001b[39m [program] \u001b[38;5;241m+\u001b[39m arguments\n\u001b[0;32m--> 211\u001b[0m process \u001b[38;5;241m=\u001b[39m \u001b[43msubprocess\u001b[49m\u001b[38;5;241;43m.\u001b[39;49m\u001b[43mPopen\u001b[49m\u001b[43m(\u001b[49m\n\u001b[1;32m    212\u001b[0m \u001b[43m    \u001b[49m\u001b[43mprogram_with_args\u001b[49m\u001b[43m,\u001b[49m\n\u001b[1;32m    213\u001b[0m \u001b[43m    \u001b[49m\u001b[43menv\u001b[49m\u001b[38;5;241;43m=\u001b[39;49m\u001b[43menv\u001b[49m\u001b[43m,\u001b[49m\n\u001b[1;32m    214\u001b[0m \u001b[43m    \u001b[49m\u001b[43mcwd\u001b[49m\u001b[38;5;241;43m=\u001b[39;49m\u001b[43mworking_dir\u001b[49m\u001b[43m,\u001b[49m\n\u001b[1;32m    215\u001b[0m \u001b[43m    \u001b[49m\u001b[43mshell\u001b[49m\u001b[38;5;241;43m=\u001b[39;49m\u001b[38;5;28;43;01mFalse\u001b[39;49;00m\u001b[43m,\u001b[49m\n\u001b[1;32m    216\u001b[0m \u001b[43m    \u001b[49m\u001b[43mstderr\u001b[49m\u001b[38;5;241;43m=\u001b[39;49m\u001b[43msubprocess\u001b[49m\u001b[38;5;241;43m.\u001b[39;49m\u001b[43mPIPE\u001b[49m\u001b[43m,\u001b[49m\n\u001b[1;32m    217\u001b[0m \u001b[43m    \u001b[49m\u001b[43mstdout\u001b[49m\u001b[38;5;241;43m=\u001b[39;49m\u001b[43msubprocess\u001b[49m\u001b[38;5;241;43m.\u001b[39;49m\u001b[43mPIPE\u001b[49m\u001b[43m,\u001b[49m\n\u001b[1;32m    218\u001b[0m \u001b[43m    \u001b[49m\u001b[38;5;241;43m*\u001b[39;49m\u001b[38;5;241;43m*\u001b[39;49m\u001b[43mkwargs\u001b[49m\u001b[43m,\u001b[49m\n\u001b[1;32m    219\u001b[0m \u001b[43m\u001b[49m\u001b[43m)\u001b[49m\n\u001b[1;32m    220\u001b[0m stdout_data, stderr_data \u001b[38;5;241m=\u001b[39m process\u001b[38;5;241m.\u001b[39mcommunicate()\n",
      "File \u001b[0;32m/opt/conda/lib/python3.10/subprocess.py:971\u001b[0m, in \u001b[0;36mPopen.__init__\u001b[0;34m(self, args, bufsize, executable, stdin, stdout, stderr, preexec_fn, close_fds, shell, cwd, env, universal_newlines, startupinfo, creationflags, restore_signals, start_new_session, pass_fds, user, group, extra_groups, encoding, errors, text, umask, pipesize)\u001b[0m\n\u001b[1;32m    968\u001b[0m             \u001b[38;5;28mself\u001b[39m\u001b[38;5;241m.\u001b[39mstderr \u001b[38;5;241m=\u001b[39m io\u001b[38;5;241m.\u001b[39mTextIOWrapper(\u001b[38;5;28mself\u001b[39m\u001b[38;5;241m.\u001b[39mstderr,\n\u001b[1;32m    969\u001b[0m                     encoding\u001b[38;5;241m=\u001b[39mencoding, errors\u001b[38;5;241m=\u001b[39merrors)\n\u001b[0;32m--> 971\u001b[0m     \u001b[38;5;28;43mself\u001b[39;49m\u001b[38;5;241;43m.\u001b[39;49m\u001b[43m_execute_child\u001b[49m\u001b[43m(\u001b[49m\u001b[43margs\u001b[49m\u001b[43m,\u001b[49m\u001b[43m \u001b[49m\u001b[43mexecutable\u001b[49m\u001b[43m,\u001b[49m\u001b[43m \u001b[49m\u001b[43mpreexec_fn\u001b[49m\u001b[43m,\u001b[49m\u001b[43m \u001b[49m\u001b[43mclose_fds\u001b[49m\u001b[43m,\u001b[49m\n\u001b[1;32m    972\u001b[0m \u001b[43m                        \u001b[49m\u001b[43mpass_fds\u001b[49m\u001b[43m,\u001b[49m\u001b[43m \u001b[49m\u001b[43mcwd\u001b[49m\u001b[43m,\u001b[49m\u001b[43m \u001b[49m\u001b[43menv\u001b[49m\u001b[43m,\u001b[49m\n\u001b[1;32m    973\u001b[0m \u001b[43m                        \u001b[49m\u001b[43mstartupinfo\u001b[49m\u001b[43m,\u001b[49m\u001b[43m \u001b[49m\u001b[43mcreationflags\u001b[49m\u001b[43m,\u001b[49m\u001b[43m \u001b[49m\u001b[43mshell\u001b[49m\u001b[43m,\u001b[49m\n\u001b[1;32m    974\u001b[0m \u001b[43m                        \u001b[49m\u001b[43mp2cread\u001b[49m\u001b[43m,\u001b[49m\u001b[43m \u001b[49m\u001b[43mp2cwrite\u001b[49m\u001b[43m,\u001b[49m\n\u001b[1;32m    975\u001b[0m \u001b[43m                        \u001b[49m\u001b[43mc2pread\u001b[49m\u001b[43m,\u001b[49m\u001b[43m \u001b[49m\u001b[43mc2pwrite\u001b[49m\u001b[43m,\u001b[49m\n\u001b[1;32m    976\u001b[0m \u001b[43m                        \u001b[49m\u001b[43merrread\u001b[49m\u001b[43m,\u001b[49m\u001b[43m \u001b[49m\u001b[43merrwrite\u001b[49m\u001b[43m,\u001b[49m\n\u001b[1;32m    977\u001b[0m \u001b[43m                        \u001b[49m\u001b[43mrestore_signals\u001b[49m\u001b[43m,\u001b[49m\n\u001b[1;32m    978\u001b[0m \u001b[43m                        \u001b[49m\u001b[43mgid\u001b[49m\u001b[43m,\u001b[49m\u001b[43m \u001b[49m\u001b[43mgids\u001b[49m\u001b[43m,\u001b[49m\u001b[43m \u001b[49m\u001b[43muid\u001b[49m\u001b[43m,\u001b[49m\u001b[43m \u001b[49m\u001b[43mumask\u001b[49m\u001b[43m,\u001b[49m\n\u001b[1;32m    979\u001b[0m \u001b[43m                        \u001b[49m\u001b[43mstart_new_session\u001b[49m\u001b[43m)\u001b[49m\n\u001b[1;32m    980\u001b[0m \u001b[38;5;28;01mexcept\u001b[39;00m:\n\u001b[1;32m    981\u001b[0m     \u001b[38;5;66;03m# Cleanup if the child failed starting.\u001b[39;00m\n",
      "File \u001b[0;32m/opt/conda/lib/python3.10/subprocess.py:1863\u001b[0m, in \u001b[0;36mPopen._execute_child\u001b[0;34m(self, args, executable, preexec_fn, close_fds, pass_fds, cwd, env, startupinfo, creationflags, shell, p2cread, p2cwrite, c2pread, c2pwrite, errread, errwrite, restore_signals, gid, gids, uid, umask, start_new_session)\u001b[0m\n\u001b[1;32m   1862\u001b[0m         err_msg \u001b[38;5;241m=\u001b[39m os\u001b[38;5;241m.\u001b[39mstrerror(errno_num)\n\u001b[0;32m-> 1863\u001b[0m     \u001b[38;5;28;01mraise\u001b[39;00m child_exception_type(errno_num, err_msg, err_filename)\n\u001b[1;32m   1864\u001b[0m \u001b[38;5;28;01mraise\u001b[39;00m child_exception_type(err_msg)\n",
      "\u001b[0;31mFileNotFoundError\u001b[0m: [Errno 2] No such file or directory: 'dot'",
      "\nDuring handling of the above exception, another exception occurred:\n",
      "\u001b[0;31mFileNotFoundError\u001b[0m                         Traceback (most recent call last)",
      "File \u001b[0;32m/opt/conda/lib/python3.10/site-packages/keras/src/utils/vis_utils.py:57\u001b[0m, in \u001b[0;36mcheck_graphviz\u001b[0;34m()\u001b[0m\n\u001b[1;32m     54\u001b[0m \u001b[38;5;28;01mtry\u001b[39;00m:\n\u001b[1;32m     55\u001b[0m     \u001b[38;5;66;03m# Attempt to create an image of a blank graph\u001b[39;00m\n\u001b[1;32m     56\u001b[0m     \u001b[38;5;66;03m# to check the pydot/graphviz installation.\u001b[39;00m\n\u001b[0;32m---> 57\u001b[0m     \u001b[43mpydot\u001b[49m\u001b[38;5;241;43m.\u001b[39;49m\u001b[43mDot\u001b[49m\u001b[38;5;241;43m.\u001b[39;49m\u001b[43mcreate\u001b[49m\u001b[43m(\u001b[49m\u001b[43mpydot\u001b[49m\u001b[38;5;241;43m.\u001b[39;49m\u001b[43mDot\u001b[49m\u001b[43m(\u001b[49m\u001b[43m)\u001b[49m\u001b[43m)\u001b[49m\n\u001b[1;32m     58\u001b[0m     \u001b[38;5;28;01mreturn\u001b[39;00m \u001b[38;5;28;01mTrue\u001b[39;00m\n",
      "File \u001b[0;32m~/.local/lib/python3.10/site-packages/pydot/core.py:1860\u001b[0m, in \u001b[0;36mDot.create\u001b[0;34m(self, prog, format, encoding)\u001b[0m\n\u001b[1;32m   1859\u001b[0m     args[\u001b[38;5;241m1\u001b[39m] \u001b[38;5;241m=\u001b[39m \u001b[38;5;124mf\u001b[39m\u001b[38;5;124m'\u001b[39m\u001b[38;5;124m\"\u001b[39m\u001b[38;5;132;01m{\u001b[39;00mprog\u001b[38;5;132;01m}\u001b[39;00m\u001b[38;5;124m\"\u001b[39m\u001b[38;5;124m not found in path.\u001b[39m\u001b[38;5;124m'\u001b[39m\n\u001b[0;32m-> 1860\u001b[0m     \u001b[38;5;28;01mraise\u001b[39;00m \u001b[38;5;167;01mOSError\u001b[39;00m(\u001b[38;5;241m*\u001b[39margs)\n\u001b[1;32m   1861\u001b[0m \u001b[38;5;28;01melse\u001b[39;00m:\n",
      "\u001b[0;31mFileNotFoundError\u001b[0m: [Errno 2] \"dot\" not found in path.",
      "\nDuring handling of the above exception, another exception occurred:\n",
      "\u001b[0;31mAttributeError\u001b[0m                            Traceback (most recent call last)",
      "Cell \u001b[0;32mIn[67], line 1\u001b[0m\n\u001b[0;32m----> 1\u001b[0m \u001b[43mtf\u001b[49m\u001b[38;5;241;43m.\u001b[39;49m\u001b[43mkeras\u001b[49m\u001b[38;5;241;43m.\u001b[39;49m\u001b[43mutils\u001b[49m\u001b[38;5;241;43m.\u001b[39;49m\u001b[43mplot_model\u001b[49m\u001b[43m(\u001b[49m\u001b[43mmodel\u001b[49m\u001b[43m,\u001b[49m\u001b[43m \u001b[49m\u001b[43mto_file\u001b[49m\u001b[38;5;241;43m=\u001b[39;49m\u001b[38;5;124;43m'\u001b[39;49m\u001b[38;5;132;43;01m{}\u001b[39;49;00m\u001b[38;5;124;43m_model.png\u001b[39;49m\u001b[38;5;124;43m'\u001b[39;49m\u001b[38;5;241;43m.\u001b[39;49m\u001b[43mformat\u001b[49m\u001b[43m(\u001b[49m\u001b[43mmodel_shape\u001b[49m\u001b[43m)\u001b[49m\u001b[43m,\u001b[49m\u001b[43m \u001b[49m\u001b[43mshow_shapes\u001b[49m\u001b[38;5;241;43m=\u001b[39;49m\u001b[38;5;28;43;01mTrue\u001b[39;49;00m\u001b[43m,\u001b[49m\u001b[43m \u001b[49m\u001b[43mshow_layer_names\u001b[49m\u001b[38;5;241;43m=\u001b[39;49m\u001b[38;5;28;43;01mTrue\u001b[39;49;00m\u001b[43m)\u001b[49m\n",
      "File \u001b[0;32m/opt/conda/lib/python3.10/site-packages/keras/src/utils/vis_utils.py:451\u001b[0m, in \u001b[0;36mplot_model\u001b[0;34m(model, to_file, show_shapes, show_dtype, show_layer_names, rankdir, expand_nested, dpi, layer_range, show_layer_activations, show_trainable)\u001b[0m\n\u001b[1;32m    444\u001b[0m \u001b[38;5;28;01mif\u001b[39;00m \u001b[38;5;129;01mnot\u001b[39;00m model\u001b[38;5;241m.\u001b[39mbuilt:\n\u001b[1;32m    445\u001b[0m     \u001b[38;5;28;01mraise\u001b[39;00m \u001b[38;5;167;01mValueError\u001b[39;00m(\n\u001b[1;32m    446\u001b[0m         \u001b[38;5;124m\"\u001b[39m\u001b[38;5;124mThis model has not yet been built. \u001b[39m\u001b[38;5;124m\"\u001b[39m\n\u001b[1;32m    447\u001b[0m         \u001b[38;5;124m\"\u001b[39m\u001b[38;5;124mBuild the model first by calling `build()` or by calling \u001b[39m\u001b[38;5;124m\"\u001b[39m\n\u001b[1;32m    448\u001b[0m         \u001b[38;5;124m\"\u001b[39m\u001b[38;5;124mthe model on a batch of data.\u001b[39m\u001b[38;5;124m\"\u001b[39m\n\u001b[1;32m    449\u001b[0m     )\n\u001b[0;32m--> 451\u001b[0m \u001b[38;5;28;01mif\u001b[39;00m \u001b[38;5;129;01mnot\u001b[39;00m \u001b[43mcheck_graphviz\u001b[49m\u001b[43m(\u001b[49m\u001b[43m)\u001b[49m:\n\u001b[1;32m    452\u001b[0m     message \u001b[38;5;241m=\u001b[39m (\n\u001b[1;32m    453\u001b[0m         \u001b[38;5;124m\"\u001b[39m\u001b[38;5;124mYou must install pydot (`pip install pydot`) \u001b[39m\u001b[38;5;124m\"\u001b[39m\n\u001b[1;32m    454\u001b[0m         \u001b[38;5;124m\"\u001b[39m\u001b[38;5;124mand install graphviz \u001b[39m\u001b[38;5;124m\"\u001b[39m\n\u001b[1;32m    455\u001b[0m         \u001b[38;5;124m\"\u001b[39m\u001b[38;5;124m(see instructions at https://graphviz.gitlab.io/download/) \u001b[39m\u001b[38;5;124m\"\u001b[39m\n\u001b[1;32m    456\u001b[0m         \u001b[38;5;124m\"\u001b[39m\u001b[38;5;124mfor plot_model to work.\u001b[39m\u001b[38;5;124m\"\u001b[39m\n\u001b[1;32m    457\u001b[0m     )\n\u001b[1;32m    458\u001b[0m     \u001b[38;5;28;01mif\u001b[39;00m \u001b[38;5;124m\"\u001b[39m\u001b[38;5;124mIPython.core.magics.namespace\u001b[39m\u001b[38;5;124m\"\u001b[39m \u001b[38;5;129;01min\u001b[39;00m sys\u001b[38;5;241m.\u001b[39mmodules:\n\u001b[1;32m    459\u001b[0m         \u001b[38;5;66;03m# We don't raise an exception here in order to avoid crashing\u001b[39;00m\n\u001b[1;32m    460\u001b[0m         \u001b[38;5;66;03m# notebook tests where graphviz is not available.\u001b[39;00m\n",
      "File \u001b[0;32m/opt/conda/lib/python3.10/site-packages/keras/src/utils/vis_utils.py:59\u001b[0m, in \u001b[0;36mcheck_graphviz\u001b[0;34m()\u001b[0m\n\u001b[1;32m     57\u001b[0m     pydot\u001b[38;5;241m.\u001b[39mDot\u001b[38;5;241m.\u001b[39mcreate(pydot\u001b[38;5;241m.\u001b[39mDot())\n\u001b[1;32m     58\u001b[0m     \u001b[38;5;28;01mreturn\u001b[39;00m \u001b[38;5;28;01mTrue\u001b[39;00m\n\u001b[0;32m---> 59\u001b[0m \u001b[38;5;28;01mexcept\u001b[39;00m (\u001b[38;5;167;01mOSError\u001b[39;00m, \u001b[43mpydot\u001b[49m\u001b[38;5;241;43m.\u001b[39;49m\u001b[43mInvocationException\u001b[49m):\n\u001b[1;32m     60\u001b[0m     \u001b[38;5;28;01mreturn\u001b[39;00m \u001b[38;5;28;01mFalse\u001b[39;00m\n",
      "\u001b[0;31mAttributeError\u001b[0m: module 'pydot' has no attribute 'InvocationException'"
     ]
    }
   ],
   "source": [
    "tf.keras.utils.plot_model(model, to_file='{}_model.png'.format(model_shape), show_shapes=True, show_layer_names=True)"
   ]
  },
  {
   "cell_type": "raw",
   "id": "f05d0a25-2890-4ddc-b888-57b849fa2a0f",
   "metadata": {},
   "source": [
    "keras2ascii(model)"
   ]
  },
  {
   "cell_type": "markdown",
   "id": "4e57cb40-ca2c-4ac7-905c-e13beaf71a51",
   "metadata": {},
   "source": [
    "### Evaluation"
   ]
  },
  {
   "cell_type": "markdown",
   "id": "7b5556f8-c81b-4522-b7be-d847b6f20452",
   "metadata": {},
   "source": [
    "Although we may plot and print many metrics, we focus only on **Mean Squared Error (MSE).**"
   ]
  },
  {
   "cell_type": "markdown",
   "id": "89dc9acc-ad33-4df3-ac56-8ed3913ce16d",
   "metadata": {},
   "source": [
    "Plot training history."
   ]
  },
  {
   "cell_type": "code",
   "execution_count": 68,
   "id": "523cc6fc",
   "metadata": {},
   "outputs": [],
   "source": [
    "#%matplotlib ipympl\n",
    "%matplotlib inline\n",
    "import matplotlib.pyplot as plt\n",
    "from mpl_toolkits.mplot3d import Axes3D"
   ]
  },
  {
   "cell_type": "code",
   "execution_count": 69,
   "id": "347263a8-570e-4a04-bbae-3ea0662e4012",
   "metadata": {
    "tags": []
   },
   "outputs": [
    {
     "data": {
      "image/png": "[encoded data removed]",
      "text/plain": [
       "<Figure size 640x480 with 1 Axes>"
      ]
     },
     "metadata": {},
     "output_type": "display_data"
    }
   ],
   "source": [
    "plt.plot(history.history['loss'])\n",
    "plt.plot(history.history['val_loss'])\n",
    "plt.title('Model loss')\n",
    "plt.ylabel('Loss')\n",
    "plt.xlabel('Epoch')\n",
    "plt.legend(['Train', 'Validation'], loc='best')\n",
    "plt.show()"
   ]
  },
  {
   "cell_type": "code",
   "execution_count": 70,
   "id": "47150b9b",
   "metadata": {},
   "outputs": [
    {
     "data": {
      "image/png": "[encoded data removed]",
      "text/plain": [
       "<Figure size 640x480 with 1 Axes>"
      ]
     },
     "metadata": {},
     "output_type": "display_data"
    }
   ],
   "source": [
    "plt.plot(lr_monitor.learning_rates)\n",
    "plt.title(\"Learning Rate over Epochs\")\n",
    "plt.xlabel(\"Epoch\")\n",
    "plt.ylabel(\"Learning Rate\")\n",
    "plt.show()"
   ]
  },
  {
   "cell_type": "markdown",
   "id": "95a331d8-70ea-4ea4-8f5b-256472850784",
   "metadata": {},
   "source": [
    "Measure and print metrics."
   ]
  },
  {
   "cell_type": "code",
   "execution_count": 71,
   "id": "32ff7d16-5709-41d6-b3f7-e6c9a062b35c",
   "metadata": {
    "tags": []
   },
   "outputs": [
    {
     "name": "stdout",
     "output_type": "stream",
     "text": [
      "8/8 [==============================] - 0s 3ms/step - loss: 0.0236 - mean_squared_error: 0.0107\n",
      "[0.         0.         0.03940887 0.         0.         0.\n",
      " 0.         0.         0.         0.         1.         1.\n",
      " 1.         0.         1.         0.         0.         1.\n",
      " 0.         1.         0.         0.         0.         0.\n",
      " 1.         1.         0.         1.         0.         0.\n",
      " 0.         0.         0.         0.         0.         1.\n",
      " 0.         0.         1.         1.         0.         0.\n",
      " 0.         0.         0.        ]\n",
      "0.023636670783162117\n"
     ]
    }
   ],
   "source": [
    "test_loss_result = model.evaluate(np.asarray(X_test), np.asarray(y_test))[0]\n",
    "print(y_test[0])\n",
    "print(test_loss_result)"
   ]
  },
  {
   "cell_type": "code",
   "execution_count": 72,
   "id": "81b8b45c-9902-4edf-96e3-5b2fc8c8ce29",
   "metadata": {},
   "outputs": [
    {
     "name": "stdout",
     "output_type": "stream",
     "text": [
      "Current loss mean_squared_error: 0.023636670783162117\n"
     ]
    }
   ],
   "source": [
    "print('Current loss {}: {}'.format(TRAIN_LOSS, test_loss_result))"
   ]
  },
  {
   "cell_type": "markdown",
   "id": "be7812af-2596-44d2-bb25-68741e0506ba",
   "metadata": {},
   "source": [
    "## Compare predictions vs. test set"
   ]
  },
  {
   "cell_type": "code",
   "execution_count": 73,
   "id": "60157266",
   "metadata": {},
   "outputs": [
    {
     "data": {
      "text/html": [
       "<style type=\"text/css\">\n",
       "#T_dd9ec_row0_col5, #T_dd9ec_row1_col5, #T_dd9ec_row2_col5 {\n",
       "  color: red;\n",
       "}\n",
       "</style>\n",
       "<table id=\"T_dd9ec\">\n",
       "  <thead>\n",
       "    <tr>\n",
       "      <th class=\"blank level0\" >&nbsp;</th>\n",
       "      <th id=\"T_dd9ec_level0_col0\" class=\"col_heading level0 col0\" >data_param</th>\n",
       "      <th id=\"T_dd9ec_level0_col1\" class=\"col_heading level0 col1\" >data_augmentation</th>\n",
       "      <th id=\"T_dd9ec_level0_col2\" class=\"col_heading level0 col2\" >data_x_scaled</th>\n",
       "      <th id=\"T_dd9ec_level0_col3\" class=\"col_heading level0 col3\" > data_y_scaled</th>\n",
       "      <th id=\"T_dd9ec_level0_col4\" class=\"col_heading level0 col4\" >model_shape</th>\n",
       "      <th id=\"T_dd9ec_level0_col5\" class=\"col_heading level0 col5\" >test_loss</th>\n",
       "      <th id=\"T_dd9ec_level0_col6\" class=\"col_heading level0 col6\" >train_loss</th>\n",
       "      <th id=\"T_dd9ec_level0_col7\" class=\"col_heading level0 col7\" >train_dropout_rate</th>\n",
       "      <th id=\"T_dd9ec_level0_col8\" class=\"col_heading level0 col8\" >train_early_stop_patience</th>\n",
       "      <th id=\"T_dd9ec_level0_col9\" class=\"col_heading level0 col9\" >train_batch_size</th>\n",
       "      <th id=\"T_dd9ec_level0_col10\" class=\"col_heading level0 col10\" >train_val_split</th>\n",
       "      <th id=\"T_dd9ec_level0_col11\" class=\"col_heading level0 col11\" >lr_initial</th>\n",
       "      <th id=\"T_dd9ec_level0_col12\" class=\"col_heading level0 col12\" >lr_decay_step</th>\n",
       "      <th id=\"T_dd9ec_level0_col13\" class=\"col_heading level0 col13\" >lr_decay_rate</th>\n",
       "      <th id=\"T_dd9ec_level0_col14\" class=\"col_heading level0 col14\" >lr_stair_case</th>\n",
       "    </tr>\n",
       "  </thead>\n",
       "  <tbody>\n",
       "    <tr>\n",
       "      <th id=\"T_dd9ec_level0_row0\" class=\"row_heading level0 row0\" >0</th>\n",
       "      <td id=\"T_dd9ec_row0_col0\" class=\"data row0 col0\" >iv</td>\n",
       "      <td id=\"T_dd9ec_row0_col1\" class=\"data row0 col1\" >True</td>\n",
       "      <td id=\"T_dd9ec_row0_col2\" class=\"data row0 col2\" >mlp_2_3300_200_4600_1700_45</td>\n",
       "      <td id=\"T_dd9ec_row0_col3\" class=\"data row0 col3\" >0.023637</td>\n",
       "      <td id=\"T_dd9ec_row0_col4\" class=\"data row0 col4\" >mean_squared_error</td>\n",
       "      <td id=\"T_dd9ec_row0_col5\" class=\"data row0 col5\" >0.400000</td>\n",
       "      <td id=\"T_dd9ec_row0_col6\" class=\"data row0 col6\" >50</td>\n",
       "      <td id=\"T_dd9ec_row0_col7\" class=\"data row0 col7\" >32</td>\n",
       "      <td id=\"T_dd9ec_row0_col8\" class=\"data row0 col8\" >0.200000</td>\n",
       "      <td id=\"T_dd9ec_row0_col9\" class=\"data row0 col9\" >0.001456</td>\n",
       "      <td id=\"T_dd9ec_row0_col10\" class=\"data row0 col10\" >100</td>\n",
       "      <td id=\"T_dd9ec_row0_col11\" class=\"data row0 col11\" >0.990000</td>\n",
       "      <td id=\"T_dd9ec_row0_col12\" class=\"data row0 col12\" >False</td>\n",
       "      <td id=\"T_dd9ec_row0_col13\" class=\"data row0 col13\" >nan</td>\n",
       "      <td id=\"T_dd9ec_row0_col14\" class=\"data row0 col14\" >nan</td>\n",
       "    </tr>\n",
       "    <tr>\n",
       "      <th id=\"T_dd9ec_level0_row1\" class=\"row_heading level0 row1\" >1</th>\n",
       "      <td id=\"T_dd9ec_row1_col0\" class=\"data row1 col0\" >iv</td>\n",
       "      <td id=\"T_dd9ec_row1_col1\" class=\"data row1 col1\" >True</td>\n",
       "      <td id=\"T_dd9ec_row1_col2\" class=\"data row1 col2\" >mlp_2_3300_200_4600_1700_45</td>\n",
       "      <td id=\"T_dd9ec_row1_col3\" class=\"data row1 col3\" >0.023637</td>\n",
       "      <td id=\"T_dd9ec_row1_col4\" class=\"data row1 col4\" >mean_squared_error</td>\n",
       "      <td id=\"T_dd9ec_row1_col5\" class=\"data row1 col5\" >0.400000</td>\n",
       "      <td id=\"T_dd9ec_row1_col6\" class=\"data row1 col6\" >50</td>\n",
       "      <td id=\"T_dd9ec_row1_col7\" class=\"data row1 col7\" >32</td>\n",
       "      <td id=\"T_dd9ec_row1_col8\" class=\"data row1 col8\" >0.200000</td>\n",
       "      <td id=\"T_dd9ec_row1_col9\" class=\"data row1 col9\" >0.001456</td>\n",
       "      <td id=\"T_dd9ec_row1_col10\" class=\"data row1 col10\" >100</td>\n",
       "      <td id=\"T_dd9ec_row1_col11\" class=\"data row1 col11\" >0.990000</td>\n",
       "      <td id=\"T_dd9ec_row1_col12\" class=\"data row1 col12\" >False</td>\n",
       "      <td id=\"T_dd9ec_row1_col13\" class=\"data row1 col13\" >nan</td>\n",
       "      <td id=\"T_dd9ec_row1_col14\" class=\"data row1 col14\" >nan</td>\n",
       "    </tr>\n",
       "    <tr>\n",
       "      <th id=\"T_dd9ec_level0_row2\" class=\"row_heading level0 row2\" >2</th>\n",
       "      <td id=\"T_dd9ec_row2_col0\" class=\"data row2 col0\" >iv</td>\n",
       "      <td id=\"T_dd9ec_row2_col1\" class=\"data row2 col1\" >True</td>\n",
       "      <td id=\"T_dd9ec_row2_col2\" class=\"data row2 col2\" >mlp_2_3300_200_4600_1700_45</td>\n",
       "      <td id=\"T_dd9ec_row2_col3\" class=\"data row2 col3\" >0.023637</td>\n",
       "      <td id=\"T_dd9ec_row2_col4\" class=\"data row2 col4\" >mean_squared_error</td>\n",
       "      <td id=\"T_dd9ec_row2_col5\" class=\"data row2 col5\" >0.400000</td>\n",
       "      <td id=\"T_dd9ec_row2_col6\" class=\"data row2 col6\" >50</td>\n",
       "      <td id=\"T_dd9ec_row2_col7\" class=\"data row2 col7\" >32</td>\n",
       "      <td id=\"T_dd9ec_row2_col8\" class=\"data row2 col8\" >0.200000</td>\n",
       "      <td id=\"T_dd9ec_row2_col9\" class=\"data row2 col9\" >0.001456</td>\n",
       "      <td id=\"T_dd9ec_row2_col10\" class=\"data row2 col10\" >100</td>\n",
       "      <td id=\"T_dd9ec_row2_col11\" class=\"data row2 col11\" >0.990000</td>\n",
       "      <td id=\"T_dd9ec_row2_col12\" class=\"data row2 col12\" >False</td>\n",
       "      <td id=\"T_dd9ec_row2_col13\" class=\"data row2 col13\" >nan</td>\n",
       "      <td id=\"T_dd9ec_row2_col14\" class=\"data row2 col14\" >nan</td>\n",
       "    </tr>\n",
       "  </tbody>\n",
       "</table>\n"
      ],
      "text/plain": [
       "<pandas.io.formats.style.Styler at 0x7f681846c310>"
      ]
     },
     "metadata": {},
     "output_type": "display_data"
    }
   ],
   "source": [
    "import csv\n",
    "\n",
    "csv_data = [[\n",
    "    PARAM,\n",
    "    DATA_AUGMENTATION,\n",
    "    model_shape,\n",
    "    test_loss_result,\n",
    "    TRAIN_LOSS,\n",
    "    TRAIN_DROPOUT_RATE,\n",
    "    TRAIN_EARLY_STOPPING_PATIENCE,\n",
    "    TRAIN_BATCH_SIZE,\n",
    "    TRAIN_VALIDATION_SPLIT,\n",
    "    LR_INITIAL,\n",
    "    LR_DECAY_STEPS,\n",
    "    LR_DECAY_RATE,\n",
    "    LR_STAIRCASE\n",
    "    ]]\n",
    "\n",
    "csv_file = 'history_losses.csv'  #this doesnt reqrite this file so you need to delete this if you want something fresh\n",
    "\n",
    "if not os.path.exists(csv_file):\n",
    "    with open(csv_file, 'w') as file:\n",
    "        file.write('data_param,data_augmentation,data_x_scaled, data_y_scaled,model_shape,test_loss,train_loss,train_dropout_rate,train_early_stop_patience,train_batch_size,train_val_split,lr_initial,lr_decay_step,lr_decay_rate,lr_stair_case\\n')\n",
    "with open(csv_file, mode='a', newline='') as file:\n",
    "    writer = csv.writer(file)\n",
    "    writer.writerows(csv_data)\n",
    "\n",
    "# Convert data to DataFrame for easier display\n",
    "df = pd.read_csv(csv_file)\n",
    "\n",
    "def color_red_column(s):\n",
    "    return ['color: red' if v else '' for v in s]\n",
    "\n",
    "styled_df = df.style.apply(color_red_column, subset=['test_loss'])\n",
    "\n",
    "# Display the DataFrame as a table\n",
    "display(styled_df)\n",
    "#qgrid_widget = qgrid.show_grid(df, show_toolbar=True)"
   ]
  },
  {
   "cell_type": "code",
   "execution_count": 74,
   "id": "9ea88851-ed24-42d4-b36c-e79175af6847",
   "metadata": {
    "tags": []
   },
   "outputs": [
    {
     "name": "stdout",
     "output_type": "stream",
     "text": [
      "8/8 [==============================] - 0s 1ms/step\n"
     ]
    }
   ],
   "source": [
    "y_pred = model.predict(np.array(X_test))"
   ]
  },
  {
   "cell_type": "code",
   "execution_count": 75,
   "id": "a6ffa127-c6a4-4a52-8a29-4c08ae0cca3f",
   "metadata": {},
   "outputs": [
    {
     "name": "stdout",
     "output_type": "stream",
     "text": [
      "-------------------------Scaled predictions------------------\n",
      "---------------------- X Values: cavity_frequency:0.08030854795464834 \tkappa: 0.00020472148623845975-----------------------\n",
      "Param: design_options.claw_opts.connection_pads.readout.connector_location, Ref: 0.0, Pred: -0.00021775043569505215, Pow2Er: 4.741525224538504e-08, AbsEr: 0.00021775043569505215\n",
      "Param: design_options.claw_opts.connection_pads.readout.connector_type, Ref: 0.0, Pred: 0.0008092531934380531, Pow2Er: 4.741525224538504e-08, AbsEr: 0.00021775043569505215\n",
      "Param: design_options.claw_opts.connection_pads.readout.claw_length, Ref: 0.03940886699507393, Pred: 0.19638246297836304, Pow2Er: 0.0015702688090045238, AbsEr: 0.03962661743076898\n",
      "Param: design_options.claw_opts.connection_pads.readout.ground_spacing, Ref: 0.0, Pred: 0.02086625248193741, Pow2Er: 4.741525224538504e-08, AbsEr: 0.00021775043569505215\n",
      "Param: design_options.claw_opts.connection_pads.readout.claw_gap, Ref: 0.0, Pred: -0.00036349176662042737, Pow2Er: 4.741525224538504e-08, AbsEr: 0.00021775043569505215\n",
      "Param: design_options.claw_opts.connection_pads.readout.claw_width, Ref: 0.0, Pred: -4.3601030483841896e-05, Pow2Er: 4.741525224538504e-08, AbsEr: 0.00021775043569505215\n",
      "Param: design_options.claw_opts.connection_pads.readout.claw_cpw_width, Ref: 0.0, Pred: 0.00024014106020331383, Pow2Er: 4.741525224538504e-08, AbsEr: 0.00021775043569505215\n",
      "Param: design_options.claw_opts.connection_pads.readout.claw_cpw_length, Ref: 0.0, Pred: 9.217561455443501e-05, Pow2Er: 4.741525224538504e-08, AbsEr: 0.00021775043569505215\n",
      "Param: design_options.claw_opts.orientation, Ref: 0.0, Pred: -0.0004768674261868, Pow2Er: 4.741525224538504e-08, AbsEr: 0.00021775043569505215\n",
      "Param: design_options.claw_opts.pos_x, Ref: 0.0, Pred: 0.015235260128974915, Pow2Er: 4.741525224538504e-08, AbsEr: 0.00021775043569505215\n",
      "Param: design_options.claw_opts.cross_length, Ref: 1.0, Pred: 0.7795475721359253, Pow2Er: 1.0004355482866423, AbsEr: 1.000217750435695\n",
      "Param: design_options.claw_opts.cross_width, Ref: 1.0, Pred: 0.7797746658325195, Pow2Er: 1.0004355482866423, AbsEr: 1.000217750435695\n",
      "Param: design_options.claw_opts.cross_gap, Ref: 1.0, Pred: 0.7777382135391235, Pow2Er: 1.0004355482866423, AbsEr: 1.000217750435695\n",
      "Param: design_options.cpw_opts.fillet, Ref: 0.0, Pred: 0.0005262433551251888, Pow2Er: 4.741525224538504e-08, AbsEr: 0.00021775043569505215\n",
      "Param: design_options.cpw_opts.total_length, Ref: 1.0, Pred: 0.5549315810203552, Pow2Er: 1.0004355482866423, AbsEr: 1.000217750435695\n",
      "Param: design_options.cpw_opts.trace_width, Ref: 0.0, Pred: 0.0004922058433294296, Pow2Er: 4.741525224538504e-08, AbsEr: 0.00021775043569505215\n",
      "Param: design_options.cpw_opts.trace_gap, Ref: 0.0, Pred: 0.00032214843668043613, Pow2Er: 4.741525224538504e-08, AbsEr: 0.00021775043569505215\n",
      "Param: design_options.cpw_opts.lead.start_straight, Ref: 1.0, Pred: 0.9031838774681091, Pow2Er: 1.0004355482866423, AbsEr: 1.000217750435695\n",
      "Param: design_options.cpw_opts.meander.spacing, Ref: 0.0, Pred: 0.000678142299875617, Pow2Er: 4.741525224538504e-08, AbsEr: 0.00021775043569505215\n",
      "Param: design_options.cpw_opts.meander.asymmetry, Ref: 0.9999999999999999, Pred: 0.7783379554748535, Pow2Er: 1.0004355482866423, AbsEr: 1.000217750435695\n",
      "Param: design_options.cplr_opts.prime_width, Ref: 0.0, Pred: 0.00010272185318171978, Pow2Er: 4.741525224538504e-08, AbsEr: 0.00021775043569505215\n",
      "Param: design_options.cplr_opts.prime_gap, Ref: 0.0, Pred: -0.00013278576079756021, Pow2Er: 4.741525224538504e-08, AbsEr: 0.00021775043569505215\n",
      "Param: design_options.cplr_opts.second_width, Ref: 0.0, Pred: 0.00040799472481012344, Pow2Er: 4.741525224538504e-08, AbsEr: 0.00021775043569505215\n",
      "Param: design_options.cplr_opts.second_gap, Ref: 0.0, Pred: -0.0007886281237006187, Pow2Er: 4.741525224538504e-08, AbsEr: 0.00021775043569505215\n",
      "Param: design_options.cplr_opts.coupling_space, Ref: 1.0, Pred: 0.7795448303222656, Pow2Er: 1.0004355482866423, AbsEr: 1.000217750435695\n",
      "Param: design_options.cplr_opts.coupling_length, Ref: 0.9999999999999999, Pred: 0.7778575420379639, Pow2Er: 1.0004355482866423, AbsEr: 1.000217750435695\n",
      "Param: design_options.cplr_opts.open_termination, Ref: 0.0, Pred: 0.0005733658326789737, Pow2Er: 4.741525224538504e-08, AbsEr: 0.00021775043569505215\n",
      "Param: design_options.cplr_opts.down_length, Ref: 1.0, Pred: 0.7786202430725098, Pow2Er: 1.0004355482866423, AbsEr: 1.000217750435695\n",
      "Param: design_options.cplr_opts.orientation, Ref: 0.0, Pred: -0.000422915443778038, Pow2Er: 4.741525224538504e-08, AbsEr: 0.00021775043569505215\n",
      "Param: design_options.cpw_opts.lead.end_straight, Ref: 0.0, Pred: 0.08237525075674057, Pow2Er: 4.741525224538504e-08, AbsEr: 0.00021775043569505215\n",
      "Param: design_options.cpw_opts.lead.start_jogged_extension.0, Ref: 0.0, Pred: -0.0002799183130264282, Pow2Er: 4.741525224538504e-08, AbsEr: 0.00021775043569505215\n",
      "Param: design_options.cplr_opts.cap_gap, Ref: 0.0, Pred: 0.19914110004901886, Pow2Er: 4.741525224538504e-08, AbsEr: 0.00021775043569505215\n",
      "Param: design_options.cplr_opts.cap_width, Ref: 0.0, Pred: 0.20098307728767395, Pow2Er: 4.741525224538504e-08, AbsEr: 0.00021775043569505215\n",
      "Param: design_options.cplr_opts.cap_gap_ground, Ref: 0.0, Pred: 0.2008749544620514, Pow2Er: 4.741525224538504e-08, AbsEr: 0.00021775043569505215\n",
      "Param: design_options.cplr_opts.finger_length, Ref: 0.0, Pred: 0.200059711933136, Pow2Er: 4.741525224538504e-08, AbsEr: 0.00021775043569505215\n",
      "Param: design_options.cplr_opts.finger_count, Ref: 1.0, Pred: 0.779463529586792, Pow2Er: 1.0004355482866423, AbsEr: 1.000217750435695\n",
      "Param: design_options.cplr_opts.cap_distance, Ref: 0.0, Pred: 0.2007102519273758, Pow2Er: 4.741525224538504e-08, AbsEr: 0.00021775043569505215\n",
      "Param: coupler_type_CLT, Ref: 0.0, Pred: 0.20073144137859344, Pow2Er: 4.741525224538504e-08, AbsEr: 0.00021775043569505215\n",
      "Param: coupler_type_NCap, Ref: 1.0, Pred: 0.778877854347229, Pow2Er: 1.0004355482866423, AbsEr: 1.000217750435695\n",
      "Param: resonator_type_half, Ref: 1.0, Pred: 0.778444230556488, Pow2Er: 1.0004355482866423, AbsEr: 1.000217750435695\n",
      "Param: resonator_type_quarter, Ref: 0.0, Pred: 0.2018207609653473, Pow2Er: 4.741525224538504e-08, AbsEr: 0.00021775043569505215\n",
      "Param: design_options.cpw_opts.pin_inputs.start_pin.component_cplr, Ref: 0.0, Pred: -0.00039743585512042046, Pow2Er: 4.741525224538504e-08, AbsEr: 0.00021775043569505215\n",
      "Param: design_options.cpw_opts.pin_inputs.start_pin.pin_second_end, Ref: 0.0, Pred: -4.2520929127931595e-05, Pow2Er: 4.741525224538504e-08, AbsEr: 0.00021775043569505215\n",
      "Param: design_options.cpw_opts.pin_inputs.end_pin.component_claw, Ref: 0.0, Pred: -0.0005419598892331123, Pow2Er: 4.741525224538504e-08, AbsEr: 0.00021775043569505215\n",
      "Param: design_options.cpw_opts.pin_inputs.end_pin.pin_readout, Ref: 0.0, Pred: 0.0007751076482236385, Pow2Er: 4.741525224538504e-08, AbsEr: 0.00021775043569505215\n",
      "\n",
      "---------------------- X Values: cavity_frequency:0.05930934556706599 \tkappa: 0.024525391481888762-----------------------\n",
      "Param: design_options.claw_opts.connection_pads.readout.connector_location, Ref: 0.0, Pred: -0.0007106410339474678, Pow2Er: 5.050106791299261e-07, AbsEr: 0.0007106410339474678\n",
      "Param: design_options.claw_opts.connection_pads.readout.connector_type, Ref: 0.0, Pred: 0.0006130398251116276, Pow2Er: 5.050106791299261e-07, AbsEr: 0.0007106410339474678\n",
      "Param: design_options.claw_opts.connection_pads.readout.claw_length, Ref: 0.5714285714285715, Pred: 0.3850964903831482, Pow2Er: 0.32734327843723143, AbsEr: 0.572139212462519\n",
      "Param: design_options.claw_opts.connection_pads.readout.ground_spacing, Ref: 0.0, Pred: 0.08688893914222717, Pow2Er: 5.050106791299261e-07, AbsEr: 0.0007106410339474678\n",
      "Param: design_options.claw_opts.connection_pads.readout.claw_gap, Ref: 0.0, Pred: -0.0005457623046822846, Pow2Er: 5.050106791299261e-07, AbsEr: 0.0007106410339474678\n",
      "Param: design_options.claw_opts.connection_pads.readout.claw_width, Ref: 0.0, Pred: -7.616006769239902e-05, Pow2Er: 5.050106791299261e-07, AbsEr: 0.0007106410339474678\n",
      "Param: design_options.claw_opts.connection_pads.readout.claw_cpw_width, Ref: 0.0, Pred: 0.0008193342946469784, Pow2Er: 5.050106791299261e-07, AbsEr: 0.0007106410339474678\n",
      "Param: design_options.claw_opts.connection_pads.readout.claw_cpw_length, Ref: 0.0, Pred: 0.0002648730296641588, Pow2Er: 5.050106791299261e-07, AbsEr: 0.0007106410339474678\n",
      "Param: design_options.claw_opts.orientation, Ref: 0.0, Pred: 0.00019975146278738976, Pow2Er: 5.050106791299261e-07, AbsEr: 0.0007106410339474678\n",
      "Param: design_options.claw_opts.pos_x, Ref: 0.0, Pred: -0.0006260722875595093, Pow2Er: 5.050106791299261e-07, AbsEr: 0.0007106410339474678\n",
      "Param: design_options.claw_opts.cross_length, Ref: 0.0, Pred: 0.06830017268657684, Pow2Er: 5.050106791299261e-07, AbsEr: 0.0007106410339474678\n",
      "Param: design_options.claw_opts.cross_width, Ref: 0.0, Pred: 0.06649571657180786, Pow2Er: 5.050106791299261e-07, AbsEr: 0.0007106410339474678\n",
      "Param: design_options.claw_opts.cross_gap, Ref: 0.0, Pred: 0.06594565510749817, Pow2Er: 5.050106791299261e-07, AbsEr: 0.0007106410339474678\n",
      "Param: design_options.cpw_opts.fillet, Ref: 0.0, Pred: 0.00034904247149825096, Pow2Er: 5.050106791299261e-07, AbsEr: 0.0007106410339474678\n",
      "Param: design_options.cpw_opts.total_length, Ref: 0.3142857142857143, Pred: 0.33300191164016724, Pow2Er: 0.0992227038646706, AbsEr: 0.31499635531966175\n",
      "Param: design_options.cpw_opts.trace_width, Ref: 0.0, Pred: 0.0004159234231337905, Pow2Er: 5.050106791299261e-07, AbsEr: 0.0007106410339474678\n",
      "Param: design_options.cpw_opts.trace_gap, Ref: 0.0, Pred: 0.0002101389691233635, Pow2Er: 5.050106791299261e-07, AbsEr: 0.0007106410339474678\n",
      "Param: design_options.cpw_opts.lead.start_straight, Ref: 0.0, Pred: 0.6606643199920654, Pow2Er: 5.050106791299261e-07, AbsEr: 0.0007106410339474678\n",
      "Param: design_options.cpw_opts.meander.spacing, Ref: 0.0, Pred: 0.0009186391835100949, Pow2Er: 5.050106791299261e-07, AbsEr: 0.0007106410339474678\n",
      "Param: design_options.cpw_opts.meander.asymmetry, Ref: 0.00019995001249687575, Pred: 0.06626775860786438, Pow2Er: 8.291760538646046e-07, AbsEr: 0.0009105910464443436\n",
      "Param: design_options.cplr_opts.prime_width, Ref: 0.0, Pred: -3.546057268977165e-05, Pow2Er: 5.050106791299261e-07, AbsEr: 0.0007106410339474678\n",
      "Param: design_options.cplr_opts.prime_gap, Ref: 0.0, Pred: -0.00016465212684124708, Pow2Er: 5.050106791299261e-07, AbsEr: 0.0007106410339474678\n",
      "Param: design_options.cplr_opts.second_width, Ref: 0.0, Pred: 0.00031268876045942307, Pow2Er: 5.050106791299261e-07, AbsEr: 0.0007106410339474678\n",
      "Param: design_options.cplr_opts.second_gap, Ref: 0.0, Pred: -0.0001905818935483694, Pow2Er: 5.050106791299261e-07, AbsEr: 0.0007106410339474678\n",
      "Param: design_options.cplr_opts.coupling_space, Ref: 0.0, Pred: 0.06745977699756622, Pow2Er: 5.050106791299261e-07, AbsEr: 0.0007106410339474678\n",
      "Param: design_options.cplr_opts.coupling_length, Ref: 0.0, Pred: 0.06583213806152344, Pow2Er: 5.050106791299261e-07, AbsEr: 0.0007106410339474678\n",
      "Param: design_options.cplr_opts.open_termination, Ref: 0.0, Pred: 0.0007076974143274128, Pow2Er: 5.050106791299261e-07, AbsEr: 0.0007106410339474678\n",
      "Param: design_options.cplr_opts.down_length, Ref: 0.0, Pred: 0.06655222922563553, Pow2Er: 5.050106791299261e-07, AbsEr: 0.0007106410339474678\n",
      "Param: design_options.cplr_opts.orientation, Ref: 0.0, Pred: -0.00044290232472121716, Pow2Er: 5.050106791299261e-07, AbsEr: 0.0007106410339474678\n",
      "Param: design_options.cpw_opts.lead.end_straight, Ref: 1.0, Pred: 0.3075140118598938, Pow2Er: 1.001421787078574, AbsEr: 1.0007106410339475\n",
      "Param: design_options.cpw_opts.lead.start_jogged_extension.0, Ref: 0.0, Pred: -0.00038336776196956635, Pow2Er: 5.050106791299261e-07, AbsEr: 0.0007106410339474678\n",
      "Param: design_options.cplr_opts.cap_gap, Ref: 1.0000000000000002, Pred: 0.8990027904510498, Pow2Er: 1.0014217870785744, AbsEr: 1.0007106410339477\n",
      "Param: design_options.cplr_opts.cap_width, Ref: 1.0, Pred: 0.9009170532226562, Pow2Er: 1.001421787078574, AbsEr: 1.0007106410339475\n",
      "Param: design_options.cplr_opts.cap_gap_ground, Ref: 1.0, Pred: 0.9002976417541504, Pow2Er: 1.001421787078574, AbsEr: 1.0007106410339475\n",
      "Param: design_options.cplr_opts.finger_length, Ref: 0.9999999999999999, Pred: 0.8993759751319885, Pow2Er: 1.001421787078574, AbsEr: 1.0007106410339475\n",
      "Param: design_options.cplr_opts.finger_count, Ref: 0.0, Pred: 0.06721130013465881, Pow2Er: 5.050106791299261e-07, AbsEr: 0.0007106410339474678\n",
      "Param: design_options.cplr_opts.cap_distance, Ref: 1.0, Pred: 0.9008921384811401, Pow2Er: 1.001421787078574, AbsEr: 1.0007106410339475\n",
      "Param: coupler_type_CLT, Ref: 1.0, Pred: 0.9014038443565369, Pow2Er: 1.001421787078574, AbsEr: 1.0007106410339475\n",
      "Param: coupler_type_NCap, Ref: 0.0, Pred: 0.06699677556753159, Pow2Er: 5.050106791299261e-07, AbsEr: 0.0007106410339474678\n",
      "Param: resonator_type_half, Ref: 0.0, Pred: 0.06638604402542114, Pow2Er: 5.050106791299261e-07, AbsEr: 0.0007106410339474678\n",
      "Param: resonator_type_quarter, Ref: 1.0, Pred: 0.9013813734054565, Pow2Er: 1.001421787078574, AbsEr: 1.0007106410339475\n",
      "Param: design_options.cpw_opts.pin_inputs.start_pin.component_cplr, Ref: 0.0, Pred: -0.0001970382872968912, Pow2Er: 5.050106791299261e-07, AbsEr: 0.0007106410339474678\n",
      "Param: design_options.cpw_opts.pin_inputs.start_pin.pin_second_end, Ref: 0.0, Pred: -0.00030294223688542843, Pow2Er: 5.050106791299261e-07, AbsEr: 0.0007106410339474678\n",
      "Param: design_options.cpw_opts.pin_inputs.end_pin.component_claw, Ref: 0.0, Pred: -0.0003703036345541477, Pow2Er: 5.050106791299261e-07, AbsEr: 0.0007106410339474678\n",
      "Param: design_options.cpw_opts.pin_inputs.end_pin.pin_readout, Ref: 0.0, Pred: 0.0007964700344018638, Pow2Er: 5.050106791299261e-07, AbsEr: 0.0007106410339474678\n",
      "\n"
     ]
    }
   ],
   "source": [
    "filename = 'y_characteristics.csv'\n",
    "with open(filename, 'r') as f:\n",
    "            headers_string = f.readline().strip()  # Read the first line (headers) and remove whitespace\n",
    "            headers = headers_string.split(',') \n",
    "#print(headers)\n",
    "\n",
    "pow2_errors = [(y_test[i]-y_pred[i][0])**2 for i in range(len(y_pred))]\n",
    "abs_errors = [abs(y_test[i]-y_pred[i][0]) for i in range(len(y_pred))]\n",
    "\n",
    "print('-------------------------Scaled predictions------------------')\n",
    "min=1\n",
    "for i in range(2): \n",
    "    if abs_errors[i].any()<min: \n",
    "        min = abs_errors[i]\n",
    "    print(f\"---------------------- X Values: cavity_frequency:{X_test[i][0]} \tkappa: {X_test[i][1]}-----------------------\")\n",
    "    for l in range(len(y_test[i])):\n",
    "        print('Param: {}, Ref: {}, Pred: {}, Pow2Er: {}, AbsEr: {}'.format(headers[l],y_test[i][l], y_pred[i][l], pow2_errors[i][l], abs_errors[i][l]))\n",
    "    print(\"\")"
   ]
  },
  {
   "cell_type": "markdown",
   "id": "05b00cc9-1b19-4252-90b3-b64457a4b973",
   "metadata": {},
   "source": []
  },
  {
   "cell_type": "markdown",
   "id": "53b7d40d-4c4a-40bb-add9-a5460b90ab0c",
   "metadata": {},
   "source": []
  },
  {
   "cell_type": "markdown",
   "id": "5304c67f-9838-491f-869c-e51d86748217",
   "metadata": {},
   "source": [
    "### Unscaled test vs predictions"
   ]
  },
  {
   "cell_type": "code",
   "execution_count": null,
   "id": "0e05f774-e63a-4325-86eb-c091a1c286d5",
   "metadata": {},
   "outputs": [],
   "source": [
    "X_orig = X_scaled.copy()\n",
    "for col in X_scaled.columns:\n",
    "    scaler = joblib.load(f'scalers/scaler_X_{col}.save')\n",
    "    X_orig[col] = scaler.inverse_transform(X_scaled[[col]]) \n",
    "\n",
    "display(X_orig)"
   ]
  },
  {
   "cell_type": "code",
   "execution_count": 76,
   "id": "d907324d-19c6-4111-a79a-2637bf3fa734",
   "metadata": {},
   "outputs": [
    {
     "name": "stdout",
     "output_type": "stream",
     "text": [
      "-------------------------Scaled predictions------------------\n",
      "---------------------- X Values: cavity_frequency:0.08030854795464834 \tkappa: 0.00020472148623845975-----------------------\n",
      "Param: design_options.claw_opts.connection_pads.readout.connector_location, Ref: 0.0, Pred: -0.00021775043569505215, Pow2Er: 4.741525224538504e-08, AbsEr: 0.00021775043569505215\n",
      "Param: design_options.claw_opts.connection_pads.readout.connector_type, Ref: 0.0, Pred: 0.0008092531934380531, Pow2Er: 4.741525224538504e-08, AbsEr: 0.00021775043569505215\n",
      "Param: design_options.claw_opts.connection_pads.readout.claw_length, Ref: 0.03940886699507393, Pred: 0.19638246297836304, Pow2Er: 0.0015702688090045238, AbsEr: 0.03962661743076898\n",
      "Param: design_options.claw_opts.connection_pads.readout.ground_spacing, Ref: 0.0, Pred: 0.02086625248193741, Pow2Er: 4.741525224538504e-08, AbsEr: 0.00021775043569505215\n",
      "Param: design_options.claw_opts.connection_pads.readout.claw_gap, Ref: 0.0, Pred: -0.00036349176662042737, Pow2Er: 4.741525224538504e-08, AbsEr: 0.00021775043569505215\n",
      "Param: design_options.claw_opts.connection_pads.readout.claw_width, Ref: 0.0, Pred: -4.3601030483841896e-05, Pow2Er: 4.741525224538504e-08, AbsEr: 0.00021775043569505215\n",
      "Param: design_options.claw_opts.connection_pads.readout.claw_cpw_width, Ref: 0.0, Pred: 0.00024014106020331383, Pow2Er: 4.741525224538504e-08, AbsEr: 0.00021775043569505215\n",
      "Param: design_options.claw_opts.connection_pads.readout.claw_cpw_length, Ref: 0.0, Pred: 9.217561455443501e-05, Pow2Er: 4.741525224538504e-08, AbsEr: 0.00021775043569505215\n",
      "Param: design_options.claw_opts.orientation, Ref: 0.0, Pred: -0.0004768674261868, Pow2Er: 4.741525224538504e-08, AbsEr: 0.00021775043569505215\n",
      "Param: design_options.claw_opts.pos_x, Ref: 0.0, Pred: 0.015235260128974915, Pow2Er: 4.741525224538504e-08, AbsEr: 0.00021775043569505215\n",
      "Param: design_options.claw_opts.cross_length, Ref: 1.0, Pred: 0.7795475721359253, Pow2Er: 1.0004355482866423, AbsEr: 1.000217750435695\n",
      "Param: design_options.claw_opts.cross_width, Ref: 1.0, Pred: 0.7797746658325195, Pow2Er: 1.0004355482866423, AbsEr: 1.000217750435695\n",
      "Param: design_options.claw_opts.cross_gap, Ref: 1.0, Pred: 0.7777382135391235, Pow2Er: 1.0004355482866423, AbsEr: 1.000217750435695\n",
      "Param: design_options.cpw_opts.fillet, Ref: 0.0, Pred: 0.0005262433551251888, Pow2Er: 4.741525224538504e-08, AbsEr: 0.00021775043569505215\n",
      "Param: design_options.cpw_opts.total_length, Ref: 1.0, Pred: 0.5549315810203552, Pow2Er: 1.0004355482866423, AbsEr: 1.000217750435695\n",
      "Param: design_options.cpw_opts.trace_width, Ref: 0.0, Pred: 0.0004922058433294296, Pow2Er: 4.741525224538504e-08, AbsEr: 0.00021775043569505215\n",
      "Param: design_options.cpw_opts.trace_gap, Ref: 0.0, Pred: 0.00032214843668043613, Pow2Er: 4.741525224538504e-08, AbsEr: 0.00021775043569505215\n",
      "Param: design_options.cpw_opts.lead.start_straight, Ref: 1.0, Pred: 0.9031838774681091, Pow2Er: 1.0004355482866423, AbsEr: 1.000217750435695\n",
      "Param: design_options.cpw_opts.meander.spacing, Ref: 0.0, Pred: 0.000678142299875617, Pow2Er: 4.741525224538504e-08, AbsEr: 0.00021775043569505215\n",
      "Param: design_options.cpw_opts.meander.asymmetry, Ref: 0.9999999999999999, Pred: 0.7783379554748535, Pow2Er: 1.0004355482866423, AbsEr: 1.000217750435695\n",
      "Param: design_options.cplr_opts.prime_width, Ref: 0.0, Pred: 0.00010272185318171978, Pow2Er: 4.741525224538504e-08, AbsEr: 0.00021775043569505215\n",
      "Param: design_options.cplr_opts.prime_gap, Ref: 0.0, Pred: -0.00013278576079756021, Pow2Er: 4.741525224538504e-08, AbsEr: 0.00021775043569505215\n",
      "Param: design_options.cplr_opts.second_width, Ref: 0.0, Pred: 0.00040799472481012344, Pow2Er: 4.741525224538504e-08, AbsEr: 0.00021775043569505215\n",
      "Param: design_options.cplr_opts.second_gap, Ref: 0.0, Pred: -0.0007886281237006187, Pow2Er: 4.741525224538504e-08, AbsEr: 0.00021775043569505215\n",
      "Param: design_options.cplr_opts.coupling_space, Ref: 1.0, Pred: 0.7795448303222656, Pow2Er: 1.0004355482866423, AbsEr: 1.000217750435695\n",
      "Param: design_options.cplr_opts.coupling_length, Ref: 0.9999999999999999, Pred: 0.7778575420379639, Pow2Er: 1.0004355482866423, AbsEr: 1.000217750435695\n",
      "Param: design_options.cplr_opts.open_termination, Ref: 0.0, Pred: 0.0005733658326789737, Pow2Er: 4.741525224538504e-08, AbsEr: 0.00021775043569505215\n",
      "Param: design_options.cplr_opts.down_length, Ref: 1.0, Pred: 0.7786202430725098, Pow2Er: 1.0004355482866423, AbsEr: 1.000217750435695\n",
      "Param: design_options.cplr_opts.orientation, Ref: 0.0, Pred: -0.000422915443778038, Pow2Er: 4.741525224538504e-08, AbsEr: 0.00021775043569505215\n",
      "Param: design_options.cpw_opts.lead.end_straight, Ref: 0.0, Pred: 0.08237525075674057, Pow2Er: 4.741525224538504e-08, AbsEr: 0.00021775043569505215\n",
      "Param: design_options.cpw_opts.lead.start_jogged_extension.0, Ref: 0.0, Pred: -0.0002799183130264282, Pow2Er: 4.741525224538504e-08, AbsEr: 0.00021775043569505215\n",
      "Param: design_options.cplr_opts.cap_gap, Ref: 0.0, Pred: 0.19914110004901886, Pow2Er: 4.741525224538504e-08, AbsEr: 0.00021775043569505215\n",
      "Param: design_options.cplr_opts.cap_width, Ref: 0.0, Pred: 0.20098307728767395, Pow2Er: 4.741525224538504e-08, AbsEr: 0.00021775043569505215\n",
      "Param: design_options.cplr_opts.cap_gap_ground, Ref: 0.0, Pred: 0.2008749544620514, Pow2Er: 4.741525224538504e-08, AbsEr: 0.00021775043569505215\n",
      "Param: design_options.cplr_opts.finger_length, Ref: 0.0, Pred: 0.200059711933136, Pow2Er: 4.741525224538504e-08, AbsEr: 0.00021775043569505215\n",
      "Param: design_options.cplr_opts.finger_count, Ref: 1.0, Pred: 0.779463529586792, Pow2Er: 1.0004355482866423, AbsEr: 1.000217750435695\n",
      "Param: design_options.cplr_opts.cap_distance, Ref: 0.0, Pred: 0.2007102519273758, Pow2Er: 4.741525224538504e-08, AbsEr: 0.00021775043569505215\n",
      "Param: coupler_type_CLT, Ref: 0.0, Pred: 0.20073144137859344, Pow2Er: 4.741525224538504e-08, AbsEr: 0.00021775043569505215\n",
      "Param: coupler_type_NCap, Ref: 1.0, Pred: 0.778877854347229, Pow2Er: 1.0004355482866423, AbsEr: 1.000217750435695\n",
      "Param: resonator_type_half, Ref: 1.0, Pred: 0.778444230556488, Pow2Er: 1.0004355482866423, AbsEr: 1.000217750435695\n",
      "Param: resonator_type_quarter, Ref: 0.0, Pred: 0.2018207609653473, Pow2Er: 4.741525224538504e-08, AbsEr: 0.00021775043569505215\n",
      "Param: design_options.cpw_opts.pin_inputs.start_pin.component_cplr, Ref: 0.0, Pred: -0.00039743585512042046, Pow2Er: 4.741525224538504e-08, AbsEr: 0.00021775043569505215\n",
      "Param: design_options.cpw_opts.pin_inputs.start_pin.pin_second_end, Ref: 0.0, Pred: -4.2520929127931595e-05, Pow2Er: 4.741525224538504e-08, AbsEr: 0.00021775043569505215\n",
      "Param: design_options.cpw_opts.pin_inputs.end_pin.component_claw, Ref: 0.0, Pred: -0.0005419598892331123, Pow2Er: 4.741525224538504e-08, AbsEr: 0.00021775043569505215\n",
      "Param: design_options.cpw_opts.pin_inputs.end_pin.pin_readout, Ref: 0.0, Pred: 0.0007751076482236385, Pow2Er: 4.741525224538504e-08, AbsEr: 0.00021775043569505215\n",
      "\n",
      "---------------------- X Values: cavity_frequency:0.05930934556706599 \tkappa: 0.024525391481888762-----------------------\n",
      "Param: design_options.claw_opts.connection_pads.readout.connector_location, Ref: 0.0, Pred: -0.0007106410339474678, Pow2Er: 5.050106791299261e-07, AbsEr: 0.0007106410339474678\n",
      "Param: design_options.claw_opts.connection_pads.readout.connector_type, Ref: 0.0, Pred: 0.0006130398251116276, Pow2Er: 5.050106791299261e-07, AbsEr: 0.0007106410339474678\n",
      "Param: design_options.claw_opts.connection_pads.readout.claw_length, Ref: 0.5714285714285715, Pred: 0.3850964903831482, Pow2Er: 0.32734327843723143, AbsEr: 0.572139212462519\n",
      "Param: design_options.claw_opts.connection_pads.readout.ground_spacing, Ref: 0.0, Pred: 0.08688893914222717, Pow2Er: 5.050106791299261e-07, AbsEr: 0.0007106410339474678\n",
      "Param: design_options.claw_opts.connection_pads.readout.claw_gap, Ref: 0.0, Pred: -0.0005457623046822846, Pow2Er: 5.050106791299261e-07, AbsEr: 0.0007106410339474678\n",
      "Param: design_options.claw_opts.connection_pads.readout.claw_width, Ref: 0.0, Pred: -7.616006769239902e-05, Pow2Er: 5.050106791299261e-07, AbsEr: 0.0007106410339474678\n",
      "Param: design_options.claw_opts.connection_pads.readout.claw_cpw_width, Ref: 0.0, Pred: 0.0008193342946469784, Pow2Er: 5.050106791299261e-07, AbsEr: 0.0007106410339474678\n",
      "Param: design_options.claw_opts.connection_pads.readout.claw_cpw_length, Ref: 0.0, Pred: 0.0002648730296641588, Pow2Er: 5.050106791299261e-07, AbsEr: 0.0007106410339474678\n",
      "Param: design_options.claw_opts.orientation, Ref: 0.0, Pred: 0.00019975146278738976, Pow2Er: 5.050106791299261e-07, AbsEr: 0.0007106410339474678\n",
      "Param: design_options.claw_opts.pos_x, Ref: 0.0, Pred: -0.0006260722875595093, Pow2Er: 5.050106791299261e-07, AbsEr: 0.0007106410339474678\n",
      "Param: design_options.claw_opts.cross_length, Ref: 0.0, Pred: 0.06830017268657684, Pow2Er: 5.050106791299261e-07, AbsEr: 0.0007106410339474678\n",
      "Param: design_options.claw_opts.cross_width, Ref: 0.0, Pred: 0.06649571657180786, Pow2Er: 5.050106791299261e-07, AbsEr: 0.0007106410339474678\n",
      "Param: design_options.claw_opts.cross_gap, Ref: 0.0, Pred: 0.06594565510749817, Pow2Er: 5.050106791299261e-07, AbsEr: 0.0007106410339474678\n",
      "Param: design_options.cpw_opts.fillet, Ref: 0.0, Pred: 0.00034904247149825096, Pow2Er: 5.050106791299261e-07, AbsEr: 0.0007106410339474678\n",
      "Param: design_options.cpw_opts.total_length, Ref: 0.3142857142857143, Pred: 0.33300191164016724, Pow2Er: 0.0992227038646706, AbsEr: 0.31499635531966175\n",
      "Param: design_options.cpw_opts.trace_width, Ref: 0.0, Pred: 0.0004159234231337905, Pow2Er: 5.050106791299261e-07, AbsEr: 0.0007106410339474678\n",
      "Param: design_options.cpw_opts.trace_gap, Ref: 0.0, Pred: 0.0002101389691233635, Pow2Er: 5.050106791299261e-07, AbsEr: 0.0007106410339474678\n",
      "Param: design_options.cpw_opts.lead.start_straight, Ref: 0.0, Pred: 0.6606643199920654, Pow2Er: 5.050106791299261e-07, AbsEr: 0.0007106410339474678\n",
      "Param: design_options.cpw_opts.meander.spacing, Ref: 0.0, Pred: 0.0009186391835100949, Pow2Er: 5.050106791299261e-07, AbsEr: 0.0007106410339474678\n",
      "Param: design_options.cpw_opts.meander.asymmetry, Ref: 0.00019995001249687575, Pred: 0.06626775860786438, Pow2Er: 8.291760538646046e-07, AbsEr: 0.0009105910464443436\n",
      "Param: design_options.cplr_opts.prime_width, Ref: 0.0, Pred: -3.546057268977165e-05, Pow2Er: 5.050106791299261e-07, AbsEr: 0.0007106410339474678\n",
      "Param: design_options.cplr_opts.prime_gap, Ref: 0.0, Pred: -0.00016465212684124708, Pow2Er: 5.050106791299261e-07, AbsEr: 0.0007106410339474678\n",
      "Param: design_options.cplr_opts.second_width, Ref: 0.0, Pred: 0.00031268876045942307, Pow2Er: 5.050106791299261e-07, AbsEr: 0.0007106410339474678\n",
      "Param: design_options.cplr_opts.second_gap, Ref: 0.0, Pred: -0.0001905818935483694, Pow2Er: 5.050106791299261e-07, AbsEr: 0.0007106410339474678\n",
      "Param: design_options.cplr_opts.coupling_space, Ref: 0.0, Pred: 0.06745977699756622, Pow2Er: 5.050106791299261e-07, AbsEr: 0.0007106410339474678\n",
      "Param: design_options.cplr_opts.coupling_length, Ref: 0.0, Pred: 0.06583213806152344, Pow2Er: 5.050106791299261e-07, AbsEr: 0.0007106410339474678\n",
      "Param: design_options.cplr_opts.open_termination, Ref: 0.0, Pred: 0.0007076974143274128, Pow2Er: 5.050106791299261e-07, AbsEr: 0.0007106410339474678\n",
      "Param: design_options.cplr_opts.down_length, Ref: 0.0, Pred: 0.06655222922563553, Pow2Er: 5.050106791299261e-07, AbsEr: 0.0007106410339474678\n",
      "Param: design_options.cplr_opts.orientation, Ref: 0.0, Pred: -0.00044290232472121716, Pow2Er: 5.050106791299261e-07, AbsEr: 0.0007106410339474678\n",
      "Param: design_options.cpw_opts.lead.end_straight, Ref: 1.0, Pred: 0.3075140118598938, Pow2Er: 1.001421787078574, AbsEr: 1.0007106410339475\n",
      "Param: design_options.cpw_opts.lead.start_jogged_extension.0, Ref: 0.0, Pred: -0.00038336776196956635, Pow2Er: 5.050106791299261e-07, AbsEr: 0.0007106410339474678\n",
      "Param: design_options.cplr_opts.cap_gap, Ref: 1.0000000000000002, Pred: 0.8990027904510498, Pow2Er: 1.0014217870785744, AbsEr: 1.0007106410339477\n",
      "Param: design_options.cplr_opts.cap_width, Ref: 1.0, Pred: 0.9009170532226562, Pow2Er: 1.001421787078574, AbsEr: 1.0007106410339475\n",
      "Param: design_options.cplr_opts.cap_gap_ground, Ref: 1.0, Pred: 0.9002976417541504, Pow2Er: 1.001421787078574, AbsEr: 1.0007106410339475\n",
      "Param: design_options.cplr_opts.finger_length, Ref: 0.9999999999999999, Pred: 0.8993759751319885, Pow2Er: 1.001421787078574, AbsEr: 1.0007106410339475\n",
      "Param: design_options.cplr_opts.finger_count, Ref: 0.0, Pred: 0.06721130013465881, Pow2Er: 5.050106791299261e-07, AbsEr: 0.0007106410339474678\n",
      "Param: design_options.cplr_opts.cap_distance, Ref: 1.0, Pred: 0.9008921384811401, Pow2Er: 1.001421787078574, AbsEr: 1.0007106410339475\n",
      "Param: coupler_type_CLT, Ref: 1.0, Pred: 0.9014038443565369, Pow2Er: 1.001421787078574, AbsEr: 1.0007106410339475\n",
      "Param: coupler_type_NCap, Ref: 0.0, Pred: 0.06699677556753159, Pow2Er: 5.050106791299261e-07, AbsEr: 0.0007106410339474678\n",
      "Param: resonator_type_half, Ref: 0.0, Pred: 0.06638604402542114, Pow2Er: 5.050106791299261e-07, AbsEr: 0.0007106410339474678\n",
      "Param: resonator_type_quarter, Ref: 1.0, Pred: 0.9013813734054565, Pow2Er: 1.001421787078574, AbsEr: 1.0007106410339475\n",
      "Param: design_options.cpw_opts.pin_inputs.start_pin.component_cplr, Ref: 0.0, Pred: -0.0001970382872968912, Pow2Er: 5.050106791299261e-07, AbsEr: 0.0007106410339474678\n",
      "Param: design_options.cpw_opts.pin_inputs.start_pin.pin_second_end, Ref: 0.0, Pred: -0.00030294223688542843, Pow2Er: 5.050106791299261e-07, AbsEr: 0.0007106410339474678\n",
      "Param: design_options.cpw_opts.pin_inputs.end_pin.component_claw, Ref: 0.0, Pred: -0.0003703036345541477, Pow2Er: 5.050106791299261e-07, AbsEr: 0.0007106410339474678\n",
      "Param: design_options.cpw_opts.pin_inputs.end_pin.pin_readout, Ref: 0.0, Pred: 0.0007964700344018638, Pow2Er: 5.050106791299261e-07, AbsEr: 0.0007106410339474678\n",
      "\n"
     ]
    }
   ],
   "source": [
    "\n",
    "\n",
    "print('-------------------------Scaled predictions------------------')\n",
    "min=1\n",
    "for i in range(2): \n",
    "    if abs_errors[i].any()<min: \n",
    "        min = abs_errors[i]\n",
    "    print(f\"---------------------- X Values: cavity_frequency:{X_test[i][0]} \tkappa: {X_test[i][1]}-----------------------\")\n",
    "    for l in range(len(y_test[i])):\n",
    "        print('Param: {}, Ref: {}, Pred: {}, Pow2Er: {}, AbsEr: {}'.format(headers[l],y_test[i][l], y_pred[i][l], pow2_errors[i][l], abs_errors[i][l]))\n",
    "    print(\"\")"
   ]
  },
  {
   "cell_type": "code",
   "execution_count": null,
   "id": "dc4de5f4-1ea1-4a0f-be8a-792d96fcf891",
   "metadata": {},
   "outputs": [],
   "source": []
  },
  {
   "cell_type": "code",
   "execution_count": null,
   "id": "89ec484e-c04b-4570-9f2b-76f013a459a4",
   "metadata": {},
   "outputs": [],
   "source": []
  }
 ],
 "metadata": {
  "kernelspec": {
   "display_name": "Python 3 (ipykernel)",
   "language": "python",
   "name": "python3"
  },
  "language_info": {
   "codemirror_mode": {
    "name": "ipython",
    "version": 3
   },
   "file_extension": ".py",
   "mimetype": "text/x-python",
   "name": "python",
   "nbconvert_exporter": "python",
   "pygments_lexer": "ipython3",
   "version": "3.10.15"
  }
 },
 "nbformat": 4,
 "nbformat_minor": 5
}
