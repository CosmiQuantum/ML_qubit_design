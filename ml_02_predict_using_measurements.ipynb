{
 "cells": [
  {
   "cell_type": "markdown",
   "id": "e327a47a-0b51-4cc3-a4ed-0468f3c7e035",
   "metadata": {},
   "source": [
    "# Predict"
   ]
  },
  {
   "cell_type": "markdown",
   "id": "ff58b86b-882b-4ef7-b0bb-6b6255edbbed",
   "metadata": {},
   "source": [
    "### Load Model"
   ]
  },
  {
   "cell_type": "code",
   "execution_count": 1,
   "id": "49d0715e-90c2-4e0f-9ad3-7d6d124dd984",
   "metadata": {},
   "outputs": [
    {
     "name": "stderr",
     "output_type": "stream",
     "text": [
      "2024-10-14 23:40:06.179303: E tensorflow/compiler/xla/stream_executor/cuda/cuda_dnn.cc:9342] Unable to register cuDNN factory: Attempting to register factory for plugin cuDNN when one has already been registered\n",
      "2024-10-14 23:40:06.179394: E tensorflow/compiler/xla/stream_executor/cuda/cuda_fft.cc:609] Unable to register cuFFT factory: Attempting to register factory for plugin cuFFT when one has already been registered\n",
      "2024-10-14 23:40:06.179402: E tensorflow/compiler/xla/stream_executor/cuda/cuda_blas.cc:1518] Unable to register cuBLAS factory: Attempting to register factory for plugin cuBLAS when one has already been registered\n"
     ]
    }
   ],
   "source": [
    "import os\n",
    "from parameters import *\n",
    "os.environ['TF_CPP_MIN_LOG_LEVEL'] = '2'\n",
    "from tensorflow.keras.models import load_model"
   ]
  },
  {
   "cell_type": "code",
   "execution_count": 2,
   "id": "5fe307e6-fb13-48d4-8e6e-0c62721faf58",
   "metadata": {},
   "outputs": [],
   "source": [
    "if KERAS_TUNER: \n",
    "    best_model_file = 'model/best_keras_model.h5'\n",
    "else:\n",
    "    # Define shape based on parameters file neurons\n",
    "    model_shape = 'mlp_602_'\n",
    "    model_shape += '_'.join(str(l) for l in NEURONS_PER_LAYER)\n",
    "    model_shape += '_10'\n",
    "\n",
    "    best_model_file = 'model/{}_best_model.h5'.format(model_shape)\n",
    "                                                       "
   ]
  },
  {
   "cell_type": "code",
   "execution_count": 3,
   "id": "cb10ff3e-bccc-4787-aab1-e7c1cc08d31a",
   "metadata": {},
   "outputs": [
    {
     "name": "stdout",
     "output_type": "stream",
     "text": [
      "model/mlp_602_3700_4500_4900_10_best_model.h5\n"
     ]
    }
   ],
   "source": [
    "print(best_model_file)"
   ]
  },
  {
   "cell_type": "code",
   "execution_count": 4,
   "id": "ccf0bb8e-a585-47d9-aa59-3ef1b955411b",
   "metadata": {},
   "outputs": [],
   "source": [
    "# Load the best model that we have saved from previous script\n",
    "model = load_model(best_model_file)"
   ]
  },
  {
   "cell_type": "markdown",
   "id": "b2ba3022-a7bb-4bd8-be68-f77a59f2afbe",
   "metadata": {},
   "source": [
    "## Process Measurements"
   ]
  },
  {
   "cell_type": "markdown",
   "id": "2bca11e4-01a8-442c-a94b-b717f04a71b1",
   "metadata": {},
   "source": [
    "### Load data"
   ]
  },
  {
   "cell_type": "code",
   "execution_count": 5,
   "id": "8723a211-d6b4-415a-9c06-46452043a034",
   "metadata": {},
   "outputs": [],
   "source": [
    "import csv\n",
    "import matplotlib.pyplot as plt\n",
    "import pandas as pd\n",
    "import numpy as np"
   ]
  },
  {
   "cell_type": "code",
   "execution_count": 6,
   "id": "cd2f02c3-37ad-47da-af16-21042830ae00",
   "metadata": {},
   "outputs": [],
   "source": [
    "filename = 'test_measurements/rvtnMeasurementData.csv'\n",
    "df = pd.read_csv(filename)\n",
    "dataId = df.iloc[:, 1].to_numpy()\n",
    "dataVg = df.iloc[:, 0].to_numpy()  "
   ]
  },
  {
   "cell_type": "code",
   "execution_count": 7,
   "id": "9ea7d752-25bc-4144-b9ff-e74a3b5b0873",
   "metadata": {},
   "outputs": [],
   "source": [
    "# Load test data for comparison\n",
    "X_test = np.asarray(np.load('{}/npy/x_{}_test.npy'.format(DATA_DIR, PARAM), allow_pickle=True))"
   ]
  },
  {
   "cell_type": "code",
   "execution_count": 8,
   "id": "6478a91e-dd00-4594-8a4c-4cb69935227d",
   "metadata": {},
   "outputs": [],
   "source": [
    "# Load test data for comparison\n",
    "y_test = np.asarray(np.load('{}/npy/y_{}_test.npy'.format(DATA_DIR, PARAM), allow_pickle=True))"
   ]
  },
  {
   "cell_type": "code",
   "execution_count": 9,
   "id": "583a4e5e-252f-4b9e-a169-3492e542c3ae",
   "metadata": {},
   "outputs": [
    {
     "name": "stdout",
     "output_type": "stream",
     "text": [
      "Measurement Vg 1:  0.1 Training/test Vg 1:  0.1\n",
      "Measurement Vg Len:  301 Training/test Vg Len:  301\n",
      "Measurement Vg 300:  1.0 Training/test Vg 300:  1.0\n"
     ]
    }
   ],
   "source": [
    "# Ensure Vg values are the same as training data\n",
    "print('Measurement Vg 1: ', dataVg[0], 'Training/test Vg 1: ', X_test[0][0][0])\n",
    "print('Measurement Vg Len: ', len(dataVg), 'Training/test Vg Len: ', len(X_test[0][0]))\n",
    "print('Measurement Vg 300: ', dataVg[300], 'Training/test Vg 300: ', X_test[0][0][300])"
   ]
  },
  {
   "cell_type": "markdown",
   "id": "b2e0142c-61e6-4afd-b465-99a4fbb99d7a",
   "metadata": {},
   "source": [
    "### Transform Data"
   ]
  },
  {
   "cell_type": "markdown",
   "id": "57d18ac6-4759-4e5b-ad70-8b421d5f01aa",
   "metadata": {},
   "source": [
    "Here we will set everything below the noise floor to 0, and log scale just like what was done for training data"
   ]
  },
  {
   "cell_type": "code",
   "execution_count": 10,
   "id": "be6fd36a-98e2-49b8-a41e-f3dcdc9fee76",
   "metadata": {},
   "outputs": [
    {
     "data": {
      "text/plain": [
       "'#look at test data prediction\\ntestIndex=2002\\nprint(X_test[testIndex][2])\\ndataId = np.asarray(X_test[testIndex][2])'"
      ]
     },
     "execution_count": 10,
     "metadata": {},
     "output_type": "execute_result"
    }
   ],
   "source": [
    "'''#look at test data prediction\n",
    "testIndex=2002\n",
    "print(X_test[testIndex][2])\n",
    "dataId = np.asarray(X_test[testIndex][2])'''"
   ]
  },
  {
   "cell_type": "code",
   "execution_count": 11,
   "id": "66631c69-0678-47e7-be61-b0c8846a9627",
   "metadata": {},
   "outputs": [],
   "source": [
    "# Set values below measurement noise floor to global_min, So we prepare the model for the input measurement data\n",
    "if MYSTIC_MC:\n",
    "    noiseFloor = -1e-10 #rvtnfets\n",
    "    \n",
    "    # find minimum value for data we want to measure and set that to minimum so it doesnt learn any misleading information\n",
    "    filename = 'test_measurements/rvtnMeasurementData.csv'\n",
    "    df = pd.read_csv(filename)\n",
    "    dataId_meas = df.iloc[:, 1].to_numpy()\n",
    "    \n",
    "    dataId_meas = np.where(dataId_meas < noiseFloor, 0, dataId_meas)\n",
    "    valid_values = dataId_meas[dataId_meas != 0]\n",
    "    global_min = np.min(valid_values)\n",
    " \n",
    "    dataId = np.where(dataId < noiseFloor, global_min, dataId)\n",
    "else:\n",
    "    noiseFloor = 1e-10 #rvtnfets\n",
    "    \n",
    "    # find minimum value for data we want to measure and set that to minimum so it doesnt learn any misleading information\n",
    "    filename = 'test_measurements/rvtnMeasurementData.csv'\n",
    "    df = pd.read_csv(filename)\n",
    "    dataId_meas = df.iloc[:, 1].to_numpy()\n",
    "    \n",
    "    dataId_meas = np.where(dataId_meas < noiseFloor, 0, dataId_meas)\n",
    "    valid_values = dataId_meas[dataId_meas != 0]\n",
    "    global_min = np.min(valid_values)\n",
    " \n",
    "    dataId = np.where(dataId < noiseFloor, global_min, dataId)"
   ]
  },
  {
   "cell_type": "code",
   "execution_count": 12,
   "id": "94fa42f0-daad-4848-985d-721feda8db4c",
   "metadata": {},
   "outputs": [],
   "source": [
    "# Log scale\n",
    "dataId_log = np.log(dataId)"
   ]
  },
  {
   "cell_type": "markdown",
   "id": "90cc7ad7-4425-4aff-8637-f89aa73e9339",
   "metadata": {},
   "source": [
    "### Scale Data"
   ]
  },
  {
   "cell_type": "code",
   "execution_count": 13,
   "id": "2aac7598-448d-49ce-a5ad-f3bb49112b5f",
   "metadata": {},
   "outputs": [
    {
     "name": "stdout",
     "output_type": "stream",
     "text": [
      "importing Jupyter notebook from ml_custom_scaler.ipynb\n"
     ]
    }
   ],
   "source": [
    "# Need to import scaling function, open terminal--> pip install import_ipynb\n",
    "import import_ipynb\n",
    "from ml_custom_scaler import Scaler"
   ]
  },
  {
   "cell_type": "code",
   "execution_count": 14,
   "id": "033e61fa-dfc6-404c-bd6d-3be807fcc418",
   "metadata": {},
   "outputs": [],
   "source": [
    "scaler = Scaler()"
   ]
  },
  {
   "cell_type": "code",
   "execution_count": 15,
   "id": "a0150e13-73e2-4719-837f-db8f71d7ca6d",
   "metadata": {},
   "outputs": [
    {
     "name": "stdout",
     "output_type": "stream",
     "text": [
      "Min Linear: 1e-10\n",
      "Max Linear: 1.983e-05\n",
      "Min Log: -23.025850929940457\n",
      "Max Log: -10.82831461543257\n"
     ]
    }
   ],
   "source": [
    "# Grab scaling Values we used for all of the training data\n",
    "\n",
    "filename = 'scaling_boundaries.txt'\n",
    "with open(filename, 'r') as file:\n",
    "        boundaries = {}\n",
    "        \n",
    "        for line in file:\n",
    "            key_value = line.strip().split(': ')\n",
    "            if len(key_value) == 2:\n",
    "                key = key_value[0] \n",
    "                value = float(key_value[1]) \n",
    "                boundaries[key] = value \n",
    "\n",
    "min_lin = boundaries['min_lin']\n",
    "max_lin = boundaries['max_lin']\n",
    "min_log = boundaries['min_log']\n",
    "max_log = boundaries['max_log']\n",
    "\n",
    "print(\"Min Linear:\", min_lin)\n",
    "print(\"Max Linear:\", max_lin)\n",
    "print(\"Min Log:\", min_log)\n",
    "print(\"Max Log:\", max_log)"
   ]
  },
  {
   "cell_type": "code",
   "execution_count": 16,
   "id": "80c77384-7091-47aa-b783-3ea3cdd03f83",
   "metadata": {},
   "outputs": [
    {
     "name": "stdout",
     "output_type": "stream",
     "text": [
      "Using provided global min: 1e-10\n",
      "Using provided global max: 1.983e-05\n",
      "Using provided global min: -23.025850929940457\n",
      "Using provided global max: -10.82831461543257\n"
     ]
    }
   ],
   "source": [
    "# Use these values to scale the measurement data\n",
    "\n",
    "dataId_scaled, global_min, global_max = scaler.scale(dataId, global_min=float(min_lin), global_max=float(max_lin))\n",
    "dataId_scaled_log, global_min_log, global_max_log = scaler.scale(dataId_log, global_min=float(min_log), global_max=float(max_log))"
   ]
  },
  {
   "cell_type": "code",
   "execution_count": 17,
   "id": "be02c2d7-196a-498f-b97d-88e2dc1f22f5",
   "metadata": {},
   "outputs": [
    {
     "name": "stdout",
     "output_type": "stream",
     "text": [
      "[1.77e-10 1.77e-10 1.77e-10 1.77e-10 1.77e-10 1.77e-10 1.77e-10 1.77e-10\n",
      " 1.77e-10 1.77e-10 1.77e-10 1.77e-10 1.77e-10 1.77e-10 1.77e-10 1.77e-10\n",
      " 1.77e-10 1.77e-10 1.77e-10 1.77e-10 1.77e-10 1.77e-10 1.77e-10 1.77e-10\n",
      " 1.77e-10 1.77e-10 1.77e-10 1.77e-10 1.77e-10 1.77e-10 1.77e-10 1.77e-10\n",
      " 1.77e-10 1.77e-10 1.77e-10 1.77e-10 1.77e-10 1.77e-10 1.77e-10 1.77e-10\n",
      " 1.77e-10 1.77e-10 1.77e-10 1.77e-10 1.77e-10 1.77e-10 1.77e-10 1.77e-10\n",
      " 1.77e-10 1.77e-10 1.77e-10 1.77e-10 1.77e-10 1.77e-10 1.77e-10 1.77e-10\n",
      " 1.77e-10 1.77e-10 1.77e-10 1.77e-10 1.77e-10 1.77e-10 1.77e-10 1.77e-10\n",
      " 1.77e-10 1.77e-10 1.77e-10 1.77e-10 1.77e-10 1.77e-10 1.77e-10 1.77e-10\n",
      " 1.77e-10 1.77e-10 1.77e-10 1.77e-10 1.77e-10 1.77e-10 1.77e-10 1.77e-10\n",
      " 1.77e-10 1.77e-10 1.77e-10 1.77e-10 1.77e-10 1.77e-10 1.77e-10 1.77e-10\n",
      " 1.77e-10 1.77e-10 1.77e-10 1.77e-10 1.77e-10 1.77e-10 1.77e-10 1.77e-10\n",
      " 1.77e-10 1.77e-10 1.77e-10 1.77e-10 1.77e-10 1.77e-10 1.77e-10 1.77e-10\n",
      " 1.77e-10 1.77e-10 1.77e-10 1.77e-10 1.77e-10 1.77e-10 1.77e-10 1.77e-10\n",
      " 1.77e-10 1.77e-10 1.77e-10 1.77e-10 1.77e-10 1.77e-10 1.77e-10 1.77e-10\n",
      " 1.77e-10 1.77e-10 1.77e-10 2.12e-10 4.09e-10 6.10e-10 1.02e-09 1.70e-09\n",
      " 2.36e-09 3.26e-09 4.85e-09 7.08e-09 1.01e-08 1.48e-08 1.96e-08 2.67e-08\n",
      " 3.44e-08 4.46e-08 5.66e-08 7.00e-08 8.64e-08 1.03e-07 1.24e-07 1.48e-07\n",
      " 1.71e-07 2.02e-07 2.32e-07 2.63e-07 3.00e-07 3.38e-07 3.78e-07 4.21e-07\n",
      " 4.70e-07 5.19e-07 5.68e-07 6.28e-07 6.84e-07 7.44e-07 8.05e-07 8.68e-07\n",
      " 9.38e-07 1.01e-06 1.08e-06 1.15e-06 1.24e-06 1.30e-06 1.38e-06 1.46e-06\n",
      " 1.54e-06 1.63e-06 1.71e-06 1.80e-06 1.87e-06 1.97e-06 2.04e-06 2.14e-06\n",
      " 2.22e-06 2.32e-06 2.41e-06 2.50e-06 2.59e-06 2.68e-06 2.78e-06 2.88e-06\n",
      " 2.97e-06 3.07e-06 3.17e-06 3.26e-06 3.36e-06 3.46e-06 3.55e-06 3.64e-06\n",
      " 3.74e-06 3.84e-06 3.94e-06 4.03e-06 4.13e-06 4.22e-06 4.32e-06 4.42e-06\n",
      " 4.52e-06 4.61e-06 4.71e-06 4.80e-06 4.91e-06 5.00e-06 5.10e-06 5.19e-06\n",
      " 5.29e-06 5.40e-06 5.48e-06 5.57e-06 5.67e-06 5.76e-06 5.86e-06 5.96e-06\n",
      " 6.04e-06 6.13e-06 6.24e-06 6.32e-06 6.42e-06 6.51e-06 6.60e-06 6.69e-06\n",
      " 6.78e-06 6.87e-06 6.96e-06 7.05e-06 7.14e-06 7.22e-06 7.31e-06 7.40e-06\n",
      " 7.50e-06 7.58e-06 7.68e-06 7.76e-06 7.84e-06 7.95e-06 8.01e-06 8.12e-06\n",
      " 8.18e-06 8.27e-06 8.35e-06 8.44e-06 8.52e-06 8.61e-06 8.68e-06 8.78e-06\n",
      " 8.85e-06 8.94e-06 9.01e-06 9.08e-06 9.19e-06 9.25e-06 9.36e-06 9.40e-06\n",
      " 9.49e-06 9.56e-06 9.64e-06 9.71e-06 9.79e-06 9.86e-06 9.93e-06 1.00e-05\n",
      " 1.01e-05 1.02e-05 1.02e-05 1.03e-05 1.04e-05 1.04e-05 1.05e-05 1.06e-05\n",
      " 1.06e-05 1.07e-05 1.08e-05 1.09e-05 1.09e-05 1.10e-05 1.10e-05 1.11e-05\n",
      " 1.12e-05 1.12e-05 1.13e-05 1.13e-05 1.14e-05 1.14e-05 1.15e-05 1.15e-05\n",
      " 1.16e-05 1.17e-05 1.17e-05 1.18e-05 1.18e-05 1.19e-05 1.19e-05 1.20e-05\n",
      " 1.21e-05 1.21e-05 1.21e-05 1.22e-05 1.22e-05]\n"
     ]
    }
   ],
   "source": [
    "print(dataId)\n",
    "#none of the training data is this high, there is a problem with the training set"
   ]
  },
  {
   "cell_type": "code",
   "execution_count": 18,
   "id": "2f8a2d30-d497-4822-bfaa-51b5b652ffee",
   "metadata": {},
   "outputs": [
    {
     "data": {
      "image/png": "[encoded data removed]",
      "text/plain": [
       "<Figure size 1000x500 with 4 Axes>"
      ]
     },
     "metadata": {},
     "output_type": "display_data"
    }
   ],
   "source": [
    "# Plot the scaled vs unscaled list \n",
    "# Assuming scaled_x and X_drain_current are pre-defined DataFrames\n",
    "\n",
    "sample_scaled_values_1 = dataId_scaled\n",
    "sample_unscaled_values_1 = dataId\n",
    "\n",
    "# Create a new set of sample data for the second plot\n",
    "sample_scaled_values_2 = dataId_scaled_log\n",
    "sample_unscaled_values_2 = dataId_log\n",
    "\n",
    "fig, (ax1, ax2) = plt.subplots(1, 2, figsize=(10, 5))\n",
    "\n",
    "# First plot\n",
    "line1_1, = ax1.plot(sample_scaled_values_1, marker='o', linestyle='-', color='b', label='Scaled Values Lin')\n",
    "ax1.set_xlabel('Index')\n",
    "ax1.set_ylabel('Scaled Value', color='b')\n",
    "ax1.tick_params(axis='y', labelcolor='b')\n",
    "ax1_twin = ax1.twinx()\n",
    "\n",
    "line1_2, = ax1_twin.plot(sample_unscaled_values_1, marker='s', linestyle='--', color='r', label='Unscaled Values Lin')\n",
    "ax1_twin.set_ylabel('Unscaled Value', color='r')\n",
    "ax1_twin.tick_params(axis='y', labelcolor='r')\n",
    "\n",
    "lines_1 = [line1_1, line1_2]\n",
    "ax1.legend(lines_1, [line.get_label() for line in lines_1], loc='lower right')\n",
    "ax1.set_title('Plot 1: Scaled vs Unscaled at Index')\n",
    "\n",
    "# Second plot\n",
    "line2_1, = ax2.plot(sample_scaled_values_2, marker='o', linestyle='-', color='b', label='Scaled Values Log')\n",
    "ax2.set_xlabel('Index')\n",
    "ax2.set_ylabel('Scaled Value', color='b')\n",
    "ax2.tick_params(axis='y', labelcolor='b')\n",
    "ax2_twin = ax2.twinx()\n",
    "\n",
    "line2_2, = ax2_twin.plot(sample_unscaled_values_2, marker='s', linestyle='--', color='r', label='Unscaled Values Log')\n",
    "ax2_twin.set_ylabel('Unscaled Value', color='r')\n",
    "ax2_twin.tick_params(axis='y', labelcolor='r')\n",
    "\n",
    "lines_2 = [line2_1, line2_2]\n",
    "ax2.legend(lines_2, [line.get_label() for line in lines_2], loc='lower right')\n",
    "ax2.set_title('Plot 2: Scaled vs Unscaled')\n",
    "\n",
    "plt.tight_layout()\n",
    "plt.suptitle('Comparison of Scaled and Unscaled Values')\n",
    "plt.subplots_adjust(top=0.85)  \n",
    "plt.show()"
   ]
  },
  {
   "cell_type": "code",
   "execution_count": 19,
   "id": "e8b5c7d1-fae0-4528-9f1e-e7434d4822a2",
   "metadata": {},
   "outputs": [
    {
     "name": "stdout",
     "output_type": "stream",
     "text": [
      "(602,)\n"
     ]
    }
   ],
   "source": [
    "# Append log scale to end of lin scale data\n",
    "lin_log_measurements = np.concatenate([dataId_scaled, dataId_scaled_log])\n",
    "print(lin_log_measurements.shape)"
   ]
  },
  {
   "cell_type": "markdown",
   "id": "df8cb12d-2f3a-4a81-a324-4b283fc0b9ec",
   "metadata": {},
   "source": [
    "## Predict"
   ]
  },
  {
   "cell_type": "code",
   "execution_count": 24,
   "id": "55652744-54fa-466d-a9c1-3a3dbb6a1c0c",
   "metadata": {},
   "outputs": [
    {
     "name": "stdout",
     "output_type": "stream",
     "text": [
      "1/1 [==============================] - 0s 23ms/step\n",
      "phig1: 1.0104814767837524     \n",
      "u0: 2.406674385070801     \n",
      "eu: 1.1954388618469238     \n",
      "ucs: 5.00709867477417     \n",
      "ua: 0.6004907488822937     \n",
      "ud: 1.404405117034912     \n",
      "prwg: 0.2073180228471756     \n",
      "cit: 26.513309478759766     \n",
      "rdw: 2.639683723449707     \n",
      "rsw: 2.6400387287139893     \n"
     ]
    }
   ],
   "source": [
    "# We passed the training data with 2 2d array with a bunch of datasets, so here we can also pass many sets, but we only have one for now. Reshape \n",
    "lin_log_measurements = np.array(lin_log_measurements).reshape(-1, 602)\n",
    "\n",
    "predictions = model.predict(lin_log_measurements)\n",
    "\n",
    "params = ['phig1', 'u0', 'eu', 'ucs', 'ua', 'ud', 'prwg', 'cit', 'rdw', 'rsw']\n",
    "for i in range(0, len(params)):\n",
    "    print(f\"{params[i]}: {predictions[0][i]}     \")#Actual: {y_test[testIndex][i]}"
   ]
  },
  {
   "cell_type": "markdown",
   "id": "5bc40ef6-c2c6-4e29-bd4e-fa592cf366d5",
   "metadata": {},
   "source": [
    "### Plot Simulation Using Predictions"
   ]
  },
  {
   "cell_type": "markdown",
   "id": "62807d64-2d81-44d2-b0b9-90df0988f915",
   "metadata": {},
   "source": [
    "BSIMIMG not supported in ngspice. For now, plug values into PDK and simulate in HSPICE. Copy back Id values to test_measurements/testPredictionValues"
   ]
  },
  {
   "cell_type": "markdown",
   "id": "864fb102-8c9e-4b35-9567-272884d5575c",
   "metadata": {},
   "source": [
    "brew info ngspice --> Look at output of this command and install needed dependencies\n",
    "\n",
    "brew install ngspice\n",
    "\n",
    "pip install PySpice"
   ]
  },
  {
   "cell_type": "code",
   "execution_count": 26,
   "id": "ad750005-bb2e-4bbe-b5b9-595aa341dccf",
   "metadata": {},
   "outputs": [
    {
     "data": {
      "image/png": "[encoded data removed]",
      "text/plain": [
       "<Figure size 640x480 with 1 Axes>"
      ]
     },
     "metadata": {},
     "output_type": "display_data"
    }
   ],
   "source": [
    "filename2 = 'test_measurements/predictionTestCurve.csv'\n",
    "df2 = pd.read_csv(filename2)\n",
    "predictedId = df2.iloc[:, 1].to_numpy()\n",
    "predictedVg = df2.iloc[:, 0].to_numpy()\n",
    "predictedId = np.where(abs(predictedId) < noiseFloor, global_min, predictedId)\n",
    "\n",
    "filename = 'test_measurements/rvtnMeasurementData.csv' #actualTestCurve.csv\n",
    "df2 = pd.read_csv(filename)\n",
    "actualId = df2.iloc[:, 1].to_numpy()\n",
    "actualVg = df2.iloc[:, 0].to_numpy()\n",
    "actualId = np.where(abs(actualId) < noiseFloor, global_min, actualId)\n",
    "\n",
    "\n",
    "fig = plt.figure()\n",
    "plt.plot(actualVg, [abs(val) for val in actualId], label = 'actual')\n",
    "plt.plot(predictedVg, [abs(val) for val in predictedId], label = 'predicted')\n",
    "plt.legend(loc = 'best')\n",
    "#plt.yscale('log')\n",
    "plt.show()"
   ]
  },
  {
   "cell_type": "code",
   "execution_count": 24,
   "id": "2aadde43-8aad-4292-bc29-9292e55c996b",
   "metadata": {},
   "outputs": [
    {
     "name": "stdout",
     "output_type": "stream",
     "text": [
      "Error: bad set form in line\n",
      "    sourcepath = ( . /usr/local/Cellar/ngspice/43/share/ngspice/scripts /usr/local/Cellar/ngspice/43/share/ngspice/scripts test_measurements /Users/olivias-local/cryo_modelling/test_measurements/HSPICE /Users/olivias-local/cryo_modelling/test_measurements/HSPICE /Users/olivias-local/cryo_modelling/test_measurements/HSPICE /Users/olivias-local/cryo_modelling/test_measurements/HSPICE /Users/olivias-local/cryo_modelling/test_measurements/HSPICE /Users/olivias-local/cryo_modelling/test_measurements/HSPICE /Users/Error: bad set form in line\n",
      "    sourcepath = ( . /usr/local/Cellar/ngspice/43/share/ngspice/scripts /usr/local/Cellar/ngspice/43/share/ngspice/scripts test_measurements /Users/olivias-local/cryo_modelling/test_measurements/HSPICE /Users/olivias-local/cryo_modelling/test_measurements/HSPICE /Users/olivias-local/cryo_modelling/test_measurements/HSPICE /Users/olivias-local/cryo_modelling/test_measurements/HSPICE /Users/olivias-local/cryo_modelling/test_measurements/HSPICE /Users/olivias-local/cryo_modelling/test_measurements/HSPICE /Users/Error: bad set form in line\n",
      "    sourcepath = ( . /usr/local/Cellar/ngspice/43/share/ngspice/scripts /usr/local/Cellar/ngspice/43/share/ngspice/scripts test_measurements /Users/olivias-local/cryo_modelling/test_measurements/HSPICE /Users/olivias-local/cryo_modelling/test_measurements/HSPICE /Users/olivias-local/cryo_modelling/test_measurements/HSPICE /Users/olivias-local/cryo_modelling/test_measurements/HSPICE /Users/olivias-local/cryo_modelling/test_measurements/HSPICE /Users/olivias-local/cryo_modelling/test_measurements/HSPICE /Users/Error: bad set form in line\n",
      "    sourcepath = ( . /usr/local/Cellar/ngspice/43/share/ngspice/scripts /usr/local/Cellar/ngspice/43/share/ngspice/scripts test_measurements /Users/olivias-local/cryo_modelling/test_measurements/HSPICE /Users/olivias-local/cryo_modelling/test_measurements/HSPICE /Users/olivias-local/cryo_modelling/test_measurements/HSPICE /Users/olivias-local/cryo_modelling/test_measurements/HSPICE /Users/olivias-local/cryo_modelling/test_measurements/HSPICE /Users/olivias-local/cryo_modelling/test_measurements/HSPICE /Users/Error: bad set form in line\n",
      "    sourcepath = ( . /usr/local/Cellar/ngspice/43/share/ngspice/scripts /usr/local/Cellar/ngspice/43/share/ngspice/scripts test_measurements /Users/olivias-local/cryo_modelling/test_measurements/HSPICE /Users/olivias-local/cryo_modelling/test_measurements/HSPICE /Users/olivias-local/cryo_modelling/test_measurements/HSPICE /Users/olivias-local/cryo_modelling/test_measurements/HSPICE /Users/olivias-local/cryo_modelling/test_measurements/HSPICE /Users/olivias-local/cryo_modelling/test_measurements/HSPICE /Users/Error: bad set form in line\n",
      "    sourcepath = ( . /usr/local/Cellar/ngspice/43/share/ngspice/scripts /usr/local/Cellar/ngspice/43/share/ngspice/scripts test_measurements /Users/olivias-local/cryo_modelling/test_measurements/HSPICE /Users/olivias-local/cryo_modelling/test_measurements/HSPICE /Users/olivias-local/cryo_modelling/test_measurements/HSPICE /Users/olivias-local/cryo_modelling/test_measurements/HSPICE /Users/olivias-local/cryo_modelling/test_measurements/HSPICE /Users/olivias-local/cryo_modelling/test_measurements/HSPICE /Users/Error: bad set form in line\n",
      "    sourcepath = ( . /usr/local/Cellar/ngspice/43/share/ngspice/scripts /usr/local/Cellar/ngspice/43/share/ngspice/scripts test_measurements /Users/olivias-local/cryo_modelling/test_measurements/HSPICE /Users/olivias-local/cryo_modelling/test_measurements/HSPICE /Users/olivias-local/cryo_modelling/test_measurements/HSPICE /Users/olivias-local/cryo_modelling/test_measurements/HSPICE /Users/olivias-local/cryo_modelling/test_measurements/HSPICE /Users/olivias-local/cryo_modelling/test_measurements/HSPICE /Users/Error: bad set form in line\n",
      "    sourcepath = ( . /usr/local/Cellar/ngspice/43/share/ngspice/scripts /usr/local/Cellar/ngspice/43/share/ngspice/scripts test_measurements /Users/olivias-local/cryo_modelling/test_measurements/HSPICE /Users/olivias-local/cryo_modelling/test_measurements/HSPICE /Users/olivias-local/cryo_modelling/test_measurements/HSPICE /Users/olivias-local/cryo_modelling/test_measurements/HSPICE /Users/olivias-local/cryo_modelling/test_measurements/HSPICE /Users/olivias-local/cryo_modelling/test_measurements/HSPICE /Users/\n",
      "Note: No compatibility mode selected!\n",
      "\n",
      "\n",
      "Circuit: *** netlist for printing simulated warm eglvtnfet data ***\n",
      "\n",
      "Error: unknown subckt: x1.xesd_eglvtnfet_ds d g x1.p b x1.esdnsh x1.lesd={l} x1.wesd={w} x1.nf={nf} x1.esdoxide=2 x1.ldop=1e-16 lsop=0\n",
      "    Simulation interrupted due to error!\n",
      "\n",
      "Note: No \".plot\", \".print\", or \".fourier\" lines; no simulations run\n"
     ]
    }
   ],
   "source": [
    "! ngspice -b test_measurements/netlist_eglvt.sp"
   ]
  },
  {
   "cell_type": "code",
   "execution_count": 20,
   "id": "4bab2178-acbf-4140-a9cb-301d62406f7c",
   "metadata": {},
   "outputs": [
    {
     "name": "stdout",
     "output_type": "stream",
     "text": [
      "PySpice version: 1.5\n"
     ]
    }
   ],
   "source": [
    "import PySpice\n",
    "print(\"PySpice version:\", PySpice.__version__)"
   ]
  }
 ],
 "metadata": {
  "kernelspec": {
   "display_name": "Python 3 (ipykernel)",
   "language": "python",
   "name": "python3"
  },
  "language_info": {
   "codemirror_mode": {
    "name": "ipython",
    "version": 3
   },
   "file_extension": ".py",
   "mimetype": "text/x-python",
   "name": "python",
   "nbconvert_exporter": "python",
   "pygments_lexer": "ipython3",
   "version": "3.10.15"
  }
 },
 "nbformat": 4,
 "nbformat_minor": 5
}
